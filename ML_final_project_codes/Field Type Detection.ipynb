{
 "cells": [
  {
   "cell_type": "markdown",
   "metadata": {},
   "source": [
    "# Form Field Type Detection Using Machine Learning"
   ]
  },
  {
   "cell_type": "code",
   "execution_count": 1,
   "metadata": {
    "collapsed": false
   },
   "outputs": [],
   "source": [
    "%matplotlib inline\n",
    "import matplotlib.pyplot as plt\n",
    "plt.style.use('ggplot')"
   ]
  },
  {
   "cell_type": "code",
   "execution_count": 2,
   "metadata": {
    "collapsed": false
   },
   "outputs": [],
   "source": [
    "import re\n",
    "from itertools import chain\n",
    "from collections import Counter\n",
    "\n",
    "import numpy as np\n",
    "import scipy.stats\n",
    "from sklearn.metrics import confusion_matrix, accuracy_score, classification_report\n",
    "from sklearn.grid_search import RandomizedSearchCV\n",
    "from sklearn_crfsuite.metrics import flat_classification_report, sequence_accuracy_score\n",
    "from sklearn_crfsuite import scorers\n",
    "from sklearn_crfsuite import CRF\n",
    "\n",
    "from formasaurus.annotation import get_annotation_folds\n",
    "from formasaurus.storage import Storage\n",
    "from formasaurus import formtype_model, fieldtype_model"
   ]
  },
  {
   "cell_type": "markdown",
   "metadata": {},
   "source": [
    "## Loading dataset"
   ]
  },
  {
   "cell_type": "code",
   "execution_count": 3,
   "metadata": {
    "collapsed": false
   },
   "outputs": [],
   "source": [
    "storage = Storage('C:/Users/raoumer/Desktop/form_classifier_ml/data')\n",
    "index = storage.get_index()\n",
    "field_schema = storage.get_field_schema()\n",
    "form_schema = storage.get_form_schema()"
   ]
  },
  {
   "cell_type": "code",
   "execution_count": 4,
   "metadata": {
    "collapsed": false
   },
   "outputs": [
    {
     "data": {
      "text/plain": [
       "(1355, 1418)"
      ]
     },
     "execution_count": 4,
     "metadata": {},
     "output_type": "execute_result"
    }
   ],
   "source": [
    "_ann_iter = storage.iter_annotations(\n",
    "    index=index, \n",
    "    simplify_form_types=True,\n",
    "    simplify_field_types=True\n",
    ")\n",
    "\n",
    "annotations_all = list(a for a in _ann_iter if True)\n",
    "annotations_complete = [a for a in annotations_all if a.fields_annotated]\n",
    "len(annotations_complete), len(annotations_all)"
   ]
  },
  {
   "cell_type": "markdown",
   "metadata": {},
   "source": [
    "The model is two-stage:\n",
    "\n",
    "1. First, we train Formasaurus form type detector.\n",
    "2. Second, we use form type detector results to improve quality of field type detection.\n",
    "\n",
    "We have form types available directly in training data, but in reality form type detecor will make mistakes. It is better for field type detector to account for this and not rely on form types blindly. So it should be trained on input where form type detection quality is roughly the same it'll be in real life. \n",
    "\n",
    "To get 'realistic' form type labels we split data into 10 folds, and then for each fold we predict its labels using form type detector trained on the rest 9 folds."
   ]
  },
  {
   "cell_type": "code",
   "execution_count": 5,
   "metadata": {
    "collapsed": false
   },
   "outputs": [
    {
     "name": "stdout",
     "output_type": "stream",
     "text": [
      "Wall time: 12.8 s\n"
     ]
    }
   ],
   "source": [
    "%%time\n",
    "form_types_realistic = formtype_model.get_realistic_form_labels(annotations_complete, n_folds=10)"
   ]
  },
  {
   "cell_type": "code",
   "execution_count": 6,
   "metadata": {
    "collapsed": false
   },
   "outputs": [
    {
     "data": {
      "text/plain": [
       "u'contact/comment'"
      ]
     },
     "execution_count": 6,
     "metadata": {},
     "output_type": "execute_result"
    }
   ],
   "source": [
    "form_types_realistic[100]"
   ]
  },
  {
   "cell_type": "code",
   "execution_count": 7,
   "metadata": {
    "collapsed": false
   },
   "outputs": [
    {
     "data": {
      "text/plain": [
       "0.8929889298892989"
      ]
     },
     "execution_count": 7,
     "metadata": {},
     "output_type": "execute_result"
    }
   ],
   "source": [
    "form_types_correct = np.asarray([a.type_full for a in annotations_complete])\n",
    "accuracy_score(form_types_correct, form_types_realistic)"
   ]
  },
  {
   "cell_type": "markdown",
   "metadata": {},
   "source": [
    "## Train / Test Data"
   ]
  },
  {
   "cell_type": "markdown",
   "metadata": {},
   "source": [
    "Prepare training/testing data for field type detection. We use 1/4 (25%) of data for testing."
   ]
  },
  {
   "cell_type": "code",
   "execution_count": 8,
   "metadata": {
    "collapsed": false
   },
   "outputs": [
    {
     "name": "stdout",
     "output_type": "stream",
     "text": [
      "(1016, 339)\n",
      "Wall time: 1.82 s\n"
     ]
    }
   ],
   "source": [
    "%%time\n",
    "def get_annotation_train_test_indices(annotations, n_folds=4):\n",
    "    \"\"\"\n",
    "    Split annotations into train and test parts, return train and test indices.\n",
    "    The size of test part is approximately ``len(annotations)/n_folds``.\n",
    "    it is guaranteed forms from the same website can't be both\n",
    "    in train and test parts.\n",
    "    \"\"\"\n",
    "    for idx_train, idx_test in get_annotation_folds(annotations, n_folds):\n",
    "        break\n",
    "    return idx_train, idx_test\n",
    "\n",
    "def select_by_index(arr, index):\n",
    "    \"\"\"\n",
    "    Like numpy indexing, but for lists. This is for cases\n",
    "    conversion to numpy array is problematic.\n",
    "\n",
    "    >>> select_by_index(['a', 'b', 'c', 'd'], [0, 3])\n",
    "    ['a', 'd']\n",
    "    \"\"\"\n",
    "    return [arr[i] for i in index]\n",
    "\n",
    "idx_train, idx_test = get_annotation_train_test_indices(annotations_complete, 4)\n",
    "\n",
    "annotations_train = select_by_index(annotations_complete, idx_train)\n",
    "annotations_test = select_by_index(annotations_complete, idx_test)\n",
    "\n",
    "# form_types_train = form_types_realistic[idx_train]\n",
    "form_types_train = form_types_correct[idx_train]\n",
    "form_types_test = form_types_realistic[idx_test]\n",
    "\n",
    "X_train, y_train = fieldtype_model.get_Xy(annotations_train, form_types_train, full_type_names=True)\n",
    "X_test, y_test = fieldtype_model.get_Xy(annotations_test, form_types_test, full_type_names=True)\n",
    "X, y = X_train + X_test, y_train + y_test\n",
    "print(len(X_train), len(X_test))\n",
    "\n",
    "#print \"X:\",X\n",
    "#print \"y\",y"
   ]
  },
  {
   "cell_type": "markdown",
   "metadata": {},
   "source": [
    "## Optimal Parameter Selection Using `RandomizedSearchCV`"
   ]
  },
  {
   "cell_type": "markdown",
   "metadata": {},
   "source": [
    "Find regularization parameters for field type detector using randomized search. \n",
    "We're optimizing for weighted average of F1 metric. Only training data is used; 5-fold cross-validation is performed at each iteration."
   ]
  },
  {
   "cell_type": "code",
   "execution_count": 9,
   "metadata": {
    "collapsed": false,
    "scrolled": true
   },
   "outputs": [
    {
     "name": "stdout",
     "output_type": "stream",
     "text": [
      "Wall time: 27 ms\n"
     ]
    }
   ],
   "source": [
    "%%time\n",
    "params_space = {\n",
    "    'c1': scipy.stats.expon(scale=0.5),\n",
    "    'c2': scipy.stats.expon(scale=0.05),\n",
    "#     'max_iterations': [25, 30, 35, 100]\n",
    "#     'min_freq': [None, 2],\n",
    "}\n",
    "\n",
    "crf = CRF(all_possible_transitions=True, max_iterations=100)\n",
    "rs = RandomizedSearchCV(crf, params_space, \n",
    "    cv=get_annotation_folds(annotations_train, 5), \n",
    "    verbose=1, \n",
    "    n_jobs=-1, \n",
    "    n_iter=50,\n",
    "    iid=False, \n",
    "    scoring=scorers.sequence_accuracy #fieldtype_model.scorer\n",
    ")"
   ]
  },
  {
   "cell_type": "code",
   "execution_count": 13,
   "metadata": {
    "collapsed": false
   },
   "outputs": [
    {
     "name": "stdout",
     "output_type": "stream",
     "text": [
      "[{'help': ['search'], 'tag': 'input', 'text-after': [], 'input-type': 'text', 'id': ['search_field'], 'is-last': True, 'name': ['q'], 'value-ngrams': [], 'text-before': [], 'form-type': u'search', 'css-class-ngrams': [], 'value': [], 'id-ngrams': ['sear', 'earc', 'arch', 'rch_', 'ch_f', 'h_fi', '_fie', 'fiel', 'ield'], 'is-first': True, 'bias': 1, 'name-ngrams-3-5': []}] 1016\n",
      "[u'search query'] 1016\n"
     ]
    }
   ],
   "source": [
    "print X_train[0], len(X_train)\n",
    "print y_train[0], len(y_train)"
   ]
  },
  {
   "cell_type": "code",
   "execution_count": 11,
   "metadata": {
    "collapsed": false
   },
   "outputs": [
    {
     "name": "stdout",
     "output_type": "stream",
     "text": [
      "Fitting 5 folds for each of 50 candidates, totalling 250 fits\n"
     ]
    },
    {
     "name": "stderr",
     "output_type": "stream",
     "text": [
      "[Parallel(n_jobs=-1)]: Done  34 tasks      | elapsed:  1.4min\n",
      "[Parallel(n_jobs=-1)]: Done 184 tasks      | elapsed:  7.0min\n",
      "[Parallel(n_jobs=-1)]: Done 250 out of 250 | elapsed:  9.5min finished\n"
     ]
    },
    {
     "data": {
      "text/plain": [
       "RandomizedSearchCV(cv=sklearn.cross_validation.LabelKFold(n_labels=1016, n_folds=5),\n",
       "          error_score='raise',\n",
       "          estimator=CRF(algorithm=None, all_possible_states=None, all_possible_transitions=True,\n",
       "  averaging=None, c=None, c1=None, c2=None, calibration_candidates=None,\n",
       "  calibration_eta=None, calibration_max_trials=None, calibration_rate=None,\n",
       "  calibration_samples=None, delta=None, epsilon=None, error_sens...e,\n",
       "  num_memories=None, pa_type=None, period=None, trainer_cls=None,\n",
       "  variance=None, verbose=False),\n",
       "          fit_params={}, iid=False, n_iter=50, n_jobs=-1,\n",
       "          param_distributions={'c2': <scipy.stats._distn_infrastructure.rv_frozen object at 0x000000001A089CC0>, 'c1': <scipy.stats._distn_infrastructure.rv_frozen object at 0x000000001A089E48>},\n",
       "          pre_dispatch='2*n_jobs', random_state=None, refit=True,\n",
       "          scoring=make_scorer(sequence_accuracy_score), verbose=1)"
      ]
     },
     "execution_count": 11,
     "metadata": {},
     "output_type": "execute_result"
    }
   ],
   "source": [
    "rs.fit(X_train, y_train)"
   ]
  },
  {
   "cell_type": "code",
   "execution_count": 14,
   "metadata": {
    "collapsed": false
   },
   "outputs": [
    {
     "name": "stdout",
     "output_type": "stream",
     "text": [
      "('best params:', {'c2': 0.018810789758563505, 'c1': 0.06520442886522007})\n",
      "('best score:', 0.7716748768472905)\n"
     ]
    }
   ],
   "source": [
    "crf = rs.best_estimator_\n",
    "print('best params:', rs.best_params_)\n",
    "print('best score:', rs.best_score_)"
   ]
  },
  {
   "cell_type": "code",
   "execution_count": 15,
   "metadata": {
    "collapsed": false
   },
   "outputs": [
    {
     "data": {
      "text/plain": [
       "({'c1': 0.06520442886522007, 'c2': 0.018810789758563505}, 0.85956006768189508)"
      ]
     },
     "execution_count": 15,
     "metadata": {},
     "output_type": "execute_result"
    }
   ],
   "source": [
    "rs.best_params_, crf.score(X_test, y_test)"
   ]
  },
  {
   "cell_type": "markdown",
   "metadata": {},
   "source": [
    "## Train Model"
   ]
  },
  {
   "cell_type": "code",
   "execution_count": 17,
   "metadata": {
    "collapsed": false
   },
   "outputs": [
    {
     "name": "stdout",
     "output_type": "stream",
     "text": [
      "Wall time: 6.37 s\n"
     ]
    }
   ],
   "source": [
    "%%time\n",
    "crf = rs.best_estimator_\n",
    "crf.fit(X_train, y_train)\n",
    "crf.score(X_test, y_test)"
   ]
  },
  {
   "cell_type": "markdown",
   "metadata": {},
   "source": [
    "## Test Model"
   ]
  },
  {
   "cell_type": "code",
   "execution_count": 18,
   "metadata": {
    "collapsed": false
   },
   "outputs": [
    {
     "name": "stdout",
     "output_type": "stream",
     "text": [
      "[['search query'], ['search query'], ['username', 'password', 'password confirmation', 'email', 'captcha'], ['username', 'password'], ['email', 'captcha'], ['comment title or subject', 'comment text', 'captcha'], ['search query'], ['other'], ['other'], ['remember me checkbox', 'submit button'], ['search query'], ['username or email', 'submit button'], ['search category / refinement', 'search category / refinement', 'search category / refinement', 'search query', 'submit button'], ['search category / refinement', 'search category / refinement', 'search category / refinement', 'search query', 'submit button'], ['full name', 'email', 'comment text'], ['search query'], ['search query'], ['sorting option', 'sorting option', 'sorting option', 'submit button'], ['other'], ['search query', 'submit button'], ['email'], ['search query'], ['search query'], ['email', 'comment text', 'email'], ['email', 'comment text', 'email'], ['email', 'password', 'remember me checkbox', 'submit button'], ['email'], ['first name', 'last name', 'email', 'password', 'password confirmation', 'postal code', 'other', 'gender', 'gender', 'year', 'other', 'submit button'], ['email', 'password', 'remember me checkbox', 'submit button'], ['search query'], ['email'], ['email'], ['email', 'password'], ['search query'], ['search query'], ['other', 'other', 'other', 'postal code', 'email', 'receive emails confirmation'], ['search query'], ['other', 'other', 'other', 'other', 'phone', 'email', 'submit button'], ['full name', 'full name', 'email', 'other', 'other', 'other', 'other', 'comment text', 'other', 'other'], ['other', 'other', 'other', 'other', 'phone', 'email', 'submit button'], ['email', 'first name', 'last name', 'organization name', 'other'], ['search query'], ['full name', 'other', 'other', 'other', 'other', 'phone', 'email', 'other', 'other', 'other', 'other', 'other', 'other', 'other', 'comment text'], ['email', 'username', 'password'], ['search query'], ['email', 'postal code'], ['search query'], ['email', 'password', 'full name', 'country', 'postal code', 'other', 'other', 'other', 'other', 'other', 'other', 'other', 'other'], ['username or email', 'email', 'postal code'], ['search query', 'search category / refinement', 'search category / refinement', 'full date', 'full date', 'search category / refinement', 'search category / refinement', 'search category / refinement', 'search category / refinement', 'search category / refinement', 'search category / refinement', 'search category / refinement'], ['search query'], ['comment text'], ['other'], ['other', 'other'], ['email', 'password'], ['email', 'captcha'], ['email'], ['email', 'password', 'captcha'], ['search query'], ['full name', 'email', 'phone', 'other', 'other', 'other', 'comment text', 'captcha', 'other'], ['search query'], ['email', 'password', 'submit button'], ['email', 'submit button'], ['email', 'password', 'first name', 'last name', 'state', 'city', 'city', 'other', 'phone', 'answer to security question', 'receive emails confirmation', 'TOS confirmation', 'submit button'], ['full name', 'email', 'phone', 'city', 'comment text', 'TOS confirmation', 'submit button'], ['email'], ['search query'], ['search category / refinement', 'search category / refinement', 'search category / refinement', 'search category / refinement', 'search category / refinement', 'search category / refinement'], ['submit button'], ['username', 'password', 'other read-only', 'remember me checkbox'], ['search query', 'submit button'], ['search query'], ['email'], ['style select', 'other'], ['username', 'password', 'password confirmation', 'email', 'email confirmation', 'captcha', 'other', 'other', 'time zone', 'DST', 'receive emails confirmation', 'receive emails confirmation', 'other', 'other', 'TOS confirmation', 'reset/clear button'], ['search category / refinement', 'search category / refinement', 'search category / refinement', 'search category / refinement', 'search category / refinement', 'search category / refinement', 'search category / refinement', 'search category / refinement', 'search category / refinement', 'search category / refinement', 'search query', 'search category / refinement', 'search query', 'search category / refinement', 'search query', 'submit button', 'search category / refinement', 'search category / refinement', 'search category / refinement', 'search category / refinement', 'search query', 'submit button'], ['search query'], ['search query'], ['email', 'submit button'], ['full name', 'other', 'email', 'comment text', 'captcha'], ['search query'], ['full name', 'email', 'comment title or subject', 'comment text'], ['search query'], ['first name', 'last name', 'comment title or subject', 'organization name', 'address', 'address', 'city', 'state', 'postal code', 'country', 'email', 'phone', 'captcha', 'submit button'], ['search query'], ['sorting option', 'sorting option'], ['search category / refinement', 'product quantity', 'submit button'], ['username', 'remember me checkbox', 'password'], ['style select', 'other'], ['search query'], ['username', 'password'], ['style select'], ['username', 'password', 'remember me checkbox'], ['search query'], ['username', 'email', 'email confirmation', 'password', 'password confirmation', 'gender', 'gender', 'gender', 'other', 'other', 'other', 'other', 'captcha'], ['style select'], ['username', 'password', 'remember me checkbox'], ['search query', 'search category / refinement'], ['username', 'password', 'submit button'], ['other', 'other', 'other', 'other', 'other', 'other'], ['username', 'email', 'submit button'], ['username', 'password', 'remember me checkbox', 'other', 'submit button'], ['search query'], ['username or email', 'password', 'remember me checkbox'], ['email'], ['email'], ['email'], ['full name', 'email', 'comment text'], ['username', 'full name', 'email', 'password', 'other', 'organization name', 'url', 'country'], ['username', 'password', 'submit button'], ['username', 'first name', 'last name', 'email', 'password', 'password confirmation', 'other', 'address', 'address', 'captcha', 'address', 'address', 'address', 'address', 'address', 'other', 'other', 'other', 'other', 'other', 'other', 'comment text'], ['search query'], ['search query'], ['search query'], ['full name', 'email', 'comment title or subject', 'comment text'], ['full name', 'email', 'comment title or subject', 'comment text'], ['search query'], ['email', 'submit button', 'submit button'], ['search query'], ['username', 'email', 'password', 'password confirmation', 'first name', 'last name', 'other', 'other', 'other', 'submit button'], ['search query'], ['username', 'password', 'submit button'], ['search query', 'submit button'], ['full name', 'email', 'comment title or subject', 'comment title or subject', 'comment title or subject', 'comment title or subject', 'comment text'], ['email', 'password', 'submit button'], ['search query'], ['email'], ['gender', 'gender', 'other', 'other', 'username', 'first name', 'organization name', 'other', 'address', 'username', 'city', 'postal code', 'search category / refinement', 'other', 'phone', 'fax', 'email', 'full date', 'full date', 'full date', 'other', 'other', 'TOS confirmation', 'TOS confirmation'], ['email', 'password', 'submit button'], ['search query'], ['email'], ['username', 'password', 'remember me checkbox'], ['search query', 'search category / refinement'], ['username', 'password'], ['username', 'password', 'remember me checkbox'], ['other', 'other', 'email', 'other', 'other', 'other'], ['username', 'password', 'submit button'], ['full name', 'email', 'submit button'], ['search query'], ['search category / refinement'], ['search query', 'submit button'], ['full name', 'email', 'comment title or subject', 'comment text', 'captcha'], ['search query'], ['search query'], ['email'], ['search query'], ['search query'], ['email'], ['email'], ['email', 'password'], ['other', 'email', 'comment text'], ['search query'], ['email'], ['search query', 'search query'], ['last name', 'first name', 'last name', 'phone', 'email', 'password', 'password confirmation', 'other', 'other', 'first name', 'last name', 'address', 'postal code', 'city', 'country', 'TOS confirmation'], ['username', 'email', 'password'], ['search query'], ['username', 'email'], ['other', 'product quantity'], ['full name', 'full name', 'email', 'comment title or subject', 'comment text'], ['search query', 'submit button'], ['username', 'email', 'password', 'password confirmation', 'captcha', 'city', 'other', 'other', 'other', 'other', 'other', 'other', 'other', 'other', 'other', 'other', 'other', 'submit button'], ['username', 'password', 'remember me checkbox', 'submit button'], ['search category / refinement', 'search category / refinement'], ['search category / refinement', 'search category / refinement'], ['username', 'password', 'submit button'], ['email'], ['full name', 'email', 'password', 'password confirmation'], ['email', 'password', 'remember me checkbox'], ['email'], ['full name', 'email', 'comment text'], ['search query', 'search category / refinement'], ['username', 'password'], ['email'], ['username', 'email', 'password'], ['email'], ['email'], ['full name', 'email', 'phone', 'comment text', 'captcha'], ['search query'], ['email', 'password'], ['first name', 'last name', 'gender', 'month', 'day', 'year', 'email', 'phone', 'password', 'password confirmation', 'TOS confirmation'], ['email', 'captcha'], ['comment title or subject', 'other', 'other', 'other', 'other', 'other', 'other', 'other', 'comment text', 'comment text', 'comment text', 'full name', 'email', 'comment title or subject', 'comment title or subject', 'year', 'captcha'], ['email', 'submit button'], ['full name', 'email', 'phone', 'comment text', 'submit button'], ['search category / refinement', 'search category / refinement', 'search category / refinement', 'search category / refinement', 'search category / refinement', 'search category / refinement', 'search category / refinement', 'search category / refinement', 'search category / refinement', 'search category / refinement', 'search category / refinement', 'search category / refinement', 'search category / refinement'], ['search query'], ['search query'], ['email', 'password', 'submit button', 'remember me checkbox'], ['email', 'submit button'], ['email', 'username', 'password', 'password confirmation', 'gender', 'gender', 'other', 'other', 'submit button'], ['search query'], ['search query'], ['search query'], ['search query'], ['search query'], ['search query'], ['search query'], ['full name', 'captcha', 'comment text'], ['search query'], ['full name', 'other', 'full name', 'other', 'other', 'comment text', 'other', 'other', 'captcha', 'full date', 'other', 'full date', 'comment text', 'captcha'], ['email', 'password', 'remember me checkbox'], ['email', 'username', 'password', 'password confirmation', 'captcha'], ['email'], ['full name', 'email', 'comment title or subject', 'comment text'], ['other', 'other', 'other', 'other', 'other', 'other', 'other', 'other', 'other', 'other', 'other', 'other', 'other'], ['search query'], ['email', 'password'], ['email'], ['first name', 'last name', 'email', 'postal code', 'other', 'other'], ['email'], ['product quantity'], ['search query'], ['first name', 'last name', 'email', 'email confirmation', 'password', 'password confirmation', 'receive emails confirmation', 'other', 'other', 'other'], ['email', 'other', 'postal code'], ['email', 'password', 'remember me checkbox'], ['search query'], ['email', 'password', 'remember me checkbox'], ['search query'], ['other', 'other', 'submit button'], ['search query'], ['username', 'password', 'other read-only', 'remember me checkbox'], ['search query', 'submit button'], ['style select'], ['username', 'password', 'other read-only', 'remember me checkbox'], ['username', 'password', 'password confirmation', 'email', 'email confirmation', 'captcha', 'other', 'time zone', 'DST', 'receive emails confirmation', 'receive emails confirmation', 'about me text', 'TOS confirmation', 'reset/clear button'], ['style select'], ['full name', 'email', 'comment title or subject', 'comment title or subject', 'comment title or subject', 'comment title or subject', 'comment title or subject', 'comment text'], ['search query'], ['email', 'password', 'remember me checkbox'], ['other'], ['other'], ['email'], ['full name', 'phone', 'other', 'other', 'other', 'other', 'comment text', 'captcha'], ['email', 'password', 'remember me checkbox'], ['email'], ['username', 'email'], ['search query', 'search category / refinement'], ['other', 'other', 'submit button'], ['full name', 'email', 'TOS confirmation', 'submit button'], ['comment text', 'full name', 'email', 'captcha', 'submit button'], ['search query'], ['search query', 'submit button'], ['search query'], ['search query', 'submit button'], ['search query'], ['comment title or subject', 'comment text', 'submit button'], ['gender', 'gender', 'first name', 'last name', 'email', 'password'], ['search query', 'search query', 'search query'], ['url', 'email', 'submit button'], ['email'], ['email', 'password'], ['full name', 'email', 'password'], ['other', 'full name', 'email', 'comment text', 'captcha'], ['search query'], ['first name', 'last name', 'search query', 'search category / refinement', 'year', 'month', 'day', 'search category / refinement', 'search query', 'search category / refinement', 'search query'], ['email'], ['search category / refinement', 'search category / refinement'], ['other'], ['other number', 'other number'], ['other'], ['search query'], ['email'], ['first name', 'last name', 'email', 'receive emails confirmation', 'password', 'password confirmation'], ['username', 'password'], ['email'], ['other', 'product quantity'], ['search query'], ['search query', 'search query', 'search query', 'search category / refinement', 'search category / refinement', 'search category / refinement', 'search category / refinement', 'search category / refinement', 'search category / refinement', 'search category / refinement', 'submit button', 'search category / refinement', 'submit button', 'full name', 'other'], ['full name', 'other', 'organization name', 'full name', 'full name', 'email', 'phone', 'address', 'state', 'city', 'city', 'postal code', 'other', 'phone', 'email', 'url', 'comment text', 'comment text', 'comment text', 'url', 'other', 'other', 'other', 'other', 'other', 'other', 'other', 'other', 'other', 'other', 'other', 'other', 'other', 'other', 'other', 'other', 'other', 'captcha', 'reset/clear button', 'submit button'], ['search query', 'submit button'], ['address', 'address', 'submit button'], ['search category / refinement', 'search category / refinement', 'submit button'], ['email', 'full name', 'submit button'], ['email', 'password', 'submit button'], ['email', 'password', 'password confirmation', 'submit button'], ['email', 'password', 'password confirmation', 'submit button'], ['email', 'password', 'submit button'], ['email', 'password', 'submit button'], ['email', 'submit button'], ['first name', 'last name', 'email', 'phone', 'address', 'city', 'comment text', 'honeypot'], ['email', 'email confirmation', 'first name', 'last name', 'password', 'password confirmation'], ['email', 'password', 'remember me checkbox'], ['OpenID'], ['email'], ['search query'], ['search query'], ['email'], ['comment text'], ['other', 'product quantity'], ['full name', 'email', 'comment text'], ['search query'], ['other', 'other'], ['product quantity'], ['email'], ['search query'], ['email', 'password', 'remember me checkbox'], ['email'], ['email', 'password', 'remember me checkbox'], ['gender', 'gender', 'other', 'other', 'other', 'last name', 'first name', 'last name', 'first name', 'email', 'password', 'password confirmation', 'day', 'month', 'year', 'country', 'postal code', 'submit button'], ['search query'], ['search query', 'submit button'], ['email', 'submit button'], ['email', 'password', 'submit button'], ['search query'], ['search query'], ['username', 'email', 'username', 'password', 'password confirmation', 'country', 'other', 'other', 'other', 'other', 'other'], ['username', 'password', 'remember me checkbox'], ['email'], ['search query'], ['sorting option'], ['email', 'password'], ['email', 'password', 'password confirmation', 'gender', 'gender', 'first name', 'last name', 'day', 'month', 'year', 'phone', 'address', 'address', 'postal code', 'city', 'country', 'email', 'receive emails confirmation'], ['email'], ['submit button', 'submit button', 'first name', 'last name', 'gender', 'country', 'email', 'email confirmation', 'password', 'password confirmation', 'submit button'], ['search query'], ['search query'], ['search query'], ['email', 'password', 'remember me checkbox'], ['username', 'email', 'password', 'password confirmation', 'about me text', 'submit button'], ['email', 'password', 'remember me checkbox'], ['username', 'password', 'remember me checkbox'], ['email'], ['email', 'password', 'remember me checkbox'], ['search query'], ['first name', 'last name', 'other', 'other', 'other', 'other', 'captcha', 'submit button'], ['search query'], ['search query'], ['search query'], ['full name', 'email'], ['search query'], ['email'], ['gender', 'gender', 'gender', 'gender', 'gender', 'gender', 'first name', 'last name', 'month', 'day', 'year', 'email', 'password', 'password confirmation', 'receive emails confirmation', 'receive emails confirmation'], ['product quantity'], ['full name', 'email', 'other', 'other', 'other', 'other', 'other', 'other', 'other', 'comment text', 'honeypot'], ['search query'], ['email'], ['full name', 'email', 'comment title or subject', 'comment text', 'honeypot'], ['other', 'other', 'other', 'other']]\n"
     ]
    }
   ],
   "source": [
    "y_pred = crf.predict(X_test)\n",
    "print y_pred"
   ]
  },
  {
   "cell_type": "code",
   "execution_count": 20,
   "metadata": {
    "collapsed": false
   },
   "outputs": [
    {
     "name": "stdout",
     "output_type": "stream",
     "text": [
      "                              precision    recall  f1-score   support\n",
      "\n",
      "                search query      0.843     0.980     0.907        99\n",
      "                       email      0.945     0.987     0.966       156\n",
      "                    password      1.000     0.966     0.983        88\n",
      "            product quantity      1.000     0.875     0.933         8\n",
      "               submit button      0.895     1.000     0.944        68\n",
      "                    username      0.767     0.767     0.767        43\n",
      "       password confirmation      1.000     1.000     1.000        24\n",
      " receive emails confirmation      0.909     0.370     0.526        27\n",
      "                  first name      0.913     0.840     0.875        25\n",
      "                   last name      0.870     0.800     0.833        25\n",
      "           organization name      1.000     0.417     0.588        12\n",
      "                     address      0.706     0.667     0.686        18\n",
      "                        city      0.909     0.714     0.800        14\n",
      "                       state      1.000     0.750     0.857         4\n",
      "                 postal code      1.000     0.929     0.963        14\n",
      "                     country      0.875     0.636     0.737        11\n",
      "                       phone      1.000     0.944     0.971        18\n",
      "                         fax      1.000     1.000     1.000         1\n",
      "            TOS confirmation      1.000     0.692     0.818        13\n",
      "                comment text      0.786     0.971     0.868        34\n",
      "                     captcha      0.962     0.735     0.833        34\n",
      "        remember me checkbox      1.000     1.000     1.000        29\n",
      "           username or email      0.667     0.222     0.333         9\n",
      "                       other      0.730     0.854     0.787       171\n",
      "                   full name      0.595     0.926     0.725        27\n",
      "search category / refinement      0.842     0.985     0.908        65\n",
      "             other read-only      1.000     0.500     0.667         6\n",
      "                style select      1.000     1.000     1.000         6\n",
      "          email confirmation      1.000     1.000     1.000         6\n",
      "                   time zone      1.000     0.667     0.800         3\n",
      "                         DST      1.000     1.000     1.000         2\n",
      "                      gender      1.000     0.958     0.979        24\n",
      "               about me text      0.000     0.000     0.000         3\n",
      "          reset/clear button      1.000     1.000     1.000         3\n",
      "           security question      0.000     0.000     0.000         0\n",
      " answer to security question      0.000     0.000     0.000         0\n",
      "    comment title or subject      0.773     0.810     0.791        21\n",
      "                   full date      0.571     0.444     0.500         9\n",
      "                        year      1.000     0.875     0.933         8\n",
      "                         url      1.000     0.400     0.571        10\n",
      "               cancel button      0.000     0.000     0.000         0\n",
      "              sorting option      0.833     0.455     0.588        11\n",
      "                 middle name      0.000     0.000     0.000         0\n",
      "                         day      1.000     0.833     0.909         6\n",
      "                       month      1.000     0.833     0.909         6\n",
      "                    honeypot      0.333     0.100     0.154        10\n",
      "                other number      1.000     0.200     0.333        10\n",
      "                      OpenID      1.000     1.000     1.000         1\n",
      "\n",
      "                 avg / total      0.868     0.860     0.850      1182\n",
      "\n"
     ]
    }
   ],
   "source": [
    "print(flat_classification_report(y_test, y_pred, digits=3, labels=crf.classes_, target_names=crf.classes_))"
   ]
  },
  {
   "cell_type": "code",
   "execution_count": 21,
   "metadata": {
    "collapsed": false
   },
   "outputs": [
    {
     "name": "stdout",
     "output_type": "stream",
     "text": [
      "Top likely transitions:\n",
      "password                       -> password confirmation          4.850814\n",
      "month                          -> day                            4.269847\n",
      "first name                     -> last name                      4.197286\n",
      "security question              -> answer to security question    4.150840\n",
      "email                          -> email confirmation             3.249438\n",
      "username                       -> password                       3.238952\n",
      "sorting option                 -> sorting option                 3.191673\n",
      "postal code                    -> city                           3.061328\n",
      "last name                      -> first name                     3.003666\n",
      "comment title or subject       -> comment text                   2.875847\n",
      "first name                     -> middle name                    2.792112\n",
      "comment title or subject       -> comment title or subject       2.684398\n",
      "phone                          -> fax                            2.452416\n",
      "other number                   -> other number                   2.429120\n",
      "address                        -> address                        2.408454\n",
      "password                       -> remember me checkbox           2.354087\n",
      "other                          -> product quantity               2.289856\n",
      "city                           -> state                          2.202536\n",
      "full name                      -> email                          2.139391\n",
      "phone                          -> phone                          2.135179\n",
      "username                       -> email                          2.111002\n",
      "search category / refinement   -> search category / refinement   2.099530\n",
      "other                          -> other                          2.098031\n",
      "comment text                   -> honeypot                       2.092356\n",
      "day                            -> month                          2.083416\n",
      "month                          -> year                           2.058403\n",
      "receive emails confirmation    -> about me text                  2.002018\n",
      "gender                         -> gender                         1.984517\n",
      "full name                      -> phone                          1.966040\n",
      "day                            -> year                           1.806744\n",
      "captcha                        -> honeypot                       1.779535\n",
      "submit button                  -> other read-only                1.642282\n",
      "last name                      -> middle name                    1.635080\n",
      "postal code                    -> country                        1.619497\n",
      "year                           -> month                          1.614264\n",
      "address                        -> postal code                    1.609127\n",
      "last name                      -> organization name              1.603101\n",
      "middle name                    -> address                        1.582140\n",
      "comment text                   -> captcha                        1.535805\n",
      "search query                   -> submit button                  1.496293\n",
      "first name                     -> other read-only                1.473174\n",
      "postal code                    -> state                          1.444231\n",
      "last name                      -> postal code                    1.428053\n",
      "state                          -> postal code                    1.426924\n",
      "full name                      -> year                           1.415076\n",
      "url                            -> comment text                   1.373703\n",
      "time zone                      -> DST                            1.357323\n",
      "email                          -> phone                          1.352236\n",
      "about me text                  -> captcha                        1.349622\n",
      "country                        -> comment title or subject       1.307220\n",
      "middle name                    -> organization name              1.303906\n",
      "email                          -> password                       1.286000\n",
      "address                        -> city                           1.278544\n",
      "full name                      -> address                        1.277167\n",
      "other read-only                -> other number                   1.256711\n",
      "url                            -> address                        1.255595\n",
      "full date                      -> other read-only                1.243371\n",
      "TOS confirmation               -> TOS confirmation               1.218173\n",
      "DST                            -> receive emails confirmation    1.185436\n",
      "username                       -> full name                      1.158164\n",
      "other read-only                -> full date                      1.147319\n",
      "product quantity               -> submit button                  1.136577\n",
      "full name                      -> receive emails confirmation    1.118501\n",
      "comment text                   -> receive emails confirmation    1.109821\n",
      "state                          -> city                           1.107500\n",
      "url                            -> other                          1.103793\n",
      "email                          -> comment text                   1.101378\n",
      "last name                      -> address                        1.066427\n",
      "country                        -> postal code                    1.033910\n",
      "organization name              -> other                          0.999146\n",
      "remember me checkbox           -> reset/clear button             0.990827\n",
      "password confirmation          -> full name                      0.988867\n",
      "password confirmation          -> TOS confirmation               0.963600\n",
      "receive emails confirmation    -> TOS confirmation               0.938848\n",
      "comment text                   -> submit button                  0.932647\n",
      "captcha                        -> submit button                  0.916568\n",
      "full name                      -> about me text                  0.910710\n",
      "other number                   -> other                          0.902301\n",
      "search query                   -> search category / refinement   0.898556\n",
      "password confirmation          -> security question              0.894793\n",
      "other read-only                -> last name                      0.888929\n",
      "search category / refinement   -> search query                   0.874862\n",
      "country                        -> about me text                  0.838699\n",
      "phone                          -> email                          0.831621\n",
      "email                          -> submit button                  0.829853\n",
      "username or email              -> password                       0.811972\n",
      "product quantity               -> other                          0.811120\n",
      "submit button                  -> full name                      0.773039\n",
      "address                        -> other                          0.768866\n",
      "other                          -> full date                      0.752474\n",
      "organization name              -> email                          0.747525\n",
      "TOS confirmation               -> cancel button                  0.746338\n",
      "postal code                    -> other                          0.736048\n",
      "full name                      -> country                        0.728549\n",
      "other                          -> captcha                        0.701922\n",
      "reset/clear button             -> cancel button                  0.700923\n",
      "city                           -> postal code                    0.675602\n",
      "submit button                  -> honeypot                       0.652971\n",
      "about me text                  -> comment text                   0.646381\n",
      "captcha                        -> TOS confirmation               0.642104\n"
     ]
    }
   ],
   "source": [
    "from collections import Counter\n",
    "\n",
    "def print_transitions(trans_features):\n",
    "    for (label_from, label_to), weight in trans_features:\n",
    "        print(\"%-30s -> %-30s %0.6f\" % (label_from, label_to, weight))\n",
    "\n",
    "print(\"Top likely transitions:\")\n",
    "print_transitions(Counter(crf.transition_features_).most_common(100))"
   ]
  },
  {
   "cell_type": "code",
   "execution_count": 22,
   "metadata": {
    "collapsed": false
   },
   "outputs": [
    {
     "name": "stdout",
     "output_type": "stream",
     "text": [
      "\n",
      "Top unlikely transitions:\n",
      "comment text                   -> comment text                   -1.000960\n",
      "email                          -> password confirmation          -1.119661\n",
      "other                          -> search category / refinement   -1.136573\n",
      "password confirmation          -> other                          -1.156820\n",
      "search category / refinement   -> other                          -1.269673\n",
      "remember me checkbox           -> remember me checkbox           -1.380078\n",
      "submit button                  -> submit button                  -2.082952\n",
      "TOS confirmation               -> other                          -2.146346\n",
      "password                       -> password                       -2.502929\n",
      "email                          -> email                          -4.131105\n"
     ]
    }
   ],
   "source": [
    "print(\"\\nTop unlikely transitions:\") \n",
    "print_transitions(Counter(crf.transition_features_).most_common()[-10:])"
   ]
  },
  {
   "cell_type": "code",
   "execution_count": 23,
   "metadata": {
    "collapsed": false
   },
   "outputs": [
    {
     "name": "stdout",
     "output_type": "stream",
     "text": [
      "6.082718 search category / refinement   form-type:search\n",
      "5.461345 search query                   form-type:search\n",
      "3.370666 product quantity               form-type:order/add to cart\n",
      "3.248102 remember me checkbox           form-type:login\n",
      "2.941115 comment title or subject       form-type:contact/comment\n",
      "2.933746 comment text                   form-type:contact/comment\n",
      "2.386734 email                          form-type:join mailing list\n",
      "2.327087 full name                      form-type:contact/comment\n",
      "2.109714 username                       form-type:password/login recovery\n",
      "2.072472 other number                   form-type:search\n",
      "1.982849 TOS confirmation               form-type:other\n",
      "1.861928 sorting option                 form-type:search\n",
      "1.839960 other                          form-type:other\n",
      "1.679222 receive emails confirmation    form-type:registration\n",
      "1.517986 other                          form-type:join mailing list\n",
      "1.506806 password                       form-type:login\n",
      "1.388499 username or email              form-type:login\n",
      "1.304707 honeypot                       form-type:contact/comment\n",
      "1.264986 gender                         form-type:registration\n",
      "1.255804 username or email              form-type:password/login recovery\n",
      "1.191205 style select                   form-type:other\n",
      "1.114554 other                          form-type:contact/comment\n",
      "1.084820 full date                      form-type:search\n",
      "1.068398 full name                      form-type:join mailing list\n",
      "0.985867 other                          form-type:order/add to cart\n",
      "0.968631 about me text                  form-type:registration\n",
      "0.908201 phone                          form-type:registration\n",
      "0.901250 security question              form-type:registration\n",
      "0.883708 username                       form-type:login\n",
      "0.816408 submit button                  form-type:search\n",
      "0.789174 password confirmation          form-type:registration\n",
      "0.776941 comment text                   form-type:order/add to cart\n",
      "0.714624 other number                   form-type:other\n",
      "0.691854 username                       form-type:registration\n",
      "0.690775 last name                      form-type:password/login recovery\n",
      "0.650469 captcha                        form-type:contact/comment\n",
      "0.629206 sorting option                 form-type:other\n",
      "0.608410 postal code                    form-type:other\n",
      "0.606377 OpenID                         form-type:login\n",
      "0.545784 other                          form-type:login\n",
      "0.545347 country                        form-type:registration\n",
      "0.503768 url                            form-type:other\n",
      "0.423555 address                        form-type:order/add to cart\n",
      "0.411478 TOS confirmation               form-type:registration\n",
      "0.406871 submit button                  form-type:join mailing list\n",
      "0.392261 fax                            form-type:registration\n",
      "0.338947 answer to security question    form-type:registration\n",
      "0.329508 other                          form-type:registration\n",
      "0.326663 address                        form-type:registration\n",
      "0.300244 year                           form-type:registration\n",
      "0.238798 cancel button                  form-type:registration\n",
      "0.237844 full name                      form-type:order/add to cart\n",
      "0.225044 reset/clear button             form-type:login\n",
      "0.179972 state                          form-type:other\n",
      "0.159301 url                            form-type:contact/comment\n",
      "0.158439 city                           form-type:registration\n",
      "0.156612 other read-only                form-type:contact/comment\n",
      "0.119985 organization name              form-type:contact/comment\n",
      "0.118267 email                          form-type:password/login recovery\n",
      "0.102504 email confirmation             form-type:registration\n",
      "0.066857 first name                     form-type:registration\n",
      "0.034101 day                            form-type:registration\n",
      "0.020271 last name                      form-type:other\n",
      "0.019550 state                          form-type:search\n",
      "0.000152 honeypot                       form-type:join mailing list\n",
      "0.000124 country                        form-type:contact/comment\n",
      "-0.000496 email                          form-type:other\n",
      "-0.001581 honeypot                       form-type:registration\n",
      "-0.006284 comment text                   form-type:other\n",
      "-0.053637 state                          form-type:registration\n",
      "-0.078393 address                        form-type:other\n",
      "-0.118377 last name                      form-type:contact/comment\n",
      "-0.175520 other number                   form-type:contact/comment\n",
      "-0.178647 other read-only                form-type:registration\n",
      "-0.193526 postal code                    form-type:contact/comment\n",
      "-0.248285 full name                      form-type:registration\n",
      "-0.290412 email confirmation             form-type:contact/comment\n",
      "-0.384650 remember me checkbox           form-type:registration\n",
      "-0.401337 email                          form-type:registration\n",
      "-0.569215 submit button                  form-type:contact/comment\n",
      "-0.604957 username                       form-type:join mailing list\n",
      "-0.687974 email                          form-type:order/add to cart\n",
      "-0.693972 TOS confirmation               form-type:contact/comment\n",
      "-0.715902 other number                   form-type:registration\n",
      "-0.907896 username                       form-type:other\n",
      "-1.541372 submit button                  form-type:registration\n",
      "-1.843249 username                       form-type:contact/comment\n",
      "-1.946914 comment text                   form-type:registration\n"
     ]
    }
   ],
   "source": [
    "def _filtered_state_features(state_features, query, k=1):\n",
    "    return Counter({\n",
    "        (attr, label): weight\n",
    "        for ((attr, label), weight) in state_features.items()\n",
    "        if (query in attr or query in label) and k*weight >= 0\n",
    "    })\n",
    "\n",
    "\n",
    "def print_state_features(state_features):\n",
    "    for (attr, label), weight in state_features:\n",
    "        print(\"%0.6f %-30s %s\" % (weight, label, attr))    \n",
    "        \n",
    "\n",
    "def print_top_positive(crf, N, query=''):\n",
    "    print(\"\\nTop positive:\")\n",
    "    cnt = _filtered_state_features(crf.state_features_, query, 1)\n",
    "    print_state_features(cnt.most_common(N))\n",
    "    \n",
    "\n",
    "def print_top_negative(crf, N, query=''):\n",
    "    print(\"\\nTop negative:\")\n",
    "    cnt = _filtered_state_features(crf.state_features_, query, -1)\n",
    "    print_state_features(cnt.most_common()[-N:])\n",
    "    \n",
    "\n",
    "def print_top(crf, N, query=''):\n",
    "    cnt = _filtered_state_features(crf.state_features_, query, 0)\n",
    "    print_state_features(cnt.most_common(N))\n",
    "    \n",
    "\n",
    "print_top(crf, 150, 'form-type')"
   ]
  },
  {
   "cell_type": "code",
   "execution_count": 25,
   "metadata": {
    "collapsed": false
   },
   "outputs": [
    {
     "name": "stdout",
     "output_type": "stream",
     "text": [
      "\n",
      "Top negative:\n",
      "\n",
      "Top negative:\n",
      "-0.038681 country                        input-type:text\n",
      "-0.172698 other                          input-type:button\n",
      "-0.235398 other                          input-type:password\n",
      "-0.702573 comment title or subject       input-type:text\n",
      "-1.009200 other                          input-type:text\n",
      "-3.053583 search category / refinement   input-type:text\n"
     ]
    }
   ],
   "source": [
    "print(\"\\nTop negative:\")\n",
    "print_top_negative(crf, 30, 'input-type')"
   ]
  }
 ],
 "metadata": {
  "kernelspec": {
   "display_name": "Python 2",
   "language": "python",
   "name": "python2"
  },
  "language_info": {
   "codemirror_mode": {
    "name": "ipython",
    "version": 2
   },
   "file_extension": ".py",
   "mimetype": "text/x-python",
   "name": "python",
   "nbconvert_exporter": "python",
   "pygments_lexer": "ipython2",
   "version": "2.7.11"
  }
 },
 "nbformat": 4,
 "nbformat_minor": 0
}
