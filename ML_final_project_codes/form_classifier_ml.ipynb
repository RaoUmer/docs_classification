{
 "cells": [
  {
   "cell_type": "markdown",
   "metadata": {},
   "source": [
    "# Form Classifier Using Machine Learning "
   ]
  },
  {
   "cell_type": "markdown",
   "metadata": {},
   "source": [
    "## Introducing the dataset"
   ]
  },
  {
   "cell_type": "markdown",
   "metadata": {},
   "source": [
    "The model is trained on 1000+ annotated web forms - click [dataset](https://github.com/RaoUmer/Formasaurus/tree/master/formasaurus/data). Most pages to annotate were selected randomly from [Alexa](http://www.alexa.com/topsites) Top 1M websites."
   ]
  },
  {
   "cell_type": "markdown",
   "metadata": {},
   "source": [
    "## Introducing the \"Formasaurus\" "
   ]
  },
  {
   "cell_type": "markdown",
   "metadata": {},
   "source": [
    "**Formasaurus** is a Python package that tells you the type of an HTML form and its fields using machine learning.\n",
    "\n",
    "It can detect if a form is a login, search, registration, password recovery, join mailing list, contact, order form or something else, which field is a password field and which is a search query, etc.\n",
    "\n",
    "Formasaurus uses two separate ML models for **form type detection** and for **field type detection**. Field type detector uses form type detection results to improve the quality.\n"
   ]
  },
  {
   "cell_type": "markdown",
   "metadata": {},
   "source": [
    "### Form Type Detection"
   ]
  },
  {
   "cell_type": "markdown",
   "metadata": {},
   "source": [
    "To detect HTML form types Formasaurus takes a <b>form</b>  element and uses a **linear classifier (Logistic Regression/SVM)** to choose its type from a predefined set of types. <br></br>\n",
    "<br></br>\n",
    "Features include:\n",
    "* counts of form elements of different types,\n",
    "* whether a form is POST or GET,\n",
    "* text on submit buttons,\n",
    "* names and char ngrams of CSS classes and IDs,\n",
    "* input labels,\n",
    "* presence of certain substrings in URLs,\n",
    "* etc."
   ]
  },
  {
   "cell_type": "markdown",
   "metadata": {},
   "source": [
    "### Field Type Detection"
   ]
  },
  {
   "cell_type": "markdown",
   "metadata": {},
   "source": [
    "To detect form field types Formasaurus uses <b>Conditional Random Field (CRF)</b> model. All fields in an HTML form is a sequence where order matters; CRF allows to take field order in account.\n",
    "\n",
    "Features include:\n",
    "\n",
    "* form type predicted by a form type detector,\n",
    "* field tag name,\n",
    "* field value,\n",
    "* text before and after field,\n",
    "* field CSS class and ID,\n",
    "* text of field label element,\n",
    "* field title and placeholder attributes,\n",
    "* etc."
   ]
  },
  {
   "cell_type": "code",
   "execution_count": 1,
   "metadata": {
    "collapsed": true
   },
   "outputs": [],
   "source": [
    "# importing required modules\n",
    "from formasaurus import formtype_features as features\n",
    "from formasaurus import formtype_model\n",
    "from formasaurus.storage import Storage, load_html\n",
    "\n",
    "import numpy as np\n",
    "from sklearn.feature_extraction import DictVectorizer\n",
    "from sklearn.feature_extraction.text import CountVectorizer, TfidfVectorizer\n",
    "from sklearn.pipeline import Pipeline, FeatureUnion, make_pipeline, make_union\n",
    "#from sklearn.linear_model import LogisticRegression, SGDClassifier\n",
    "from sklearn.svm import LinearSVC\n",
    "from sklearn.metrics import classification_report, precision_recall_fscore_support"
   ]
  },
  {
   "cell_type": "markdown",
   "metadata": {},
   "source": [
    "## Dataset"
   ]
  },
  {
   "cell_type": "code",
   "execution_count": 2,
   "metadata": {
    "collapsed": false
   },
   "outputs": [
    {
     "name": "stderr",
     "output_type": "stream",
     "text": [
      "Checking: 100%|###########################| 946/946 [00:18<00:00, 55.76 files/s]\n"
     ]
    },
    {
     "name": "stdout",
     "output_type": "stream",
     "text": [
      "Status: OK\n",
      "Annotated HTML forms (simplified classes):\n",
      "\n"
     ]
    },
    {
     "name": "stderr",
     "output_type": "stream",
     "text": []
    },
    {
     "name": "stdout",
     "output_type": "stream",
     "text": [
      "415   search                    (s)\n",
      "246   login                     (l)\n",
      "165   registration              (r)\n",
      "143   other                     (o)\n",
      "138   contact/comment           (c)\n",
      "132   join mailing list         (m)\n",
      "105   password/login recovery   (p)\n",
      "74    order/add to cart         (b)\n",
      "\n",
      "Total form count: 1418\n"
     ]
    }
   ],
   "source": [
    "storage = Storage(\"C:/Users/raoumer/Desktop/form_classifier_ml/data\")\n",
    "storage.check()\n",
    "storage.print_form_type_counts(simplify=True)"
   ]
  },
  {
   "cell_type": "markdown",
   "metadata": {},
   "source": [
    "## Load training / evaluation data"
   ]
  },
  {
   "cell_type": "code",
   "execution_count": 3,
   "metadata": {
    "collapsed": false
   },
   "outputs": [
    {
     "name": "stderr",
     "output_type": "stream",
     "text": [
      "Loading: 946 files [00:07, 101.88 files/s]\n"
     ]
    },
    {
     "name": "stdout",
     "output_type": "stream",
     "text": [
      "\n",
      "y: [u'search' u'login' u'search' ..., u'search' u'registration' u'login']\n"
     ]
    }
   ],
   "source": [
    "# Load training / evaluation data\n",
    "annotations = list(storage.iter_annotations(\n",
    "    simplify_form_types=True,\n",
    "    simplify_field_types=True,\n",
    "    verbose=True,\n",
    "    leave=True,        \n",
    "))\n",
    "X, y = formtype_model.get_Xy(annotations, full_type_names=True)\n",
    "#print \"X:\",X\n",
    "print \"y:\", y"
   ]
  },
  {
   "cell_type": "markdown",
   "metadata": {},
   "source": [
    "## Useful features for searchable form page"
   ]
  },
  {
   "cell_type": "markdown",
   "metadata": {},
   "source": [
    "### Search forms\n",
    "\n",
    "* a single query field\n",
    "* a field named \"q\" or \"s\"\n",
    "* \"search\" in URL\n",
    "* \"search\" in submit button text (submit value)\n",
    "* \"search\" in form css class or id\n",
    "* no password field\n",
    "* method == GET?"
   ]
  },
  {
   "cell_type": "code",
   "execution_count": 4,
   "metadata": {
    "collapsed": false
   },
   "outputs": [
    {
     "name": "stdout",
     "output_type": "stream",
     "text": [
      "Wall time: 0 ns\n"
     ]
    }
   ],
   "source": [
    "%%time\n",
    "# reload(features)\n",
    "from formasaurus.formtype_model import _create_feature_union\n",
    "\n",
    "# a list of 3-tuples with default features:\n",
    "# (feature_name, form_transformer, vectorizer)\n",
    "FEATURES = [\n",
    "    (\n",
    "        \"form elements\",\n",
    "        features.FormElements(),\n",
    "        DictVectorizer()\n",
    "    ),\n",
    "    (\n",
    "        \"<input type=submit value=...>\",\n",
    "        features.SubmitText(),\n",
    "        CountVectorizer(ngram_range=(1,2), min_df=1, binary=True)\n",
    "    ),\n",
    "    (\n",
    "        \"<a> TEXT </a>\",\n",
    "        features.FormLinksText(),\n",
    "        TfidfVectorizer(ngram_range=(1,2), min_df=4, binary=True,\n",
    "                        stop_words={'and', 'or', 'of'})\n",
    "    ),\n",
    "    (\n",
    "        \"<label> TEXT </label>\",\n",
    "        features.FormLabelText(),\n",
    "        TfidfVectorizer(ngram_range=(1,2), min_df=3, binary=True,\n",
    "                        stop_words=\"english\")\n",
    "    ),\n",
    "\n",
    "    (\n",
    "        \"<form action=...>\",\n",
    "        features.FormUrl(),\n",
    "        TfidfVectorizer(ngram_range=(5,6), min_df=4, binary=True,\n",
    "                        analyzer=\"char_wb\")\n",
    "    ),\n",
    "    (\n",
    "        \"<form class=... id=...>\",\n",
    "        features.FormCss(),\n",
    "        TfidfVectorizer(ngram_range=(4,5), min_df=3, binary=True,\n",
    "                        analyzer=\"char_wb\")\n",
    "    ),\n",
    "    (\n",
    "        \"<input class=... id=...>\",\n",
    "        features.FormInputCss(),\n",
    "        TfidfVectorizer(ngram_range=(4,5), min_df=5, binary=True,\n",
    "                        analyzer=\"char_wb\")\n",
    "    ),\n",
    "    (\n",
    "        \"<input name=...>\",\n",
    "        features.FormInputNames(),\n",
    "        TfidfVectorizer(ngram_range=(5,6), min_df=3, binary=True,\n",
    "                        analyzer=\"char_wb\")\n",
    "    ),\n",
    "    (\n",
    "        \"<input title=...>\",\n",
    "        features.FormInputTitle(),\n",
    "        TfidfVectorizer(ngram_range=(5,6), min_df=3, binary=True,\n",
    "                        analyzer=\"char_wb\")\n",
    "    ),\n",
    "]"
   ]
  },
  {
   "cell_type": "markdown",
   "metadata": {},
   "source": [
    "## Classification Model"
   ]
  },
  {
   "cell_type": "code",
   "execution_count": 9,
   "metadata": {
    "collapsed": false
   },
   "outputs": [
    {
     "name": "stdout",
     "output_type": "stream",
     "text": [
      "[u'search' u'login' u'search' ..., u'search' u'registration' u'login']\n",
      "[[-1.25773448 -1.70821209 -1.39611482 ..., -1.64538027 -1.37630567\n",
      "   2.87372432]\n",
      " [-1.93420775 -1.74188827  1.58841722 ..., -1.40369579 -1.62162767\n",
      "  -1.44747327]\n",
      " [-1.20032282 -1.60389314 -1.25234017 ..., -1.607422   -1.43255901\n",
      "   2.42709097]\n",
      " ..., \n",
      " [-1.23189527 -1.49399696 -1.15474402 ..., -1.54887777 -1.57957592\n",
      "   2.7126756 ]\n",
      " [-1.31487788 -0.91956482 -0.92719609 ..., -2.1374183   0.91700013\n",
      "  -2.5699984 ]\n",
      " [-1.47015145 -1.7952439   0.9613531  ..., -1.48798736 -1.17446817\n",
      "  -2.56394994]]\n",
      "                         precision    recall  f1-score   support\n",
      "\n",
      "                 search       0.92      0.96      0.94       415\n",
      "                  login       0.96      0.96      0.96       246\n",
      "           registration       0.95      0.87      0.91       165\n",
      "password/login recovery       0.86      0.84      0.85       105\n",
      "        contact/comment       0.85      0.94      0.89       138\n",
      "      join mailing list       0.88      0.88      0.88       132\n",
      "      order/add to cart       0.96      0.62      0.75        74\n",
      "                  other       0.66      0.71      0.68       143\n",
      "\n",
      "            avg / total       0.89      0.89      0.89      1418\n",
      "\n",
      "88.7% forms are classified correctly.\n"
     ]
    }
   ],
   "source": [
    "clf = LinearSVC(C=0.5, random_state=150, fit_intercept=False)\n",
    "model = Pipeline([\n",
    "    ('fe', _create_feature_union(FEATURES)),\n",
    "    ('clf', clf),\n",
    "])\n",
    "model.fit(X, y)\n",
    "print model.predict(X)\n",
    "print model.decision_function(X)\n",
    "formtype_model.print_classification_report(annotations, n_folds=10, model=model)"
   ]
  },
  {
   "cell_type": "code",
   "execution_count": 8,
   "metadata": {
    "collapsed": true
   },
   "outputs": [],
   "source": [
    "from sklearn.metrics import roc_curve, auc\n",
    "from sklearn.cross_validation import train_test_split\n",
    "from sklearn.preprocessing import label_binarize\n",
    "from sklearn.multiclass import OneVsRestClassifier"
   ]
  },
  {
   "cell_type": "code",
   "execution_count": 11,
   "metadata": {
    "collapsed": true
   },
   "outputs": [],
   "source": [
    "def ROC_multi_class(Xtr, ytr, clf):\n",
    "    \n",
    "    classes = [0,1, 2, 3, 4, 5, 6, 7]\n",
    "    # Binarize the output\n",
    "    ytr = label_binarize(ytr, classes=classes)\n",
    "    n_classes = ytr.shape[1]\n",
    "    \n",
    "    \n",
    "    #random_state = np.random.RandomState(1)\n",
    "    \n",
    "    # shuffle and split training and test sets\n",
    "    X_train, X_test, y_train, y_test = train_test_split(Xtr, ytr, test_size=.30, random_state=40)\n",
    "    \n",
    "    # Learn to predict each class against the other\n",
    "    classifier = OneVsRestClassifier(clf)\n",
    "    classifier.fit(X_train, y_train)\n",
    "    y_pred_score = classifier.decision_function(X_test)    \n",
    "    ytt = label_binarize(y_test, classes=classes)\n",
    "    \n",
    "    \n",
    "    # Compute ROC curve and ROC area for each class\n",
    "    fpr = dict()\n",
    "    tpr = dict()\n",
    "    roc_auc = dict()\n",
    "    for i in range(n_classes):\n",
    "        fpr[i], tpr[i], _ = roc_curve(ytt[:, i], y_pred_score[:, i])\n",
    "        roc_auc[i] = auc(fpr[i], tpr[i])\n",
    "\n",
    "    \n",
    "    # Plot ROC curves for the multiclass\n",
    "    for i in range(n_classes):\n",
    "        plt.plot(fpr[i], tpr[i], label='ROC curve of class {0} (area = {1:0.2f})'\n",
    "                                       ''.format(i+1, roc_auc[i]))\n",
    "    \n",
    "    plt.plot([0, 1], [0, 1], 'k--')\n",
    "    plt.xlim([0.0, 1.0])\n",
    "    plt.ylim([0.0, 1.05])\n",
    "    plt.xlabel('False Positive Rate')\n",
    "    plt.ylabel('True Positive Rate')\n",
    "    plt.title('ROC of multi-class')\n",
    "    plt.legend(loc=\"lower right\")\n",
    "    plt.show()"
   ]
  },
  {
   "cell_type": "code",
   "execution_count": 12,
   "metadata": {
    "collapsed": false
   },
   "outputs": [
    {
     "name": "stderr",
     "output_type": "stream",
     "text": [
      "C:\\Anaconda2\\lib\\site-packages\\numpy\\lib\\arraysetops.py:379: FutureWarning: elementwise comparison failed; returning scalar instead, but in the future will perform elementwise comparison\n",
      "  mask |= (ar1 == a)\n",
      "C:\\Anaconda2\\lib\\site-packages\\sklearn\\multiclass.py:70: UserWarning: Label not 0 is present in all training examples.\n",
      "  str(classes[c]))\n",
      "C:\\Anaconda2\\lib\\site-packages\\sklearn\\multiclass.py:70: UserWarning: Label not 1 is present in all training examples.\n",
      "  str(classes[c]))\n",
      "C:\\Anaconda2\\lib\\site-packages\\sklearn\\multiclass.py:70: UserWarning: Label not 2 is present in all training examples.\n",
      "  str(classes[c]))\n",
      "C:\\Anaconda2\\lib\\site-packages\\sklearn\\multiclass.py:70: UserWarning: Label not 3 is present in all training examples.\n",
      "  str(classes[c]))\n",
      "C:\\Anaconda2\\lib\\site-packages\\sklearn\\multiclass.py:70: UserWarning: Label not 4 is present in all training examples.\n",
      "  str(classes[c]))\n",
      "C:\\Anaconda2\\lib\\site-packages\\sklearn\\multiclass.py:70: UserWarning: Label not 5 is present in all training examples.\n",
      "  str(classes[c]))\n",
      "C:\\Anaconda2\\lib\\site-packages\\sklearn\\multiclass.py:70: UserWarning: Label not 6 is present in all training examples.\n",
      "  str(classes[c]))\n",
      "C:\\Anaconda2\\lib\\site-packages\\sklearn\\multiclass.py:70: UserWarning: Label not 7 is present in all training examples.\n",
      "  str(classes[c]))\n"
     ]
    },
    {
     "ename": "AttributeError",
     "evalue": "'list' object has no attribute 'shape'",
     "output_type": "error",
     "traceback": [
      "\u001b[1;31m---------------------------------------------------------------------------\u001b[0m",
      "\u001b[1;31mAttributeError\u001b[0m                            Traceback (most recent call last)",
      "\u001b[1;32m<ipython-input-12-353b5da700ff>\u001b[0m in \u001b[0;36m<module>\u001b[1;34m()\u001b[0m\n\u001b[1;32m----> 1\u001b[1;33m \u001b[0mROC_multi_class\u001b[0m\u001b[1;33m(\u001b[0m\u001b[0mX\u001b[0m\u001b[1;33m,\u001b[0m \u001b[0my\u001b[0m\u001b[1;33m,\u001b[0m \u001b[0mmodel\u001b[0m\u001b[1;33m)\u001b[0m\u001b[1;33m\u001b[0m\u001b[0m\n\u001b[0m",
      "\u001b[1;32m<ipython-input-11-b66b342cc21c>\u001b[0m in \u001b[0;36mROC_multi_class\u001b[1;34m(Xtr, ytr, clf)\u001b[0m\n\u001b[0;32m     15\u001b[0m     \u001b[0mclassifier\u001b[0m \u001b[1;33m=\u001b[0m \u001b[0mOneVsRestClassifier\u001b[0m\u001b[1;33m(\u001b[0m\u001b[0mclf\u001b[0m\u001b[1;33m)\u001b[0m\u001b[1;33m\u001b[0m\u001b[0m\n\u001b[0;32m     16\u001b[0m     \u001b[0mclassifier\u001b[0m\u001b[1;33m.\u001b[0m\u001b[0mfit\u001b[0m\u001b[1;33m(\u001b[0m\u001b[0mX_train\u001b[0m\u001b[1;33m,\u001b[0m \u001b[0my_train\u001b[0m\u001b[1;33m)\u001b[0m\u001b[1;33m\u001b[0m\u001b[0m\n\u001b[1;32m---> 17\u001b[1;33m     \u001b[0my_pred_score\u001b[0m \u001b[1;33m=\u001b[0m \u001b[0mclassifier\u001b[0m\u001b[1;33m.\u001b[0m\u001b[0mdecision_function\u001b[0m\u001b[1;33m(\u001b[0m\u001b[0mX_test\u001b[0m\u001b[1;33m)\u001b[0m\u001b[1;33m\u001b[0m\u001b[0m\n\u001b[0m\u001b[0;32m     18\u001b[0m     \u001b[0mytt\u001b[0m \u001b[1;33m=\u001b[0m \u001b[0mlabel_binarize\u001b[0m\u001b[1;33m(\u001b[0m\u001b[0my_test\u001b[0m\u001b[1;33m,\u001b[0m \u001b[0mclasses\u001b[0m\u001b[1;33m=\u001b[0m\u001b[0mclasses\u001b[0m\u001b[1;33m)\u001b[0m\u001b[1;33m\u001b[0m\u001b[0m\n\u001b[0;32m     19\u001b[0m \u001b[1;33m\u001b[0m\u001b[0m\n",
      "\u001b[1;32mC:\\Anaconda2\\lib\\site-packages\\sklearn\\multiclass.pyc\u001b[0m in \u001b[0;36mdecision_function\u001b[1;34m(self, X)\u001b[0m\n\u001b[0;32m    386\u001b[0m                 \"Base estimator doesn't have a decision_function attribute.\")\n\u001b[0;32m    387\u001b[0m         return np.array([est.decision_function(X).ravel()\n\u001b[1;32m--> 388\u001b[1;33m                          for est in self.estimators_]).T\n\u001b[0m\u001b[0;32m    389\u001b[0m \u001b[1;33m\u001b[0m\u001b[0m\n\u001b[0;32m    390\u001b[0m     \u001b[1;33m@\u001b[0m\u001b[0mproperty\u001b[0m\u001b[1;33m\u001b[0m\u001b[0m\n",
      "\u001b[1;32mC:\\Anaconda2\\lib\\site-packages\\sklearn\\multiclass.pyc\u001b[0m in \u001b[0;36mdecision_function\u001b[1;34m(self, X)\u001b[0m\n\u001b[0;32m    194\u001b[0m         \u001b[0mcheck_is_fitted\u001b[0m\u001b[1;33m(\u001b[0m\u001b[0mself\u001b[0m\u001b[1;33m,\u001b[0m \u001b[1;34m'y_'\u001b[0m\u001b[1;33m)\u001b[0m\u001b[1;33m\u001b[0m\u001b[0m\n\u001b[0;32m    195\u001b[0m \u001b[1;33m\u001b[0m\u001b[0m\n\u001b[1;32m--> 196\u001b[1;33m         \u001b[1;32mreturn\u001b[0m \u001b[0mnp\u001b[0m\u001b[1;33m.\u001b[0m\u001b[0mrepeat\u001b[0m\u001b[1;33m(\u001b[0m\u001b[0mself\u001b[0m\u001b[1;33m.\u001b[0m\u001b[0my_\u001b[0m\u001b[1;33m,\u001b[0m \u001b[0mX\u001b[0m\u001b[1;33m.\u001b[0m\u001b[0mshape\u001b[0m\u001b[1;33m[\u001b[0m\u001b[1;36m0\u001b[0m\u001b[1;33m]\u001b[0m\u001b[1;33m)\u001b[0m\u001b[1;33m\u001b[0m\u001b[0m\n\u001b[0m\u001b[0;32m    197\u001b[0m \u001b[1;33m\u001b[0m\u001b[0m\n\u001b[0;32m    198\u001b[0m     \u001b[1;32mdef\u001b[0m \u001b[0mpredict_proba\u001b[0m\u001b[1;33m(\u001b[0m\u001b[0mself\u001b[0m\u001b[1;33m,\u001b[0m \u001b[0mX\u001b[0m\u001b[1;33m)\u001b[0m\u001b[1;33m:\u001b[0m\u001b[1;33m\u001b[0m\u001b[0m\n",
      "\u001b[1;31mAttributeError\u001b[0m: 'list' object has no attribute 'shape'"
     ]
    }
   ],
   "source": [
    "ROC_multi_class(X, y, model)"
   ]
  },
  {
   "cell_type": "markdown",
   "metadata": {},
   "source": [
    "## Usage"
   ]
  },
  {
   "cell_type": "code",
   "execution_count": 7,
   "metadata": {
    "collapsed": false
   },
   "outputs": [],
   "source": [
    "# Get some HTML page\n",
    "import requests\n",
    "html = requests.get('https://www.github.com/').text\n",
    "#print html"
   ]
  },
  {
   "cell_type": "code",
   "execution_count": 2,
   "metadata": {
    "collapsed": false
   },
   "outputs": [
    {
     "name": "stdout",
     "output_type": "stream",
     "text": [
      "[(<Element form at 0x89bbd18>, {'fields': {'q': 'search query'}, 'form': u'search'}), (<Element form at 0x89bbd68>, {'fields': {'user[password]': 'password', 'user[login]': 'username', 'user[email]': 'email'}, 'form': u'registration'})]\n"
     ]
    }
   ],
   "source": [
    "import formasaurus\n",
    "print formasaurus.extract_forms(html)"
   ]
  },
  {
   "cell_type": "markdown",
   "metadata": {},
   "source": [
    "By default, info dict contains only most likely form and field types. To get probabilities pass **proba=True**:"
   ]
  },
  {
   "cell_type": "code",
   "execution_count": 3,
   "metadata": {
    "collapsed": false
   },
   "outputs": [
    {
     "name": "stdout",
     "output_type": "stream",
     "text": [
      "[(<Element form at 0x8d26408>, {'fields': {'q': {'search query': 0.999437231678832}}, 'form': {u'search': 0.99570326032828704}}), (<Element form at 0x8d26458>, {'fields': {'user[password]': {'password': 0.9988987254599053}, 'user[login]': {'username': 0.9853568952022753}, 'user[email]': {'email': 0.9998668551783014}}, 'form': {u'login': 0.13553890385438713, u'registration': 0.85639807222240072}})]\n"
     ]
    }
   ],
   "source": [
    "print formasaurus.extract_forms(html, proba=True, threshold=0.05)"
   ]
  },
  {
   "cell_type": "markdown",
   "metadata": {},
   "source": [
    "If field types are not needed we can speed up processing using **fields=False** option. In this case 'fields' results won't be computed:"
   ]
  },
  {
   "cell_type": "code",
   "execution_count": 4,
   "metadata": {
    "collapsed": false
   },
   "outputs": [
    {
     "name": "stdout",
     "output_type": "stream",
     "text": [
      "[(<Element form at 0x8d264a8>, {'form': u'search'}), (<Element form at 0x8d26c78>, {'form': u'registration'})]\n"
     ]
    }
   ],
   "source": [
    "print formasaurus.extract_forms(html, fields=False)"
   ]
  },
  {
   "cell_type": "markdown",
   "metadata": {},
   "source": [
    "## Testing form pages from PIEAS website"
   ]
  },
  {
   "cell_type": "code",
   "execution_count": 3,
   "metadata": {
    "collapsed": true
   },
   "outputs": [],
   "source": [
    "import requests\n",
    "import formasaurus"
   ]
  },
  {
   "cell_type": "code",
   "execution_count": 4,
   "metadata": {
    "collapsed": false
   },
   "outputs": [
    {
     "name": "stdout",
     "output_type": "stream",
     "text": [
      "[(<Element form at 0xb0fa318>, {'fields': {'q': 'search query'}, 'form': u'search'})]\n"
     ]
    }
   ],
   "source": [
    "html = requests.get('https://sites.google.com/site/drmabidm/').text\n",
    "print formasaurus.extract_forms(html)"
   ]
  },
  {
   "cell_type": "code",
   "execution_count": 5,
   "metadata": {
    "collapsed": false
   },
   "outputs": [
    {
     "name": "stdout",
     "output_type": "stream",
     "text": [
      "[(<Element form at 0xb0fab38>, {'fields': {'q': 'search query'}, 'form': u'search'})]\n"
     ]
    }
   ],
   "source": [
    "html = requests.get('https://sites.google.com/site/pnetlab786/').text\n",
    "print formasaurus.extract_forms(html)"
   ]
  },
  {
   "cell_type": "code",
   "execution_count": 6,
   "metadata": {
    "collapsed": false
   },
   "outputs": [
    {
     "name": "stdout",
     "output_type": "stream",
     "text": [
      "[]\n"
     ]
    }
   ],
   "source": [
    "html = requests.get('http://www.pieas.edu.pk/').text\n",
    "print formasaurus.extract_forms(html)"
   ]
  },
  {
   "cell_type": "code",
   "execution_count": 7,
   "metadata": {
    "collapsed": false
   },
   "outputs": [
    {
     "name": "stdout",
     "output_type": "stream",
     "text": [
      "[]\n"
     ]
    }
   ],
   "source": [
    "html = requests.get('http://faculty.pieas.edu.pk/fayyaz/').text\n",
    "print formasaurus.extract_forms(html)"
   ]
  },
  {
   "cell_type": "markdown",
   "metadata": {},
   "source": [
    "## Reference"
   ]
  },
  {
   "cell_type": "markdown",
   "metadata": {},
   "source": [
    "* https://github.com/TeamHG-Memex/Formasaurus.git\n",
    "* http://formasaurus.readthedocs.org/en/latest/"
   ]
  }
 ],
 "metadata": {
  "kernelspec": {
   "display_name": "Python 2",
   "language": "python",
   "name": "python2"
  },
  "language_info": {
   "codemirror_mode": {
    "name": "ipython",
    "version": 2
   },
   "file_extension": ".py",
   "mimetype": "text/x-python",
   "name": "python",
   "nbconvert_exporter": "python",
   "pygments_lexer": "ipython2",
   "version": "2.7.11"
  }
 },
 "nbformat": 4,
 "nbformat_minor": 0
}
