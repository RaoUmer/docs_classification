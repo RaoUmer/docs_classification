{
 "cells": [
  {
   "cell_type": "markdown",
   "metadata": {},
   "source": [
    "# Documents Classification using Machine Learning"
   ]
  },
  {
   "cell_type": "markdown",
   "metadata": {},
   "source": [
    "## Introducing the 20newsgroups dataset"
   ]
  },
  {
   "cell_type": "markdown",
   "metadata": {},
   "source": [
    "The 20 Newsgroups data set is a collection of approximately <b>20,000</b> newsgroup documents, partitioned (nearly) evenly across <b>20</b> different newsgroups.The 20 newsgroups collection has become a popular data set for experiments in text applications of machine learning techniques, such as text classification and text clustering.<br></br>\n",
    "For more information, click this link: [20newsgroups Dataset](http://qwone.com/~jason/20Newsgroups/)\n"
   ]
  },
  {
   "cell_type": "markdown",
   "metadata": {},
   "source": [
    "## Machine learning on the 20newsgroups dataset\n",
    "\n",
    "- Framed as a **supervised learning** problem: Predict the label (class) of test document\n",
    "- Famous dataset for machine learning of **text classificaton**\n",
    "- Learn more about the 20newsgroups dataset: [UCI Machine Learning Repository](https://archive.ics.uci.edu/ml/datasets/Twenty+Newsgroups)"
   ]
  },
  {
   "cell_type": "code",
   "execution_count": 1,
   "metadata": {
    "collapsed": true
   },
   "outputs": [],
   "source": [
    "# import required modules\n",
    "import numpy as np\n",
    "from sklearn.feature_extraction.text import TfidfVectorizer\n",
    "import matplotlib.pyplot as plt\n",
    "\n",
    "%matplotlib inline"
   ]
  },
  {
   "cell_type": "markdown",
   "metadata": {},
   "source": [
    "## Loading the 20newsgroups  dataset into scikit-learn"
   ]
  },
  {
   "cell_type": "code",
   "execution_count": 2,
   "metadata": {
    "collapsed": true
   },
   "outputs": [],
   "source": [
    "# import 20 newsgroup dataset\n",
    "from sklearn.datasets import fetch_20newsgroups\n",
    "\n",
    "#categories = ['alt.atheism', 'comp.graphics', 'sci.space']\n",
    "categories = None\n",
    "data_train = fetch_20newsgroups(subset='train', remove=('headers', 'footers', 'quotes'), categories=categories)\n",
    "data_test = fetch_20newsgroups(subset='test', remove=('headers', 'footers', 'quotes'), categories=categories)"
   ]
  },
  {
   "cell_type": "code",
   "execution_count": 3,
   "metadata": {
    "collapsed": false
   },
   "outputs": [
    {
     "data": {
      "text/plain": [
       "sklearn.datasets.base.Bunch"
      ]
     },
     "execution_count": 3,
     "metadata": {},
     "output_type": "execute_result"
    }
   ],
   "source": [
    "type(data_train)\n",
    "type(data_test)"
   ]
  },
  {
   "cell_type": "code",
   "execution_count": 4,
   "metadata": {
    "collapsed": false
   },
   "outputs": [
    {
     "name": "stdout",
     "output_type": "stream",
     "text": [
      "Train data target labels: [7 4 4 ..., 3 1 8]\n",
      "Test data target labels: [ 7  5  0 ...,  9  6 15]\n"
     ]
    }
   ],
   "source": [
    "print \"Train data target labels:\",data_train.target\n",
    "print \"Test data target labels:\",data_test.target"
   ]
  },
  {
   "cell_type": "code",
   "execution_count": 5,
   "metadata": {
    "collapsed": false
   },
   "outputs": [
    {
     "name": "stdout",
     "output_type": "stream",
     "text": [
      "Train data target names: ['alt.atheism', 'comp.graphics', 'comp.os.ms-windows.misc', 'comp.sys.ibm.pc.hardware', 'comp.sys.mac.hardware', 'comp.windows.x', 'misc.forsale', 'rec.autos', 'rec.motorcycles', 'rec.sport.baseball', 'rec.sport.hockey', 'sci.crypt', 'sci.electronics', 'sci.med', 'sci.space', 'soc.religion.christian', 'talk.politics.guns', 'talk.politics.mideast', 'talk.politics.misc', 'talk.religion.misc']\n",
      "Test data target names: ['alt.atheism', 'comp.graphics', 'comp.os.ms-windows.misc', 'comp.sys.ibm.pc.hardware', 'comp.sys.mac.hardware', 'comp.windows.x', 'misc.forsale', 'rec.autos', 'rec.motorcycles', 'rec.sport.baseball', 'rec.sport.hockey', 'sci.crypt', 'sci.electronics', 'sci.med', 'sci.space', 'soc.religion.christian', 'talk.politics.guns', 'talk.politics.mideast', 'talk.politics.misc', 'talk.religion.misc']\n"
     ]
    }
   ],
   "source": [
    "print \"Train data target names:\",data_train.target_names\n",
    "print \"Test data target names:\",data_test.target_names"
   ]
  },
  {
   "cell_type": "code",
   "execution_count": 6,
   "metadata": {
    "collapsed": false
   },
   "outputs": [
    {
     "name": "stdout",
     "output_type": "stream",
     "text": [
      "Total train data: 11314\n",
      "Total test data: 7532\n"
     ]
    }
   ],
   "source": [
    "print \"Total train data:\",len(data_train.data)\n",
    "print \"Total test data:\",len(data_test.data)"
   ]
  },
  {
   "cell_type": "code",
   "execution_count": 7,
   "metadata": {
    "collapsed": false
   },
   "outputs": [
    {
     "name": "stdout",
     "output_type": "stream",
     "text": [
      "<type 'list'>\n",
      "<type 'numpy.ndarray'>\n",
      "<type 'list'>\n",
      "<type 'numpy.ndarray'>\n"
     ]
    }
   ],
   "source": [
    "# Train data type\n",
    "print type(data_train.data)\n",
    "print type(data_train.target)\n",
    "\n",
    "# Test data type\n",
    "print type(data_test.data)\n",
    "print type(data_test.target)"
   ]
  },
  {
   "cell_type": "markdown",
   "metadata": {},
   "source": [
    "## Requirements for working with data in scikit-learn\n",
    "\n",
    "1. Features and response are **separate objects**\n",
    "2. Features and response should be **numeric**\n",
    "3. Features and response should be **NumPy arrays**\n",
    "4. Features and response should have **specific shapes**"
   ]
  },
  {
   "cell_type": "code",
   "execution_count": 8,
   "metadata": {
    "collapsed": false
   },
   "outputs": [],
   "source": [
    "# So, first converting text data into vectors of numerical values using tf-idf to form feature vector\n",
    "vectorizer = TfidfVectorizer()\n",
    "data_train_vectors = vectorizer.fit_transform(data_train.data)\n",
    "data_test_vectors = vectorizer.transform(data_test.data) "
   ]
  },
  {
   "cell_type": "code",
   "execution_count": 9,
   "metadata": {
    "collapsed": false
   },
   "outputs": [
    {
     "name": "stdout",
     "output_type": "stream",
     "text": [
      "<type 'numpy.ndarray'>\n",
      "<type 'numpy.ndarray'>\n",
      "<type 'numpy.ndarray'>\n",
      "<type 'numpy.ndarray'>\n"
     ]
    }
   ],
   "source": [
    "# Train data type\n",
    "print type(data_train_vectors.data)\n",
    "print type(data_train.target)\n",
    "\n",
    "# Test data type\n",
    "print type(data_train_vectors.data)\n",
    "print type(data_train.target)"
   ]
  },
  {
   "cell_type": "code",
   "execution_count": 10,
   "metadata": {
    "collapsed": false
   },
   "outputs": [
    {
     "name": "stdout",
     "output_type": "stream",
     "text": [
      "(11314, 101631)\n"
     ]
    }
   ],
   "source": [
    "# check the shape of the features matrix\n",
    "print data_train_vectors.shape"
   ]
  },
  {
   "cell_type": "code",
   "execution_count": 11,
   "metadata": {
    "collapsed": false
   },
   "outputs": [
    {
     "name": "stdout",
     "output_type": "stream",
     "text": [
      "(11314L,)\n"
     ]
    }
   ],
   "source": [
    "# check the shape of the response (single dimension matching the number of observations)\n",
    "print data_train.target.shape"
   ]
  },
  {
   "cell_type": "markdown",
   "metadata": {},
   "source": [
    "## Train \\ Test data "
   ]
  },
  {
   "cell_type": "code",
   "execution_count": 12,
   "metadata": {
    "collapsed": false
   },
   "outputs": [
    {
     "name": "stdout",
     "output_type": "stream",
     "text": [
      "Xtr:\n",
      "  (0, 59216)\t0.0872526827011\n",
      "  (0, 71850)\t0.0761658508869\n",
      "  (0, 57393)\t0.0923857759707\n",
      "  (0, 41979)\t0.195069480982\n",
      "  (0, 45885)\t0.0411672635852\n",
      "  (0, 100208)\t0.0416291225185\n",
      "  (0, 49932)\t0.103116144671\n",
      "  (0, 96395)\t0.10736893401\n",
      "  (0, 68409)\t0.0457941071124\n",
      "  (0, 46814)\t0.108626313238\n",
      "  (0, 59079)\t0.0840950136083\n",
      "  (0, 96433)\t0.0742475462273\n",
      "  (0, 73373)\t0.140228581546\n",
      "  (0, 99911)\t0.0818197705882\n",
      "  (0, 84276)\t0.141855528042\n",
      "  (0, 37287)\t0.124585099834\n",
      "  (0, 64931)\t0.0927909404129\n",
      "  (0, 62746)\t0.113257219987\n",
      "  (0, 88143)\t0.224203549607\n",
      "  (0, 25590)\t0.0488708773242\n",
      "  (0, 54632)\t0.0604800703909\n",
      "  (0, 17936)\t0.0526638552253\n",
      "  (0, 51136)\t0.068655217054\n",
      "  (0, 23480)\t0.112386837086\n",
      "  (0, 67670)\t0.064565729407\n",
      "  :\t:\n",
      "  (11313, 81742)\t0.13241254414\n",
      "  (11313, 81792)\t0.148044990585\n",
      "  (11313, 40387)\t0.086720684874\n",
      "  (11313, 47209)\t0.153034004688\n",
      "  (11313, 25475)\t0.133738870485\n",
      "  (11313, 90644)\t0.117168551993\n",
      "  (11313, 6044)\t0.209189970091\n",
      "  (11313, 44748)\t0.110703489964\n",
      "  (11313, 22529)\t0.0918736072679\n",
      "  (11313, 68997)\t0.0833655821221\n",
      "  (11313, 46271)\t0.089730491083\n",
      "  (11313, 2777)\t0.102999614382\n",
      "  (11313, 66242)\t0.0614918172996\n",
      "  (11313, 20123)\t0.0543604841773\n",
      "  (11313, 57131)\t0.0889790000165\n",
      "  (11313, 64435)\t0.058038402627\n",
      "  (11313, 18521)\t0.0688328861304\n",
      "  (11313, 41127)\t0.0397046359022\n",
      "  (11313, 66857)\t0.190586909178\n",
      "  (11313, 68409)\t0.0492848120596\n",
      "  (11313, 37287)\t0.134081732736\n",
      "  (11313, 41715)\t0.0547056118926\n",
      "  (11313, 51326)\t0.0381814430561\n",
      "  (11313, 68080)\t0.0446371735433\n",
      "  (11313, 60560)\t0.0611804307208\n",
      "ytr: [7 4 4 ..., 3 1 8]\n"
     ]
    }
   ],
   "source": [
    "# store training feature matrix in \"Xtr\"\n",
    "Xtr = data_train_vectors\n",
    "print \"Xtr:\\n\", Xtr\n",
    "\n",
    "# store training response vector in \"ytr\"\n",
    "ytr = data_train.target\n",
    "print \"ytr:\",ytr"
   ]
  },
  {
   "cell_type": "code",
   "execution_count": 13,
   "metadata": {
    "collapsed": false
   },
   "outputs": [
    {
     "name": "stdout",
     "output_type": "stream",
     "text": [
      "Xtt:\n",
      "  (0, 100208)\t0.0455265206524\n",
      "  (0, 99908)\t0.093326167713\n",
      "  (0, 97240)\t0.119512589566\n",
      "  (0, 96391)\t0.058675731151\n",
      "  (0, 93592)\t0.247721155424\n",
      "  (0, 92955)\t0.115411039348\n",
      "  (0, 89360)\t0.0656210371508\n",
      "  (0, 89092)\t0.145925093214\n",
      "  (0, 88767)\t0.0448472215507\n",
      "  (0, 88694)\t0.0560951202705\n",
      "  (0, 88578)\t0.0715460832619\n",
      "  (0, 88532)\t0.239552815217\n",
      "  (0, 88519)\t0.0392163919275\n",
      "  (0, 88501)\t0.0699831480903\n",
      "  (0, 88138)\t0.0966113050341\n",
      "  (0, 86307)\t0.142144430841\n",
      "  (0, 84598)\t0.154770363794\n",
      "  (0, 83888)\t0.0932290328731\n",
      "  (0, 81241)\t0.146212829056\n",
      "  (0, 72905)\t0.245193915077\n",
      "  (0, 70695)\t0.127691460614\n",
      "  (0, 68781)\t0.0679543906565\n",
      "  (0, 68409)\t0.0500814390763\n",
      "  (0, 68080)\t0.0453586773273\n",
      "  (0, 67670)\t0.141220993163\n",
      "  :\t:\n",
      "  (7531, 54632)\t0.0717948768331\n",
      "  (7531, 51223)\t0.111594707095\n",
      "  (7531, 51136)\t0.16299891255\n",
      "  (7531, 48650)\t0.112689731162\n",
      "  (7531, 47204)\t0.374265101335\n",
      "  (7531, 46718)\t0.102599532796\n",
      "  (7531, 41127)\t0.087588859453\n",
      "  (7531, 40395)\t0.124204267424\n",
      "  (7531, 39397)\t0.14587422241\n",
      "  (7531, 37431)\t0.137406433332\n",
      "  (7531, 34763)\t0.142535759204\n",
      "  (7531, 34686)\t0.0997278159503\n",
      "  (7531, 34018)\t0.1315605022\n",
      "  (7531, 30074)\t0.0802124821621\n",
      "  (7531, 29356)\t0.184862233897\n",
      "  (7531, 27211)\t0.135641024537\n",
      "  (7531, 26461)\t0.313607134862\n",
      "  (7531, 24804)\t0.106876316793\n",
      "  (7531, 22267)\t0.0989085679918\n",
      "  (7531, 22219)\t0.0907495441245\n",
      "  (7531, 22152)\t0.0954817399091\n",
      "  (7531, 19491)\t0.133412528691\n",
      "  (7531, 18903)\t0.0653148406175\n",
      "  (7531, 18408)\t0.0604927351258\n",
      "  (7531, 16408)\t0.161367605429\n",
      "ytt: [ 7  5  0 ...,  9  6 15]\n"
     ]
    }
   ],
   "source": [
    "# store testing feature matrix in \"Xtt\"\n",
    "Xtt = data_test_vectors\n",
    "print \"Xtt:\\n\", Xtt\n",
    "\n",
    "# store testing response vector in \"ytt\"\n",
    "ytt = data_test.target\n",
    "print \"ytt:\",ytt"
   ]
  },
  {
   "cell_type": "markdown",
   "metadata": {},
   "source": [
    "## Different Classification Models"
   ]
  },
  {
   "cell_type": "markdown",
   "metadata": {},
   "source": [
    "## Multinomial Naive Bayes (MNB) classification"
   ]
  },
  {
   "cell_type": "code",
   "execution_count": 14,
   "metadata": {
    "collapsed": true
   },
   "outputs": [],
   "source": [
    "# import the required module from scikit learn\n",
    "from sklearn.naive_bayes import MultinomialNB"
   ]
  },
  {
   "cell_type": "code",
   "execution_count": 15,
   "metadata": {
    "collapsed": false
   },
   "outputs": [
    {
     "name": "stdout",
     "output_type": "stream",
     "text": [
      "Predicted Class Labels: [ 7  1 15 ..., 11 12 15]\n",
      "Predicted Score:\n",
      "[[  2.33922785e-03   8.00299678e-02   5.93857193e-03 ...,   2.58534569e-03\n",
      "    6.01529617e-03   6.78500079e-04]\n",
      " [  4.09205377e-04   8.04813630e-01   1.13113063e-02 ...,   1.04980678e-03\n",
      "    3.35421853e-03   1.16458819e-03]\n",
      " [  1.10022079e-01   2.82942568e-02   7.20466138e-02 ...,   5.75209783e-02\n",
      "    6.36329151e-02   9.95471475e-02]\n",
      " ..., \n",
      " [  1.67251951e-02   6.17838347e-03   2.72529039e-03 ...,   4.08349633e-02\n",
      "    9.15576372e-02   1.31169817e-02]\n",
      " [  5.24325557e-07   1.91154890e-02   2.66689839e-03 ...,   4.54799138e-07\n",
      "    1.10886936e-06   6.03922247e-06]\n",
      " [  3.69430453e-01   1.14028576e-04   6.52564849e-05 ...,   1.64443397e-03\n",
      "    2.64732509e-02   9.27623133e-02]]\n"
     ]
    }
   ],
   "source": [
    "# Implementing classification model- using MultinomialNB\n",
    "\n",
    "# Instantiate the estimator\n",
    "clf_MNB = MultinomialNB(alpha=.01)\n",
    "\n",
    "# Fit the model with data (aka \"model training\")\n",
    "clf_MNB.fit(Xtr, ytr)\n",
    "\n",
    "# Predict the response for a new observation\n",
    "y_pred = clf_MNB.predict(Xtt)\n",
    "print \"Predicted Class Labels:\",y_pred\n",
    "\n",
    "# Predict the response score for a new observation\n",
    "y_pred_score_mnb = clf_MNB.predict_proba(Xtt)\n",
    "print \"Predicted Score:\\n\",y_pred_score_mnb"
   ]
  },
  {
   "cell_type": "markdown",
   "metadata": {},
   "source": [
    "## K-Nearest Neighbors (KNN) classification"
   ]
  },
  {
   "cell_type": "code",
   "execution_count": 16,
   "metadata": {
    "collapsed": true
   },
   "outputs": [],
   "source": [
    "# import the required module from scikit learn\n",
    "from sklearn.neighbors import KNeighborsClassifier"
   ]
  },
  {
   "cell_type": "code",
   "execution_count": 17,
   "metadata": {
    "collapsed": false
   },
   "outputs": [
    {
     "name": "stdout",
     "output_type": "stream",
     "text": [
      "Predicted Class Labels: [2 7 2 ..., 1 2 2]\n",
      "Predicted Score:\n",
      "[[ 0.2  0.   0.4 ...,  0.2  0.   0. ]\n",
      " [ 0.   0.   0.  ...,  0.   0.   0. ]\n",
      " [ 0.   0.   0.2 ...,  0.   0.   0. ]\n",
      " ..., \n",
      " [ 0.   0.2  0.2 ...,  0.2  0.2  0. ]\n",
      " [ 0.   0.   0.2 ...,  0.   0.   0. ]\n",
      " [ 0.   0.   0.2 ...,  0.   0.   0. ]]\n"
     ]
    }
   ],
   "source": [
    "# Implementing classification model- using KNeighborsClassifier\n",
    "\n",
    "# Instantiate the estimator\n",
    "clf_knn =  KNeighborsClassifier(n_neighbors=5)\n",
    "\n",
    "# Fit the model with data (aka \"model training\")\n",
    "clf_knn.fit(Xtr, ytr)\n",
    "\n",
    "# Predict the response for a new observation\n",
    "y_pred = clf_knn.predict(Xtt)\n",
    "print \"Predicted Class Labels:\",y_pred\n",
    "\n",
    "# Predict the response score for a new observation\n",
    "y_pred_score_knn = clf_knn.predict_proba(Xtt)\n",
    "print \"Predicted Score:\\n\",y_pred_score_knn"
   ]
  },
  {
   "cell_type": "markdown",
   "metadata": {},
   "source": [
    "## Support Vector Machine (SVM) classification"
   ]
  },
  {
   "cell_type": "code",
   "execution_count": 18,
   "metadata": {
    "collapsed": true
   },
   "outputs": [],
   "source": [
    "# import the required module from scikit learn\n",
    "from sklearn.svm import LinearSVC"
   ]
  },
  {
   "cell_type": "code",
   "execution_count": 19,
   "metadata": {
    "collapsed": false
   },
   "outputs": [
    {
     "name": "stdout",
     "output_type": "stream",
     "text": [
      "Predicted Class Labels: [ 4  1  2 ..., 18 12 15]\n",
      "Predicted Score:\n",
      "[[-1.00264925 -1.02086955 -1.31263409 ..., -1.32426242 -1.45006139\n",
      "  -1.77646865]\n",
      " [-1.16551333 -0.19647563 -1.31166917 ..., -1.00053452 -1.05620841\n",
      "  -1.17412623]\n",
      " [-0.79778336 -0.76567699 -0.55615937 ..., -1.23778132 -0.5886194\n",
      "  -0.65226108]\n",
      " ..., \n",
      " [-0.86571781 -0.93075274 -0.97247373 ..., -1.25583332 -0.70698701\n",
      "  -1.54958409]\n",
      " [-1.13826348 -1.27762804 -1.60415669 ..., -1.20570482 -1.26850329\n",
      "  -1.09733552]\n",
      " [-0.57326675 -1.0674448  -1.44547256 ..., -1.36574493 -0.98845464\n",
      "  -0.80889072]]\n"
     ]
    }
   ],
   "source": [
    "# Implementing classification model- using LinearSVC\n",
    "\n",
    "# Instantiate the estimator\n",
    "clf_svc =  LinearSVC()\n",
    "\n",
    "# Fit the model with data (aka \"model training\")\n",
    "clf_svc.fit(Xtr, ytr)\n",
    "\n",
    "# Predict the response for a new observation\n",
    "y_pred = clf_svc.predict(Xtt)\n",
    "print \"Predicted Class Labels:\",y_pred\n",
    "\n",
    "# Predict the response score for a new observation\n",
    "y_pred_score_svc = clf_svc.decision_function(Xtt)\n",
    "print \"Predicted Score:\\n\",y_pred_score_svc"
   ]
  },
  {
   "cell_type": "markdown",
   "metadata": {},
   "source": [
    "## Evaluating & Comparing Machine Learning Models"
   ]
  },
  {
   "cell_type": "markdown",
   "metadata": {},
   "source": [
    "### Cross-Validation: K-fold\n",
    "- Measurement of Generalization Performance\n",
    "- For estimation of variation \n",
    "- Divide the data into K folds <br></br>\n",
    "    - For k = 1…K <br></br>\n",
    "        • Train on K-1 sets leaving the kth set out for validation <br></br>\n",
    "        • Validate on the kth set and obtain the performance metrics \n",
    "- Report the average and the variation in the performance"
   ]
  },
  {
   "cell_type": "markdown",
   "metadata": {},
   "source": [
    "Diagram of **5-fold cross-validation:**\n",
    "\n",
    "![5-fold cross-validation](images/07_cross_validation_diagram.png)"
   ]
  },
  {
   "cell_type": "markdown",
   "metadata": {},
   "source": [
    "## Cross-validation: Model Selection"
   ]
  },
  {
   "cell_type": "code",
   "execution_count": 21,
   "metadata": {
    "collapsed": true
   },
   "outputs": [],
   "source": [
    "# import the required module\n",
    "from sklearn.cross_validation import cross_val_score"
   ]
  },
  {
   "cell_type": "code",
   "execution_count": 22,
   "metadata": {
    "collapsed": false
   },
   "outputs": [
    {
     "name": "stdout",
     "output_type": "stream",
     "text": [
      "MultinomialNB 10-Cross Validation Score: 0.773939325651\n"
     ]
    }
   ],
   "source": [
    "# 10-fold cross-validation with MNB model\n",
    "clf_mnb = MultinomialNB(alpha=.01)\n",
    "print \"MultinomialNB 10-Cross Validation Score:\",cross_val_score(clf_mnb, Xtr, ytr, cv=10, scoring='accuracy').mean()"
   ]
  },
  {
   "cell_type": "code",
   "execution_count": 23,
   "metadata": {
    "collapsed": false
   },
   "outputs": [
    {
     "name": "stdout",
     "output_type": "stream",
     "text": [
      "KNN 10-Cross Validation Score: 0.0683138771375\n"
     ]
    }
   ],
   "source": [
    "# 10-fold cross-validation with KNN model\n",
    "clf_knn = KNeighborsClassifier(n_neighbors=55)\n",
    "print \"KNN 10-Cross Validation Score:\",cross_val_score(clf_knn, Xtr, ytr, cv=10, scoring='accuracy').mean()"
   ]
  },
  {
   "cell_type": "code",
   "execution_count": 24,
   "metadata": {
    "collapsed": false
   },
   "outputs": [
    {
     "name": "stdout",
     "output_type": "stream",
     "text": [
      "KNN 10-Cross Validation Score: 0.766855473879\n"
     ]
    }
   ],
   "source": [
    "# 10-fold cross-validation with Linear SVM model\n",
    "clf_svc = LinearSVC(C=1)\n",
    "print \"KNN 10-Cross Validation Score:\",cross_val_score(clf_svc, Xtr, ytr, cv=10, scoring='accuracy').mean()"
   ]
  },
  {
   "cell_type": "markdown",
   "metadata": {},
   "source": [
    "## Efficiently searching for optimal tuning parameters"
   ]
  },
  {
   "cell_type": "markdown",
   "metadata": {},
   "source": [
    "## More efficient parameter tuning using `GridSearchCV`"
   ]
  },
  {
   "cell_type": "markdown",
   "metadata": {},
   "source": [
    "Allows to define a **grid of parameters** that will be **searched** using K-fold cross-validation"
   ]
  },
  {
   "cell_type": "code",
   "execution_count": 25,
   "metadata": {
    "collapsed": true
   },
   "outputs": [],
   "source": [
    "# importing the required module\n",
    "from sklearn.grid_search import GridSearchCV"
   ]
  },
  {
   "cell_type": "markdown",
   "metadata": {},
   "source": [
    "### `GridSearchCV` for KNN"
   ]
  },
  {
   "cell_type": "code",
   "execution_count": 26,
   "metadata": {
    "collapsed": false
   },
   "outputs": [
    {
     "name": "stdout",
     "output_type": "stream",
     "text": [
      "[1, 2, 3, 4, 5, 6, 7, 8, 9, 10, 11, 12, 13, 14, 15, 16, 17, 18, 19, 20, 21, 22, 23, 24, 25, 26, 27, 28, 29, 30, 31, 32, 33, 34, 35, 36, 37, 38, 39, 40, 41, 42, 43, 44, 45, 46, 47, 48, 49, 50, 51, 52, 53, 54, 55, 56, 57, 58, 59, 60, 61, 62, 63, 64, 65, 66, 67, 68, 69, 70, 71, 72, 73, 74, 75, 76, 77, 78, 79, 80, 81, 82, 83, 84, 85, 86, 87, 88, 89, 90, 91, 92, 93, 94, 95, 96, 97, 98, 99]\n",
      "['uniform', 'distance']\n"
     ]
    }
   ],
   "source": [
    "# define the parameter values that should be searched for KNN\n",
    "k_range = range(1, 100)\n",
    "weight_options = ['uniform', 'distance']\n",
    "print k_range\n",
    "print weight_options"
   ]
  },
  {
   "cell_type": "code",
   "execution_count": 27,
   "metadata": {
    "collapsed": false
   },
   "outputs": [
    {
     "name": "stdout",
     "output_type": "stream",
     "text": [
      "{'n_neighbors': [1, 2, 3, 4, 5, 6, 7, 8, 9, 10, 11, 12, 13, 14, 15, 16, 17, 18, 19, 20, 21, 22, 23, 24, 25, 26, 27, 28, 29, 30, 31, 32, 33, 34, 35, 36, 37, 38, 39, 40, 41, 42, 43, 44, 45, 46, 47, 48, 49, 50, 51, 52, 53, 54, 55, 56, 57, 58, 59, 60, 61, 62, 63, 64, 65, 66, 67, 68, 69, 70, 71, 72, 73, 74, 75, 76, 77, 78, 79, 80, 81, 82, 83, 84, 85, 86, 87, 88, 89, 90, 91, 92, 93, 94, 95, 96, 97, 98, 99], 'weights': ['uniform', 'distance']}\n"
     ]
    }
   ],
   "source": [
    "# create a parameter grid: map the parameter names to the values that should be searched for KNN\n",
    "param_grid = dict(n_neighbors=k_range, weights=weight_options)\n",
    "print param_grid"
   ]
  },
  {
   "cell_type": "code",
   "execution_count": 28,
   "metadata": {
    "collapsed": true
   },
   "outputs": [],
   "source": [
    "# instantiate the grid\n",
    "grid = GridSearchCV(clf_knn, param_grid, cv=10, scoring='accuracy')"
   ]
  },
  {
   "cell_type": "code",
   "execution_count": 29,
   "metadata": {
    "collapsed": false
   },
   "outputs": [
    {
     "data": {
      "text/plain": [
       "GridSearchCV(cv=10, error_score='raise',\n",
       "       estimator=KNeighborsClassifier(algorithm='auto', leaf_size=30, metric='minkowski',\n",
       "           metric_params=None, n_jobs=1, n_neighbors=55, p=2,\n",
       "           weights='uniform'),\n",
       "       fit_params={}, iid=True, n_jobs=1,\n",
       "       param_grid={'n_neighbors': [1, 2, 3, 4, 5, 6, 7, 8, 9, 10, 11, 12, 13, 14, 15, 16, 17, 18, 19, 20, 21, 22, 23, 24, 25, 26, 27, 28, 29, 30, 31, 32, 33, 34, 35, 36, 37, 38, 39, 40, 41, 42, 43, 44, 45, 46, 47, 48, 49, 50, 51, 52, 53, 54, 55, 56, 57, 58, 59, 60, 61, 62, 63, 64, 65, 66, 67, 68, 69, 70, 71, 72, 73, 74, 75, 76, 77, 78, 79, 80, 81, 82, 83, 84, 85, 86, 87, 88, 89, 90, 91, 92, 93, 94, 95, 96, 97, 98, 99], 'weights': ['uniform', 'distance']},\n",
       "       pre_dispatch='2*n_jobs', refit=True, scoring='accuracy', verbose=0)"
      ]
     },
     "execution_count": 29,
     "metadata": {},
     "output_type": "execute_result"
    }
   ],
   "source": [
    "# fit the grid with data\n",
    "grid.fit(Xtr, ytr)"
   ]
  },
  {
   "cell_type": "code",
   "execution_count": 30,
   "metadata": {
    "collapsed": false
   },
   "outputs": [
    {
     "data": {
      "text/plain": [
       "[mean: 0.17589, std: 0.01090, params: {'n_neighbors': 1, 'weights': 'uniform'},\n",
       " mean: 0.17589, std: 0.01090, params: {'n_neighbors': 1, 'weights': 'distance'},\n",
       " mean: 0.11154, std: 0.00624, params: {'n_neighbors': 2, 'weights': 'uniform'},\n",
       " mean: 0.17598, std: 0.01082, params: {'n_neighbors': 2, 'weights': 'distance'},\n",
       " mean: 0.09705, std: 0.00709, params: {'n_neighbors': 3, 'weights': 'uniform'},\n",
       " mean: 0.11526, std: 0.01871, params: {'n_neighbors': 3, 'weights': 'distance'},\n",
       " mean: 0.11543, std: 0.00745, params: {'n_neighbors': 4, 'weights': 'uniform'},\n",
       " mean: 0.16360, std: 0.01220, params: {'n_neighbors': 4, 'weights': 'distance'},\n",
       " mean: 0.10695, std: 0.00704, params: {'n_neighbors': 5, 'weights': 'uniform'},\n",
       " mean: 0.15043, std: 0.01111, params: {'n_neighbors': 5, 'weights': 'distance'},\n",
       " mean: 0.10368, std: 0.00358, params: {'n_neighbors': 6, 'weights': 'uniform'},\n",
       " mean: 0.14327, std: 0.00783, params: {'n_neighbors': 6, 'weights': 'distance'},\n",
       " mean: 0.10412, std: 0.00515, params: {'n_neighbors': 7, 'weights': 'uniform'},\n",
       " mean: 0.13938, std: 0.00825, params: {'n_neighbors': 7, 'weights': 'distance'},\n",
       " mean: 0.10164, std: 0.00854, params: {'n_neighbors': 8, 'weights': 'uniform'},\n",
       " mean: 0.13435, std: 0.01033, params: {'n_neighbors': 8, 'weights': 'distance'},\n",
       " mean: 0.09899, std: 0.00980, params: {'n_neighbors': 9, 'weights': 'uniform'},\n",
       " mean: 0.13205, std: 0.01117, params: {'n_neighbors': 9, 'weights': 'distance'},\n",
       " mean: 0.09767, std: 0.00700, params: {'n_neighbors': 10, 'weights': 'uniform'},\n",
       " mean: 0.12966, std: 0.00991, params: {'n_neighbors': 10, 'weights': 'distance'},\n",
       " mean: 0.09466, std: 0.00688, params: {'n_neighbors': 11, 'weights': 'uniform'},\n",
       " mean: 0.12798, std: 0.00834, params: {'n_neighbors': 11, 'weights': 'distance'},\n",
       " mean: 0.09289, std: 0.00776, params: {'n_neighbors': 12, 'weights': 'uniform'},\n",
       " mean: 0.12454, std: 0.00884, params: {'n_neighbors': 12, 'weights': 'distance'},\n",
       " mean: 0.08989, std: 0.01009, params: {'n_neighbors': 13, 'weights': 'uniform'},\n",
       " mean: 0.12233, std: 0.01014, params: {'n_neighbors': 13, 'weights': 'distance'},\n",
       " mean: 0.08485, std: 0.01006, params: {'n_neighbors': 14, 'weights': 'uniform'},\n",
       " mean: 0.11817, std: 0.01009, params: {'n_neighbors': 14, 'weights': 'distance'},\n",
       " mean: 0.08397, std: 0.00892, params: {'n_neighbors': 15, 'weights': 'uniform'},\n",
       " mean: 0.11685, std: 0.00786, params: {'n_neighbors': 15, 'weights': 'distance'},\n",
       " mean: 0.08202, std: 0.00821, params: {'n_neighbors': 16, 'weights': 'uniform'},\n",
       " mean: 0.11260, std: 0.00717, params: {'n_neighbors': 16, 'weights': 'distance'},\n",
       " mean: 0.08211, std: 0.00723, params: {'n_neighbors': 17, 'weights': 'uniform'},\n",
       " mean: 0.11154, std: 0.00655, params: {'n_neighbors': 17, 'weights': 'distance'},\n",
       " mean: 0.08238, std: 0.00768, params: {'n_neighbors': 18, 'weights': 'uniform'},\n",
       " mean: 0.11110, std: 0.00839, params: {'n_neighbors': 18, 'weights': 'distance'},\n",
       " mean: 0.08344, std: 0.00672, params: {'n_neighbors': 19, 'weights': 'uniform'},\n",
       " mean: 0.11084, std: 0.00798, params: {'n_neighbors': 19, 'weights': 'distance'},\n",
       " mean: 0.08352, std: 0.00686, params: {'n_neighbors': 20, 'weights': 'uniform'},\n",
       " mean: 0.10933, std: 0.00850, params: {'n_neighbors': 20, 'weights': 'distance'},\n",
       " mean: 0.08335, std: 0.00760, params: {'n_neighbors': 21, 'weights': 'uniform'},\n",
       " mean: 0.10969, std: 0.00794, params: {'n_neighbors': 21, 'weights': 'distance'},\n",
       " mean: 0.08193, std: 0.00833, params: {'n_neighbors': 22, 'weights': 'uniform'},\n",
       " mean: 0.10836, std: 0.01006, params: {'n_neighbors': 22, 'weights': 'distance'},\n",
       " mean: 0.07955, std: 0.01057, params: {'n_neighbors': 23, 'weights': 'uniform'},\n",
       " mean: 0.10624, std: 0.01062, params: {'n_neighbors': 23, 'weights': 'distance'},\n",
       " mean: 0.08061, std: 0.01013, params: {'n_neighbors': 24, 'weights': 'uniform'},\n",
       " mean: 0.10597, std: 0.01002, params: {'n_neighbors': 24, 'weights': 'distance'},\n",
       " mean: 0.07946, std: 0.00918, params: {'n_neighbors': 25, 'weights': 'uniform'},\n",
       " mean: 0.10465, std: 0.00889, params: {'n_neighbors': 25, 'weights': 'distance'},\n",
       " mean: 0.07769, std: 0.00846, params: {'n_neighbors': 26, 'weights': 'uniform'},\n",
       " mean: 0.10270, std: 0.00822, params: {'n_neighbors': 26, 'weights': 'distance'},\n",
       " mean: 0.07628, std: 0.00836, params: {'n_neighbors': 27, 'weights': 'uniform'},\n",
       " mean: 0.10156, std: 0.00857, params: {'n_neighbors': 27, 'weights': 'distance'},\n",
       " mean: 0.07610, std: 0.00847, params: {'n_neighbors': 28, 'weights': 'uniform'},\n",
       " mean: 0.10058, std: 0.00791, params: {'n_neighbors': 28, 'weights': 'distance'},\n",
       " mean: 0.07707, std: 0.00996, params: {'n_neighbors': 29, 'weights': 'uniform'},\n",
       " mean: 0.09935, std: 0.00986, params: {'n_neighbors': 29, 'weights': 'distance'},\n",
       " mean: 0.07530, std: 0.00963, params: {'n_neighbors': 30, 'weights': 'uniform'},\n",
       " mean: 0.09811, std: 0.01053, params: {'n_neighbors': 30, 'weights': 'distance'},\n",
       " mean: 0.07486, std: 0.01069, params: {'n_neighbors': 31, 'weights': 'uniform'},\n",
       " mean: 0.09731, std: 0.01035, params: {'n_neighbors': 31, 'weights': 'distance'},\n",
       " mean: 0.07424, std: 0.01050, params: {'n_neighbors': 32, 'weights': 'uniform'},\n",
       " mean: 0.09634, std: 0.00926, params: {'n_neighbors': 32, 'weights': 'distance'},\n",
       " mean: 0.07522, std: 0.00845, params: {'n_neighbors': 33, 'weights': 'uniform'},\n",
       " mean: 0.09634, std: 0.00631, params: {'n_neighbors': 33, 'weights': 'distance'},\n",
       " mean: 0.07407, std: 0.00698, params: {'n_neighbors': 34, 'weights': 'uniform'},\n",
       " mean: 0.09537, std: 0.00572, params: {'n_neighbors': 34, 'weights': 'distance'},\n",
       " mean: 0.07371, std: 0.00854, params: {'n_neighbors': 35, 'weights': 'uniform'},\n",
       " mean: 0.09563, std: 0.00694, params: {'n_neighbors': 35, 'weights': 'distance'},\n",
       " mean: 0.07380, std: 0.00746, params: {'n_neighbors': 36, 'weights': 'uniform'},\n",
       " mean: 0.09616, std: 0.00655, params: {'n_neighbors': 36, 'weights': 'distance'},\n",
       " mean: 0.07327, std: 0.00681, params: {'n_neighbors': 37, 'weights': 'uniform'},\n",
       " mean: 0.09448, std: 0.00611, params: {'n_neighbors': 37, 'weights': 'distance'},\n",
       " mean: 0.07221, std: 0.00695, params: {'n_neighbors': 38, 'weights': 'uniform'},\n",
       " mean: 0.09254, std: 0.00628, params: {'n_neighbors': 38, 'weights': 'distance'},\n",
       " mean: 0.07115, std: 0.00774, params: {'n_neighbors': 39, 'weights': 'uniform'},\n",
       " mean: 0.09228, std: 0.00647, params: {'n_neighbors': 39, 'weights': 'distance'},\n",
       " mean: 0.07115, std: 0.00781, params: {'n_neighbors': 40, 'weights': 'uniform'},\n",
       " mean: 0.09236, std: 0.00592, params: {'n_neighbors': 40, 'weights': 'distance'},\n",
       " mean: 0.07177, std: 0.00851, params: {'n_neighbors': 41, 'weights': 'uniform'},\n",
       " mean: 0.09060, std: 0.00710, params: {'n_neighbors': 41, 'weights': 'distance'},\n",
       " mean: 0.07036, std: 0.00836, params: {'n_neighbors': 42, 'weights': 'uniform'},\n",
       " mean: 0.09068, std: 0.00746, params: {'n_neighbors': 42, 'weights': 'distance'},\n",
       " mean: 0.07124, std: 0.00682, params: {'n_neighbors': 43, 'weights': 'uniform'},\n",
       " mean: 0.08962, std: 0.00725, params: {'n_neighbors': 43, 'weights': 'distance'},\n",
       " mean: 0.07186, std: 0.00673, params: {'n_neighbors': 44, 'weights': 'uniform'},\n",
       " mean: 0.08936, std: 0.00674, params: {'n_neighbors': 44, 'weights': 'distance'},\n",
       " mean: 0.07265, std: 0.00712, params: {'n_neighbors': 45, 'weights': 'uniform'},\n",
       " mean: 0.09007, std: 0.00703, params: {'n_neighbors': 45, 'weights': 'distance'},\n",
       " mean: 0.07177, std: 0.00790, params: {'n_neighbors': 46, 'weights': 'uniform'},\n",
       " mean: 0.08945, std: 0.00848, params: {'n_neighbors': 46, 'weights': 'distance'},\n",
       " mean: 0.07115, std: 0.00749, params: {'n_neighbors': 47, 'weights': 'uniform'},\n",
       " mean: 0.08777, std: 0.00700, params: {'n_neighbors': 47, 'weights': 'distance'},\n",
       " mean: 0.07089, std: 0.00642, params: {'n_neighbors': 48, 'weights': 'uniform'},\n",
       " mean: 0.08821, std: 0.00719, params: {'n_neighbors': 48, 'weights': 'distance'},\n",
       " mean: 0.07177, std: 0.00747, params: {'n_neighbors': 49, 'weights': 'uniform'},\n",
       " mean: 0.08839, std: 0.00676, params: {'n_neighbors': 49, 'weights': 'distance'},\n",
       " mean: 0.07027, std: 0.00721, params: {'n_neighbors': 50, 'weights': 'uniform'},\n",
       " mean: 0.08856, std: 0.00766, params: {'n_neighbors': 50, 'weights': 'distance'},\n",
       " mean: 0.07009, std: 0.00762, params: {'n_neighbors': 51, 'weights': 'uniform'},\n",
       " mean: 0.08653, std: 0.00673, params: {'n_neighbors': 51, 'weights': 'distance'},\n",
       " mean: 0.06929, std: 0.00782, params: {'n_neighbors': 52, 'weights': 'uniform'},\n",
       " mean: 0.08538, std: 0.00771, params: {'n_neighbors': 52, 'weights': 'distance'},\n",
       " mean: 0.06956, std: 0.00847, params: {'n_neighbors': 53, 'weights': 'uniform'},\n",
       " mean: 0.08565, std: 0.00750, params: {'n_neighbors': 53, 'weights': 'distance'},\n",
       " mean: 0.06929, std: 0.00768, params: {'n_neighbors': 54, 'weights': 'uniform'},\n",
       " mean: 0.08565, std: 0.00691, params: {'n_neighbors': 54, 'weights': 'distance'},\n",
       " mean: 0.06832, std: 0.00757, params: {'n_neighbors': 55, 'weights': 'uniform'},\n",
       " mean: 0.08547, std: 0.00723, params: {'n_neighbors': 55, 'weights': 'distance'},\n",
       " mean: 0.07000, std: 0.00777, params: {'n_neighbors': 56, 'weights': 'uniform'},\n",
       " mean: 0.08644, std: 0.00731, params: {'n_neighbors': 56, 'weights': 'distance'},\n",
       " mean: 0.06832, std: 0.00682, params: {'n_neighbors': 57, 'weights': 'uniform'},\n",
       " mean: 0.08459, std: 0.00657, params: {'n_neighbors': 57, 'weights': 'distance'},\n",
       " mean: 0.06921, std: 0.00596, params: {'n_neighbors': 58, 'weights': 'uniform'},\n",
       " mean: 0.08459, std: 0.00546, params: {'n_neighbors': 58, 'weights': 'distance'},\n",
       " mean: 0.06806, std: 0.00597, params: {'n_neighbors': 59, 'weights': 'uniform'},\n",
       " mean: 0.08344, std: 0.00601, params: {'n_neighbors': 59, 'weights': 'distance'},\n",
       " mean: 0.06850, std: 0.00664, params: {'n_neighbors': 60, 'weights': 'uniform'},\n",
       " mean: 0.08255, std: 0.00634, params: {'n_neighbors': 60, 'weights': 'distance'},\n",
       " mean: 0.06806, std: 0.00639, params: {'n_neighbors': 61, 'weights': 'uniform'},\n",
       " mean: 0.08450, std: 0.00679, params: {'n_neighbors': 61, 'weights': 'distance'},\n",
       " mean: 0.06850, std: 0.00614, params: {'n_neighbors': 62, 'weights': 'uniform'},\n",
       " mean: 0.08379, std: 0.00794, params: {'n_neighbors': 62, 'weights': 'distance'},\n",
       " mean: 0.06885, std: 0.00502, params: {'n_neighbors': 63, 'weights': 'uniform'},\n",
       " mean: 0.08317, std: 0.00612, params: {'n_neighbors': 63, 'weights': 'distance'},\n",
       " mean: 0.06965, std: 0.00550, params: {'n_neighbors': 64, 'weights': 'uniform'},\n",
       " mean: 0.08335, std: 0.00655, params: {'n_neighbors': 64, 'weights': 'distance'},\n",
       " mean: 0.06832, std: 0.00525, params: {'n_neighbors': 65, 'weights': 'uniform'},\n",
       " mean: 0.08308, std: 0.00679, params: {'n_neighbors': 65, 'weights': 'distance'},\n",
       " mean: 0.06744, std: 0.00542, params: {'n_neighbors': 66, 'weights': 'uniform'},\n",
       " mean: 0.08299, std: 0.00670, params: {'n_neighbors': 66, 'weights': 'distance'},\n",
       " mean: 0.06823, std: 0.00585, params: {'n_neighbors': 67, 'weights': 'uniform'},\n",
       " mean: 0.08344, std: 0.00650, params: {'n_neighbors': 67, 'weights': 'distance'},\n",
       " mean: 0.06726, std: 0.00711, params: {'n_neighbors': 68, 'weights': 'uniform'},\n",
       " mean: 0.08176, std: 0.00750, params: {'n_neighbors': 68, 'weights': 'distance'},\n",
       " mean: 0.06797, std: 0.00602, params: {'n_neighbors': 69, 'weights': 'uniform'},\n",
       " mean: 0.08344, std: 0.00638, params: {'n_neighbors': 69, 'weights': 'distance'},\n",
       " mean: 0.06841, std: 0.00621, params: {'n_neighbors': 70, 'weights': 'uniform'},\n",
       " mean: 0.08335, std: 0.00712, params: {'n_neighbors': 70, 'weights': 'distance'},\n",
       " mean: 0.06664, std: 0.00583, params: {'n_neighbors': 71, 'weights': 'uniform'},\n",
       " mean: 0.08193, std: 0.00615, params: {'n_neighbors': 71, 'weights': 'distance'},\n",
       " mean: 0.06585, std: 0.00549, params: {'n_neighbors': 72, 'weights': 'uniform'},\n",
       " mean: 0.08132, std: 0.00584, params: {'n_neighbors': 72, 'weights': 'distance'},\n",
       " mean: 0.06629, std: 0.00583, params: {'n_neighbors': 73, 'weights': 'uniform'},\n",
       " mean: 0.08078, std: 0.00560, params: {'n_neighbors': 73, 'weights': 'distance'},\n",
       " mean: 0.06673, std: 0.00539, params: {'n_neighbors': 74, 'weights': 'uniform'},\n",
       " mean: 0.08096, std: 0.00607, params: {'n_neighbors': 74, 'weights': 'distance'},\n",
       " mean: 0.06638, std: 0.00596, params: {'n_neighbors': 75, 'weights': 'uniform'},\n",
       " mean: 0.08087, std: 0.00625, params: {'n_neighbors': 75, 'weights': 'distance'},\n",
       " mean: 0.06549, std: 0.00440, params: {'n_neighbors': 76, 'weights': 'uniform'},\n",
       " mean: 0.07937, std: 0.00568, params: {'n_neighbors': 76, 'weights': 'distance'},\n",
       " mean: 0.06505, std: 0.00544, params: {'n_neighbors': 77, 'weights': 'uniform'},\n",
       " mean: 0.07928, std: 0.00609, params: {'n_neighbors': 77, 'weights': 'distance'},\n",
       " mean: 0.06567, std: 0.00559, params: {'n_neighbors': 78, 'weights': 'uniform'},\n",
       " mean: 0.07964, std: 0.00746, params: {'n_neighbors': 78, 'weights': 'distance'},\n",
       " mean: 0.06505, std: 0.00535, params: {'n_neighbors': 79, 'weights': 'uniform'},\n",
       " mean: 0.07919, std: 0.00690, params: {'n_neighbors': 79, 'weights': 'distance'},\n",
       " mean: 0.06585, std: 0.00553, params: {'n_neighbors': 80, 'weights': 'uniform'},\n",
       " mean: 0.07911, std: 0.00691, params: {'n_neighbors': 80, 'weights': 'distance'},\n",
       " mean: 0.06655, std: 0.00572, params: {'n_neighbors': 81, 'weights': 'uniform'},\n",
       " mean: 0.07981, std: 0.00729, params: {'n_neighbors': 81, 'weights': 'distance'},\n",
       " mean: 0.06673, std: 0.00636, params: {'n_neighbors': 82, 'weights': 'uniform'},\n",
       " mean: 0.08070, std: 0.00712, params: {'n_neighbors': 82, 'weights': 'distance'},\n",
       " mean: 0.06717, std: 0.00677, params: {'n_neighbors': 83, 'weights': 'uniform'},\n",
       " mean: 0.08087, std: 0.00752, params: {'n_neighbors': 83, 'weights': 'distance'},\n",
       " mean: 0.06709, std: 0.00658, params: {'n_neighbors': 84, 'weights': 'uniform'},\n",
       " mean: 0.08061, std: 0.00755, params: {'n_neighbors': 84, 'weights': 'distance'},\n",
       " mean: 0.06717, std: 0.00542, params: {'n_neighbors': 85, 'weights': 'uniform'},\n",
       " mean: 0.08105, std: 0.00599, params: {'n_neighbors': 85, 'weights': 'distance'},\n",
       " mean: 0.06700, std: 0.00588, params: {'n_neighbors': 86, 'weights': 'uniform'},\n",
       " mean: 0.08078, std: 0.00612, params: {'n_neighbors': 86, 'weights': 'distance'},\n",
       " mean: 0.06629, std: 0.00483, params: {'n_neighbors': 87, 'weights': 'uniform'},\n",
       " mean: 0.08017, std: 0.00496, params: {'n_neighbors': 87, 'weights': 'distance'},\n",
       " mean: 0.06585, std: 0.00572, params: {'n_neighbors': 88, 'weights': 'uniform'},\n",
       " mean: 0.07849, std: 0.00596, params: {'n_neighbors': 88, 'weights': 'distance'},\n",
       " mean: 0.06682, std: 0.00552, params: {'n_neighbors': 89, 'weights': 'uniform'},\n",
       " mean: 0.08034, std: 0.00543, params: {'n_neighbors': 89, 'weights': 'distance'},\n",
       " mean: 0.06611, std: 0.00585, params: {'n_neighbors': 90, 'weights': 'uniform'},\n",
       " mean: 0.07937, std: 0.00632, params: {'n_neighbors': 90, 'weights': 'distance'},\n",
       " mean: 0.06576, std: 0.00507, params: {'n_neighbors': 91, 'weights': 'uniform'},\n",
       " mean: 0.07902, std: 0.00518, params: {'n_neighbors': 91, 'weights': 'distance'},\n",
       " mean: 0.06576, std: 0.00530, params: {'n_neighbors': 92, 'weights': 'uniform'},\n",
       " mean: 0.07937, std: 0.00482, params: {'n_neighbors': 92, 'weights': 'distance'},\n",
       " mean: 0.06558, std: 0.00556, params: {'n_neighbors': 93, 'weights': 'uniform'},\n",
       " mean: 0.07831, std: 0.00624, params: {'n_neighbors': 93, 'weights': 'distance'},\n",
       " mean: 0.06558, std: 0.00512, params: {'n_neighbors': 94, 'weights': 'uniform'},\n",
       " mean: 0.07911, std: 0.00507, params: {'n_neighbors': 94, 'weights': 'distance'},\n",
       " mean: 0.06602, std: 0.00561, params: {'n_neighbors': 95, 'weights': 'uniform'},\n",
       " mean: 0.07884, std: 0.00599, params: {'n_neighbors': 95, 'weights': 'distance'},\n",
       " mean: 0.06514, std: 0.00644, params: {'n_neighbors': 96, 'weights': 'uniform'},\n",
       " mean: 0.07831, std: 0.00669, params: {'n_neighbors': 96, 'weights': 'distance'},\n",
       " mean: 0.06435, std: 0.00560, params: {'n_neighbors': 97, 'weights': 'uniform'},\n",
       " mean: 0.07831, std: 0.00578, params: {'n_neighbors': 97, 'weights': 'distance'},\n",
       " mean: 0.06549, std: 0.00519, params: {'n_neighbors': 98, 'weights': 'uniform'},\n",
       " mean: 0.07760, std: 0.00572, params: {'n_neighbors': 98, 'weights': 'distance'},\n",
       " mean: 0.06496, std: 0.00622, params: {'n_neighbors': 99, 'weights': 'uniform'},\n",
       " mean: 0.07734, std: 0.00778, params: {'n_neighbors': 99, 'weights': 'distance'}]"
      ]
     },
     "execution_count": 30,
     "metadata": {},
     "output_type": "execute_result"
    }
   ],
   "source": [
    "# view the complete results (list of named tuples)\n",
    "grid.grid_scores_"
   ]
  },
  {
   "cell_type": "code",
   "execution_count": 31,
   "metadata": {
    "collapsed": false
   },
   "outputs": [
    {
     "name": "stdout",
     "output_type": "stream",
     "text": [
      "{'n_neighbors': 1, 'weights': 'uniform'}\n",
      "[ 0.16578947  0.16344464  0.16608084  0.1971831   0.1819788   0.18689105\n",
      "  0.17375887  0.18206039  0.16281139  0.17898486]\n",
      "0.175888280007\n"
     ]
    }
   ],
   "source": [
    "# examine the first tuple\n",
    "print grid.grid_scores_[0].parameters\n",
    "print grid.grid_scores_[0].cv_validation_scores\n",
    "print grid.grid_scores_[0].mean_validation_score"
   ]
  },
  {
   "cell_type": "code",
   "execution_count": 32,
   "metadata": {
    "collapsed": false
   },
   "outputs": [
    {
     "name": "stdout",
     "output_type": "stream",
     "text": [
      "0.175976666077\n",
      "{'n_neighbors': 2, 'weights': 'distance'}\n",
      "KNeighborsClassifier(algorithm='auto', leaf_size=30, metric='minkowski',\n",
      "           metric_params=None, n_jobs=1, n_neighbors=2, p=2,\n",
      "           weights='distance')\n"
     ]
    }
   ],
   "source": [
    "# examine the best model\n",
    "print grid.best_score_\n",
    "print grid.best_params_\n",
    "print grid.best_estimator_"
   ]
  },
  {
   "cell_type": "markdown",
   "metadata": {},
   "source": [
    "### Reducing computational expense using `RandomizedSearchCV` for KNN"
   ]
  },
  {
   "cell_type": "markdown",
   "metadata": {},
   "source": [
    "- Searching many different parameters at once may be computationally infeasible\n",
    "- `RandomizedSearchCV` searches a subset of the parameters, and we control the computational \"budget\""
   ]
  },
  {
   "cell_type": "code",
   "execution_count": 33,
   "metadata": {
    "collapsed": true
   },
   "outputs": [],
   "source": [
    "# importing the required module\n",
    "from sklearn.grid_search import RandomizedSearchCV"
   ]
  },
  {
   "cell_type": "code",
   "execution_count": 34,
   "metadata": {
    "collapsed": false
   },
   "outputs": [
    {
     "name": "stdout",
     "output_type": "stream",
     "text": [
      "{'n_neighbors': [1, 2, 3, 4, 5, 6, 7, 8, 9, 10, 11, 12, 13, 14, 15, 16, 17, 18, 19, 20, 21, 22, 23, 24, 25, 26, 27, 28, 29, 30, 31, 32, 33, 34, 35, 36, 37, 38, 39, 40, 41, 42, 43, 44, 45, 46, 47, 48, 49, 50, 51, 52, 53, 54, 55, 56, 57, 58, 59, 60, 61, 62, 63, 64, 65, 66, 67, 68, 69, 70, 71, 72, 73, 74, 75, 76, 77, 78, 79, 80, 81, 82, 83, 84, 85, 86, 87, 88, 89, 90, 91, 92, 93, 94, 95, 96, 97, 98, 99], 'weights': ['uniform', 'distance']}\n"
     ]
    }
   ],
   "source": [
    "# specify \"parameter distributions\" rather than a \"parameter grid\"\n",
    "param_dist = dict(n_neighbors=k_range, weights=weight_options)\n",
    "print param_dist"
   ]
  },
  {
   "cell_type": "code",
   "execution_count": 35,
   "metadata": {
    "collapsed": false
   },
   "outputs": [
    {
     "data": {
      "text/plain": [
       "[mean: 0.08856, std: 0.00766, params: {'n_neighbors': 50, 'weights': 'distance'},\n",
       " mean: 0.07884, std: 0.00599, params: {'n_neighbors': 95, 'weights': 'distance'},\n",
       " mean: 0.06850, std: 0.00664, params: {'n_neighbors': 60, 'weights': 'uniform'},\n",
       " mean: 0.06629, std: 0.00583, params: {'n_neighbors': 73, 'weights': 'uniform'},\n",
       " mean: 0.09448, std: 0.00611, params: {'n_neighbors': 37, 'weights': 'distance'},\n",
       " mean: 0.10695, std: 0.00704, params: {'n_neighbors': 5, 'weights': 'uniform'},\n",
       " mean: 0.06514, std: 0.00644, params: {'n_neighbors': 96, 'weights': 'uniform'},\n",
       " mean: 0.07964, std: 0.00746, params: {'n_neighbors': 78, 'weights': 'distance'},\n",
       " mean: 0.06832, std: 0.00682, params: {'n_neighbors': 57, 'weights': 'uniform'},\n",
       " mean: 0.06585, std: 0.00553, params: {'n_neighbors': 80, 'weights': 'uniform'}]"
      ]
     },
     "execution_count": 35,
     "metadata": {},
     "output_type": "execute_result"
    }
   ],
   "source": [
    "# n_iter controls the number of searches\n",
    "rand = RandomizedSearchCV(clf_knn, param_dist, cv=10, scoring='accuracy', n_iter=10, random_state=5)\n",
    "rand.fit(Xtr, ytr)\n",
    "rand.grid_scores_"
   ]
  },
  {
   "cell_type": "code",
   "execution_count": 36,
   "metadata": {
    "collapsed": false
   },
   "outputs": [
    {
     "name": "stdout",
     "output_type": "stream",
     "text": [
      "0.10694714513\n",
      "{'n_neighbors': 5, 'weights': 'uniform'}\n"
     ]
    }
   ],
   "source": [
    "# examine the best model\n",
    "print rand.best_score_\n",
    "print rand.best_params_"
   ]
  },
  {
   "cell_type": "markdown",
   "metadata": {},
   "source": [
    "### `GridSearchCV` for Multinomial Naive Bayes"
   ]
  },
  {
   "cell_type": "code",
   "execution_count": 48,
   "metadata": {
    "collapsed": false
   },
   "outputs": [
    {
     "name": "stdout",
     "output_type": "stream",
     "text": [
      "[0.001, 0.01, 0.1, 0, 10, 20, 30, 40, 50, 60, 70, 80, 90, 100]\n"
     ]
    }
   ],
   "source": [
    "# define the parameter values that should be searched for MNB\n",
    "alpha = [0.001, 0.01, 0.1, 0, 10, 20, 30, 40, 50, 60, 70, 80, 90, 100]\n",
    "\n",
    "print alpha"
   ]
  },
  {
   "cell_type": "code",
   "execution_count": 49,
   "metadata": {
    "collapsed": false
   },
   "outputs": [
    {
     "name": "stdout",
     "output_type": "stream",
     "text": [
      "{'alpha': [0.001, 0.01, 0.1, 0, 10, 20, 30, 40, 50, 60, 70, 80, 90, 100]}\n"
     ]
    }
   ],
   "source": [
    "# create a parameter grid: map the parameter names to the values that should be searched for MNB\n",
    "param_grid = dict(alpha=alpha)\n",
    "print param_grid"
   ]
  },
  {
   "cell_type": "code",
   "execution_count": 50,
   "metadata": {
    "collapsed": false
   },
   "outputs": [],
   "source": [
    "# instantiate the grid\n",
    "grid = GridSearchCV(clf_mnb, param_grid, cv=10, scoring='accuracy')"
   ]
  },
  {
   "cell_type": "code",
   "execution_count": 51,
   "metadata": {
    "collapsed": false
   },
   "outputs": [
    {
     "name": "stderr",
     "output_type": "stream",
     "text": [
      "C:\\Anaconda2\\lib\\site-packages\\sklearn\\naive_bayes.py:664: RuntimeWarning: divide by zero encountered in log\n",
      "  self.feature_log_prob_ = (np.log(smoothed_fc)\n"
     ]
    },
    {
     "data": {
      "text/plain": [
       "GridSearchCV(cv=10, error_score='raise',\n",
       "       estimator=MultinomialNB(alpha=0.01, class_prior=None, fit_prior=True),\n",
       "       fit_params={}, iid=True, n_jobs=1,\n",
       "       param_grid={'alpha': [0.001, 0.01, 0.1, 0, 10, 20, 30, 40, 50, 60, 70, 80, 90, 100]},\n",
       "       pre_dispatch='2*n_jobs', refit=True, scoring='accuracy', verbose=0)"
      ]
     },
     "execution_count": 51,
     "metadata": {},
     "output_type": "execute_result"
    }
   ],
   "source": [
    "# fit the grid with data\n",
    "grid.fit(Xtr, ytr)"
   ]
  },
  {
   "cell_type": "code",
   "execution_count": 52,
   "metadata": {
    "collapsed": false
   },
   "outputs": [
    {
     "data": {
      "text/plain": [
       "[mean: 0.76419, std: 0.01603, params: {'alpha': 0.001},\n",
       " mean: 0.77391, std: 0.01550, params: {'alpha': 0.01},\n",
       " mean: 0.74562, std: 0.01456, params: {'alpha': 0.1},\n",
       " mean: 0.14363, std: 0.00826, params: {'alpha': 0},\n",
       " mean: 0.41807, std: 0.01398, params: {'alpha': 10},\n",
       " mean: 0.33693, std: 0.01094, params: {'alpha': 20},\n",
       " mean: 0.29521, std: 0.01201, params: {'alpha': 30},\n",
       " mean: 0.26807, std: 0.01199, params: {'alpha': 40},\n",
       " mean: 0.24960, std: 0.01116, params: {'alpha': 50},\n",
       " mean: 0.23573, std: 0.01013, params: {'alpha': 60},\n",
       " mean: 0.22406, std: 0.00972, params: {'alpha': 70},\n",
       " mean: 0.21398, std: 0.00953, params: {'alpha': 80},\n",
       " mean: 0.20435, std: 0.00819, params: {'alpha': 90},\n",
       " mean: 0.19710, std: 0.00771, params: {'alpha': 100}]"
      ]
     },
     "execution_count": 52,
     "metadata": {},
     "output_type": "execute_result"
    }
   ],
   "source": [
    "# view the complete results (list of named tuples)\n",
    "grid.grid_scores_"
   ]
  },
  {
   "cell_type": "code",
   "execution_count": 53,
   "metadata": {
    "collapsed": false
   },
   "outputs": [
    {
     "name": "stdout",
     "output_type": "stream",
     "text": [
      "{'alpha': 0.001}\n",
      "[ 0.75964912  0.75307557  0.74516696  0.76408451  0.79151943  0.75199291\n",
      "  0.79166667  0.75133215  0.77758007  0.75601069]\n",
      "0.764185964292\n"
     ]
    }
   ],
   "source": [
    "# examine the first tuple\n",
    "print grid.grid_scores_[0].parameters\n",
    "print grid.grid_scores_[0].cv_validation_scores\n",
    "print grid.grid_scores_[0].mean_validation_score"
   ]
  },
  {
   "cell_type": "code",
   "execution_count": 54,
   "metadata": {
    "collapsed": false
   },
   "outputs": [
    {
     "name": "stdout",
     "output_type": "stream",
     "text": [
      "0.773908432031\n",
      "{'alpha': 0.01}\n",
      "MultinomialNB(alpha=0.01, class_prior=None, fit_prior=True)\n"
     ]
    }
   ],
   "source": [
    "# examine the best model\n",
    "print grid.best_score_\n",
    "print grid.best_params_\n",
    "print grid.best_estimator_"
   ]
  },
  {
   "cell_type": "markdown",
   "metadata": {},
   "source": [
    "### `GridSearchCV` for Linear SVM"
   ]
  },
  {
   "cell_type": "code",
   "execution_count": 92,
   "metadata": {
    "collapsed": false
   },
   "outputs": [
    {
     "name": "stdout",
     "output_type": "stream",
     "text": [
      "C: [1, 11, 21, 31, 41, 51, 61, 71, 81, 91]\n",
      "Tolerance for stopping criteria: [0.01, 0.0001, 1e-09]\n"
     ]
    }
   ],
   "source": [
    "# define the parameter values that should be searched for Linear SVM\n",
    "C = range(1,100,10)\n",
    "tol = [1e-2, 1e-4, 1e-9]\n",
    "\n",
    "print \"C:\", C\n",
    "print \"Tolerance for stopping criteria:\", tol"
   ]
  },
  {
   "cell_type": "code",
   "execution_count": 93,
   "metadata": {
    "collapsed": false
   },
   "outputs": [
    {
     "name": "stdout",
     "output_type": "stream",
     "text": [
      "{'C': [1, 11, 21, 31, 41, 51, 61, 71, 81, 91], 'tol': [0.01, 0.0001, 1e-09]}\n"
     ]
    }
   ],
   "source": [
    "# create a parameter grid: map the parameter names to the values that should be searched for SVM\n",
    "param_grid = dict(C=C, tol=tol)\n",
    "print param_grid"
   ]
  },
  {
   "cell_type": "code",
   "execution_count": 94,
   "metadata": {
    "collapsed": true
   },
   "outputs": [],
   "source": [
    "# instantiate the grid\n",
    "grid = GridSearchCV(clf_svc, param_grid, cv=10, scoring='accuracy')"
   ]
  },
  {
   "cell_type": "code",
   "execution_count": 96,
   "metadata": {
    "collapsed": false
   },
   "outputs": [
    {
     "data": {
      "text/plain": [
       "GridSearchCV(cv=10, error_score='raise',\n",
       "       estimator=LinearSVC(C=1, class_weight=None, dual=True, fit_intercept=True,\n",
       "     intercept_scaling=1, loss='squared_hinge', max_iter=1000,\n",
       "     multi_class='ovr', penalty='l2', random_state=None, tol=0.01,\n",
       "     verbose=0),\n",
       "       fit_params={}, iid=True, n_jobs=1,\n",
       "       param_grid={'C': [1, 11, 21, 31, 41, 51, 61, 71, 81, 91], 'tol': [0.01, 0.0001, 1e-09]},\n",
       "       pre_dispatch='2*n_jobs', refit=True, scoring='accuracy', verbose=0)"
      ]
     },
     "execution_count": 96,
     "metadata": {},
     "output_type": "execute_result"
    }
   ],
   "source": [
    "# fit the grid with data\n",
    "grid.fit(Xtr, ytr)"
   ]
  },
  {
   "cell_type": "code",
   "execution_count": 97,
   "metadata": {
    "collapsed": false
   },
   "outputs": [
    {
     "data": {
      "text/plain": [
       "[mean: 0.76693, std: 0.00953, params: {'C': 1, 'tol': 0.01},\n",
       " mean: 0.76684, std: 0.00954, params: {'C': 1, 'tol': 0.0001},\n",
       " mean: 0.76684, std: 0.00954, params: {'C': 1, 'tol': 1e-09},\n",
       " mean: 0.75155, std: 0.01115, params: {'C': 11, 'tol': 0.01},\n",
       " mean: 0.75155, std: 0.01115, params: {'C': 11, 'tol': 0.0001},\n",
       " mean: 0.75155, std: 0.01115, params: {'C': 11, 'tol': 1e-09},\n",
       " mean: 0.74881, std: 0.01074, params: {'C': 21, 'tol': 0.01},\n",
       " mean: 0.74881, std: 0.01074, params: {'C': 21, 'tol': 0.0001},\n",
       " mean: 0.74881, std: 0.01074, params: {'C': 21, 'tol': 1e-09},\n",
       " mean: 0.74792, std: 0.01128, params: {'C': 31, 'tol': 0.01},\n",
       " mean: 0.74792, std: 0.01128, params: {'C': 31, 'tol': 0.0001},\n",
       " mean: 0.74792, std: 0.01128, params: {'C': 31, 'tol': 1e-09},\n",
       " mean: 0.74686, std: 0.01059, params: {'C': 41, 'tol': 0.01},\n",
       " mean: 0.74695, std: 0.01038, params: {'C': 41, 'tol': 0.0001},\n",
       " mean: 0.74695, std: 0.01038, params: {'C': 41, 'tol': 1e-09},\n",
       " mean: 0.74713, std: 0.01071, params: {'C': 51, 'tol': 0.01},\n",
       " mean: 0.74704, std: 0.01039, params: {'C': 51, 'tol': 0.0001},\n",
       " mean: 0.74695, std: 0.01056, params: {'C': 51, 'tol': 1e-09},\n",
       " mean: 0.74677, std: 0.01088, params: {'C': 61, 'tol': 0.01},\n",
       " mean: 0.74686, std: 0.01067, params: {'C': 61, 'tol': 0.0001},\n",
       " mean: 0.74660, std: 0.01107, params: {'C': 61, 'tol': 1e-09},\n",
       " mean: 0.74598, std: 0.01086, params: {'C': 71, 'tol': 0.01},\n",
       " mean: 0.74616, std: 0.01098, params: {'C': 71, 'tol': 0.0001},\n",
       " mean: 0.74624, std: 0.01128, params: {'C': 71, 'tol': 1e-09},\n",
       " mean: 0.74545, std: 0.01100, params: {'C': 81, 'tol': 0.01},\n",
       " mean: 0.74562, std: 0.01090, params: {'C': 81, 'tol': 0.0001},\n",
       " mean: 0.74554, std: 0.01109, params: {'C': 81, 'tol': 1e-09},\n",
       " mean: 0.74536, std: 0.01093, params: {'C': 91, 'tol': 0.01},\n",
       " mean: 0.74536, std: 0.01116, params: {'C': 91, 'tol': 0.0001},\n",
       " mean: 0.74492, std: 0.01078, params: {'C': 91, 'tol': 1e-09}]"
      ]
     },
     "execution_count": 97,
     "metadata": {},
     "output_type": "execute_result"
    }
   ],
   "source": [
    "# view the complete results (list of named tuples)\n",
    "grid.grid_scores_"
   ]
  },
  {
   "cell_type": "code",
   "execution_count": 98,
   "metadata": {
    "collapsed": false
   },
   "outputs": [
    {
     "name": "stdout",
     "output_type": "stream",
     "text": [
      "{'C': 1, 'tol': 0.01}\n",
      "[ 0.76052632  0.7513181   0.76625659  0.77376761  0.77120141  0.75642161\n",
      "  0.78280142  0.76731794  0.77935943  0.76046305]\n",
      "0.766925932473\n"
     ]
    }
   ],
   "source": [
    "# examine the first tuple\n",
    "print grid.grid_scores_[0].parameters\n",
    "print grid.grid_scores_[0].cv_validation_scores\n",
    "print grid.grid_scores_[0].mean_validation_score"
   ]
  },
  {
   "cell_type": "code",
   "execution_count": 99,
   "metadata": {
    "collapsed": false
   },
   "outputs": [
    {
     "name": "stdout",
     "output_type": "stream",
     "text": [
      "0.766925932473\n",
      "{'C': 1, 'tol': 0.01}\n",
      "LinearSVC(C=1, class_weight=None, dual=True, fit_intercept=True,\n",
      "     intercept_scaling=1, loss='squared_hinge', max_iter=1000,\n",
      "     multi_class='ovr', penalty='l2', random_state=None, tol=0.01,\n",
      "     verbose=0)\n"
     ]
    }
   ],
   "source": [
    "# examine the best model\n",
    "print grid.best_score_\n",
    "print grid.best_params_\n",
    "print grid.best_estimator_"
   ]
  },
  {
   "cell_type": "markdown",
   "metadata": {},
   "source": [
    "### Reducing computational expense using `RandomizedSearchCV` for SVM"
   ]
  },
  {
   "cell_type": "code",
   "execution_count": 100,
   "metadata": {
    "collapsed": false
   },
   "outputs": [
    {
     "name": "stdout",
     "output_type": "stream",
     "text": [
      "{'C': [1, 11, 21, 31, 41, 51, 61, 71, 81, 91], 'tol': [0.01, 0.0001, 1e-09]}\n"
     ]
    }
   ],
   "source": [
    "# specify \"parameter distributions\" rather than a \"parameter grid\"\n",
    "param_dist = dict(C=C, tol=tol)\n",
    "print param_dist"
   ]
  },
  {
   "cell_type": "code",
   "execution_count": 60,
   "metadata": {
    "collapsed": false
   },
   "outputs": [
    {
     "data": {
      "text/plain": [
       "[mean: 0.75155, std: 0.01115, params: {'C': 11, 'tol': 0.01},\n",
       " mean: 0.74695, std: 0.01038, params: {'C': 41, 'tol': 1e-09},\n",
       " mean: 0.74704, std: 0.01066, params: {'C': 51, 'tol': 0.01},\n",
       " mean: 0.74465, std: 0.01092, params: {'C': 91, 'tol': 1e-09},\n",
       " mean: 0.74863, std: 0.01066, params: {'C': 21, 'tol': 0.01},\n",
       " mean: 0.74633, std: 0.01105, params: {'C': 71, 'tol': 0.0001},\n",
       " mean: 0.74695, std: 0.01056, params: {'C': 51, 'tol': 0.0001},\n",
       " mean: 0.74801, std: 0.01140, params: {'C': 31, 'tol': 0.01},\n",
       " mean: 0.74881, std: 0.01074, params: {'C': 21, 'tol': 1e-09},\n",
       " mean: 0.75155, std: 0.01115, params: {'C': 11, 'tol': 0.0001}]"
      ]
     },
     "execution_count": 60,
     "metadata": {},
     "output_type": "execute_result"
    }
   ],
   "source": [
    "# n_iter controls the number of searches\n",
    "rand = RandomizedSearchCV(clf_svc, param_dist, cv=10, scoring='accuracy', n_iter=10, random_state=5)\n",
    "rand.fit(Xtr, ytr)\n",
    "rand.grid_scores_"
   ]
  },
  {
   "cell_type": "code",
   "execution_count": 61,
   "metadata": {
    "collapsed": false
   },
   "outputs": [
    {
     "name": "stdout",
     "output_type": "stream",
     "text": [
      "0.751546756231\n",
      "{'C': 11, 'tol': 0.01}\n"
     ]
    }
   ],
   "source": [
    "# examine the best model\n",
    "print rand.best_score_\n",
    "print rand.best_params_"
   ]
  },
  {
   "cell_type": "markdown",
   "metadata": {},
   "source": [
    "## Classification Accuracy"
   ]
  },
  {
   "cell_type": "markdown",
   "metadata": {},
   "source": [
    "- percentage of correct predictions"
   ]
  },
  {
   "cell_type": "code",
   "execution_count": 25,
   "metadata": {
    "collapsed": true
   },
   "outputs": [],
   "source": [
    "# importing the required module\n",
    "from sklearn import metrics"
   ]
  },
  {
   "cell_type": "markdown",
   "metadata": {},
   "source": [
    "### Classification Accuracy of MultinomialNB"
   ]
  },
  {
   "cell_type": "code",
   "execution_count": 26,
   "metadata": {
    "collapsed": false
   },
   "outputs": [
    {
     "name": "stdout",
     "output_type": "stream",
     "text": [
      "Predicted Class Labels: [ 7  1 15 ..., 11 12 15]\n",
      "Classification Accuracy: 0.700212426978\n"
     ]
    }
   ],
   "source": [
    "# Instantiate the estimator\n",
    "clf_MNB = MultinomialNB(alpha=.01)\n",
    "\n",
    "# Fit the model with data (aka \"model training\")\n",
    "clf_MNB.fit(Xtr, ytr)\n",
    "\n",
    "# Predict the response for a new observation\n",
    "y_pred_mnb = clf_MNB.predict(Xtt)\n",
    "print \"Predicted Class Labels:\",y_pred_mnb\n",
    "\n",
    "# calculate accuracy\n",
    "print \"Classification Accuracy:\",metrics.accuracy_score(ytt, y_pred_mnb)"
   ]
  },
  {
   "cell_type": "markdown",
   "metadata": {},
   "source": [
    "### Classification Accuracy of KNN"
   ]
  },
  {
   "cell_type": "code",
   "execution_count": 27,
   "metadata": {
    "collapsed": false
   },
   "outputs": [
    {
     "name": "stderr",
     "output_type": "stream",
     "text": [
      "C:\\Anaconda2\\lib\\site-packages\\ipykernel\\__main__.py:2: DeprecationWarning: Passing additional arguments to the metric function as **kwargs is deprecated and will no longer be supported in 0.18. Use metric_params instead.\n",
      "  from ipykernel import kernelapp as app\n"
     ]
    },
    {
     "name": "stdout",
     "output_type": "stream",
     "text": [
      "Predicted Class Labels: [4 4 4 ..., 4 4 4]\n",
      "Classification Accuracy: 0.113382899628\n"
     ]
    }
   ],
   "source": [
    "# Instantiate the estimator\n",
    "clf_knn =  KNeighborsClassifier(n_neighbors=1, weight='distance')\n",
    "\n",
    "# Fit the model with data (aka \"model training\")\n",
    "clf_knn.fit(Xtr, ytr)\n",
    "\n",
    "# Predict the response for a new observation\n",
    "y_pred_knn = clf_knn.predict(Xtt)\n",
    "print \"Predicted Class Labels:\",y_pred_knn\n",
    "\n",
    "# calculate accuracy\n",
    "print \"Classification Accuracy:\",metrics.accuracy_score(ytt, y_pred_knn)"
   ]
  },
  {
   "cell_type": "markdown",
   "metadata": {},
   "source": [
    "### Classification Accuracy of Linear SVM"
   ]
  },
  {
   "cell_type": "code",
   "execution_count": 28,
   "metadata": {
    "collapsed": false
   },
   "outputs": [
    {
     "name": "stdout",
     "output_type": "stream",
     "text": [
      "Predicted Class Labels: [ 4  1  2 ..., 18 12 15]\n",
      "Classification Accuracy: 0.691980881572\n"
     ]
    }
   ],
   "source": [
    "# Instantiate the estimator\n",
    "clf_svc =  LinearSVC(C=1, tol=0.01)\n",
    "\n",
    "# Fit the model with data (aka \"model training\")\n",
    "clf_svc.fit(Xtr, ytr)\n",
    "\n",
    "# Predict the response for a new observation\n",
    "y_pred_svc = clf_svc.predict(Xtt)\n",
    "print \"Predicted Class Labels:\",y_pred_svc\n",
    "\n",
    "# calculate accuracy\n",
    "print \"Classification Accuracy:\",metrics.accuracy_score(ytt, y_pred_svc)"
   ]
  },
  {
   "cell_type": "markdown",
   "metadata": {},
   "source": [
    "## Confusion matrix\n",
    "\n",
    "- Table that describes the performance of a classification model"
   ]
  },
  {
   "cell_type": "markdown",
   "metadata": {},
   "source": [
    "### Confusion matrix of MultinomialNB"
   ]
  },
  {
   "cell_type": "code",
   "execution_count": 29,
   "metadata": {
    "collapsed": false
   },
   "outputs": [
    {
     "name": "stdout",
     "output_type": "stream",
     "text": [
      "[[141   1   2   2   1   2   0   3   5   2  10   4   1   2  10  79  12  13\n",
      "   10  19]\n",
      " [  4 278  10  16  16  24   4   0   3   1   5  11   3   1   7   4   0   2\n",
      "    0   0]\n",
      " [  4  26 205  65  10  24   3   1   5   0  16  12   2   3   7   2   0   1\n",
      "    5   3]\n",
      " [  0  11  27 279  32   2   9   4   0   0   8   3  17   0   0   0   0   0\n",
      "    0   0]\n",
      " [  0  11   7  33 268   3   8   6   2   0  15   6  15   2   6   1   2   0\n",
      "    0   0]\n",
      " [  0  46  14   7   6 293   4   0   0   1   5   7   5   2   3   1   1   0\n",
      "    0   0]\n",
      " [  0   3   1  30  21   0 280  15   7   2  11   1   8   1   6   1   2   0\n",
      "    1   0]\n",
      " [  1   1   1   1   0   0   8 289  31   0  24   4   9   3   6   3   6   2\n",
      "    7   0]\n",
      " [  6   2   1   1   2   2   5  28 292   2  13   0   8   6   4   6  10   3\n",
      "    6   1]\n",
      " [  5   3   0   0   0   1   5   0   4 321  30   4   1   4   3   5   3   2\n",
      "    6   0]\n",
      " [  4   0   0   0   0   1   0   1   2   5 373   3   0   1   2   6   1   0\n",
      "    0   0]\n",
      " [  1  12   5   3   3   1   1   0   4   3  16 298   3   1   5   7  19   6\n",
      "    7   1]\n",
      " [  1  11   9  28  11   2   8  12   9   1  11  33 228  13  11   2   0   2\n",
      "    1   0]\n",
      " [  4   6   0   1   0   0   1   7   3   0  16   0   5 309   6  19   9   3\n",
      "    5   2]\n",
      " [  5   7   1   1   0   2   0   6   2   1  18   3   6   5 311   6   4   7\n",
      "    8   1]\n",
      " [  8   3   1   0   1   1   0   0   1   1  14   1   0   1   2 354   2   0\n",
      "    2   6]\n",
      " [  5   0   0   1   0   1   1   6   3   1  11  11   1   4   8  14 267   8\n",
      "   11  11]\n",
      " [ 12   2   0   1   0   1   0   1   4   2  10   3   1   0   0  19   8 303\n",
      "    9   0]\n",
      " [ 16   2   0   0   0   0   1   5   2   1   7   5   2  10   7  12  91   9\n",
      "  138   2]\n",
      " [ 31   3   2   1   0   0   0   2   4   1   7   4   2   7   5  96  22   9\n",
      "    8  47]]\n"
     ]
    }
   ],
   "source": [
    "# first argument is true values, second argument is predicted values\n",
    "print metrics.confusion_matrix(ytt, y_pred_mnb)"
   ]
  },
  {
   "cell_type": "markdown",
   "metadata": {},
   "source": [
    "### Confusion matrix of KNN"
   ]
  },
  {
   "cell_type": "code",
   "execution_count": 30,
   "metadata": {
    "collapsed": false
   },
   "outputs": [
    {
     "name": "stdout",
     "output_type": "stream",
     "text": [
      "[[ 21   0   0   0 291   0   0   1   1   0   0   3   0   0   0   1   0   0\n",
      "    0   1]\n",
      " [  0  20   0   0 368   0   0   0   0   1   0   0   0   0   0   0   0   0\n",
      "    0   0]\n",
      " [  0   0  12   1 376   1   0   0   0   0   0   0   1   0   2   0   0   0\n",
      "    0   1]\n",
      " [  0   1   2  38 350   0   0   0   0   0   0   0   1   0   0   0   0   0\n",
      "    0   0]\n",
      " [  0   0   0   0 385   0   0   0   0   0   0   0   0   0   0   0   0   0\n",
      "    0   0]\n",
      " [  0   1   1   2 366  25   0   0   0   0   0   0   0   0   0   0   0   0\n",
      "    0   0]\n",
      " [  0   0   0   1 337   0  45   0   1   4   0   0   2   0   0   0   0   0\n",
      "    0   0]\n",
      " [  0   0   0   0 383   1   0  11   1   0   0   0   0   0   0   0   0   0\n",
      "    0   0]\n",
      " [  0   0   1   0 371   0   0   0  26   0   0   0   0   0   0   0   0   0\n",
      "    0   0]\n",
      " [  0   0   0   0 382   0   0   0   0  15   0   0   0   0   0   0   0   0\n",
      "    0   0]\n",
      " [  0   0   0   0 354   0   0   0   1   0  43   0   0   1   0   0   0   0\n",
      "    0   0]\n",
      " [  0   0   1   0 363   0   0   0   0   0   1  27   0   0   0   0   2   1\n",
      "    0   1]\n",
      " [  0   0   0   0 379   0   1   0   0   0   0   0  13   0   0   0   0   0\n",
      "    0   0]\n",
      " [  0   0   0   0 381   0   0   0   0   0   0   0   0  15   0   0   0   0\n",
      "    0   0]\n",
      " [  0   0   0   0 366   0   0   2   0   0   0   0   0   0  26   0   0   0\n",
      "    0   0]\n",
      " [  8   0   0   0 358   0   0   0   0   0   0   0   0   0   0  31   0   0\n",
      "    0   1]\n",
      " [  0   1   0   0 346   0   0   1   0   0   0   2   0   0   1   0  10   3\n",
      "    0   0]\n",
      " [  0   0   0   0 315   0   0   1   0   0   0   1   0   0   0   0   0  59\n",
      "    0   0]\n",
      " [  0   0   0   0 284   0   0   0   0   0   0   0   0   0   0   0   6   0\n",
      "   20   0]\n",
      " [  3   0   0   0 224   0   0   1   0   0   0   5   0   0   1   4   0   1\n",
      "    0  12]]\n"
     ]
    }
   ],
   "source": [
    "# first argument is true values, second argument is predicted values\n",
    "print metrics.confusion_matrix(ytt, y_pred_knn)"
   ]
  },
  {
   "cell_type": "markdown",
   "metadata": {},
   "source": [
    "### Confusion matrix of Linear SVM"
   ]
  },
  {
   "cell_type": "code",
   "execution_count": 31,
   "metadata": {
    "collapsed": false
   },
   "outputs": [
    {
     "name": "stdout",
     "output_type": "stream",
     "text": [
      "[[157   2   3   2   1   0   2   7   6  12   1   2   8   8  11  44   6  13\n",
      "    8  26]\n",
      " [  6 278  18   8   6  24   5   3   3  10   0   6   8   0   8   1   2   2\n",
      "    1   0]\n",
      " [  4  19 242  37  18  14   3   3   2  18   2   2   2   4   9   1   2   3\n",
      "    6   3]\n",
      " [  0  12  37 254  22   9  13   2   0   8   1   2  27   0   2   0   0   0\n",
      "    3   0]\n",
      " [  2   3  10  35 267   4   9   6   5  14   1   4  15   0   4   2   3   0\n",
      "    1   0]\n",
      " [  0  47  36   9   4 273   2   0   1   6   0   3   4   2   5   1   0   0\n",
      "    0   2]\n",
      " [  1   3   6  14  12   0 311   6   6  11   2   1   7   0   0   2   4   1\n",
      "    2   1]\n",
      " [  6   1   4   3   2   2  12 282  15  28   2   1  13   3   6   1   3   5\n",
      "    6   1]\n",
      " [  2   3   4   1   3   0   4  21 302  16   1   0   8   7   7   5   4   2\n",
      "    6   2]\n",
      " [  3   2   0   4   1   1   7   3   6 329  20   1   1   4   1   6   1   0\n",
      "    7   0]\n",
      " [  1   2   1   0   2   0   1   3   2  23 345   2   1   3   3   2   4   1\n",
      "    0   3]\n",
      " [  4   7   7   3   4   4   6   3   3  19   3 282  10   2   4   4  12   3\n",
      "   12   4]\n",
      " [  3  10  12  26  10   8  16   8  10  14   2  12 230  12   9   2   3   2\n",
      "    2   2]\n",
      " [  7   9   2   1   2   1   3   6   4  15   4   1   8 302   4   7   4   6\n",
      "    7   3]\n",
      " [  6  10   3   2   3   2   3   8   5  18   3   1  14   7 289   5   6   2\n",
      "    7   0]\n",
      " [ 19   2   2   1   0   1   1   2   1  15   0   0   2   7   2 319   0   1\n",
      "    3  20]\n",
      " [  5   2   5   2   1   0   2   7   8  13   0   8   1   6   8  11 243   9\n",
      "   21  12]\n",
      " [ 22   1   1   4   0   0   0   1   5  12   1   4   3   2   2  11   6 283\n",
      "   15   3]\n",
      " [ 12   1   1   2   0   0   0   6   3   9   4   3   2   5  11   3  86   7\n",
      "  145  10]\n",
      " [ 31   4   1   2   0   1   2   3   1   9   3   2   1   7   6  63  20   6\n",
      "   10  79]]\n"
     ]
    }
   ],
   "source": [
    "# first argument is true values, second argument is predicted values\n",
    "print metrics.confusion_matrix(ytt, y_pred_svc)"
   ]
  },
  {
   "cell_type": "markdown",
   "metadata": {},
   "source": [
    "## Metrics computed from a confusion matrix"
   ]
  },
  {
   "cell_type": "markdown",
   "metadata": {},
   "source": [
    "**Classification Error:** Overall, how often is the classifier incorrect?\n",
    "\n",
    "- Also known as \"Misclassification Rate\""
   ]
  },
  {
   "cell_type": "code",
   "execution_count": 32,
   "metadata": {
    "collapsed": false
   },
   "outputs": [
    {
     "name": "stdout",
     "output_type": "stream",
     "text": [
      "Classification Error of MultinomialNB: 0.299787573022\n",
      "Classification Error of KNN: 0.886617100372\n",
      "Classification Error of LinearSVC: 0.308019118428\n"
     ]
    }
   ],
   "source": [
    "print \"Classification Error of MultinomialNB:\", 1 - metrics.accuracy_score(ytt, y_pred_mnb)\n",
    "print \"Classification Error of KNN:\", 1 - metrics.accuracy_score(ytt, y_pred_knn)\n",
    "print \"Classification Error of LinearSVC:\", 1 - metrics.accuracy_score(ytt, y_pred_svc)"
   ]
  },
  {
   "cell_type": "markdown",
   "metadata": {},
   "source": [
    "**Sensitivity:** When the actual value is positive, how often is the prediction correct?\n",
    "\n",
    "- How \"sensitive\" is the classifier to detecting positive instances?\n",
    "- Also known as \"True Positive Rate\" or \"Recall\""
   ]
  },
  {
   "cell_type": "code",
   "execution_count": 33,
   "metadata": {
    "collapsed": false
   },
   "outputs": [
    {
     "name": "stdout",
     "output_type": "stream",
     "text": [
      "Sensitivity of MultinomialNB: 0.700212426978\n",
      "Sensitivity of KNN: 0.113382899628\n",
      "Sensitivity of LinearSVC: 0.691980881572\n"
     ]
    }
   ],
   "source": [
    "print \"Sensitivity of MultinomialNB:\",metrics.recall_score(ytt, y_pred_mnb, average='weighted')\n",
    "print \"Sensitivity of KNN:\",metrics.recall_score(ytt, y_pred_knn, average='weighted')\n",
    "print \"Sensitivity of LinearSVC:\",metrics.recall_score(ytt, y_pred_svc, average='weighted')"
   ]
  },
  {
   "cell_type": "markdown",
   "metadata": {},
   "source": [
    "**Precision:** When a positive value is predicted, how often is the prediction correct?\n",
    "\n",
    "- How \"precise\" is the classifier when predicting positive instances?\n",
    "- TP / (TP + FP)"
   ]
  },
  {
   "cell_type": "code",
   "execution_count": 34,
   "metadata": {
    "collapsed": false
   },
   "outputs": [
    {
     "name": "stdout",
     "output_type": "stream",
     "text": [
      "Precision of MultinomialNB: 0.708195639892\n",
      "Precision of KNN: 0.786268523483\n",
      "Precision of LinearSVC: 0.69598233188\n"
     ]
    }
   ],
   "source": [
    "print \"Precision of MultinomialNB:\", metrics.precision_score(ytt, y_pred_mnb, average='weighted')\n",
    "print \"Precision of KNN:\", metrics.precision_score(ytt, y_pred_knn, average='weighted')\n",
    "print \"Precision of LinearSVC:\", metrics.precision_score(ytt, y_pred_svc, average='weighted')"
   ]
  },
  {
   "cell_type": "markdown",
   "metadata": {},
   "source": [
    "**F-measure:** \n",
    "- 2 * P * R / (P + R) "
   ]
  },
  {
   "cell_type": "code",
   "execution_count": 35,
   "metadata": {
    "collapsed": false
   },
   "outputs": [
    {
     "name": "stdout",
     "output_type": "stream",
     "text": [
      "F-measure of MultinomialNB: 0.694315231835\n",
      "F-measure of KNN: 0.119338786752\n",
      "F-measure of LinearSVC: 0.690592949377\n"
     ]
    }
   ],
   "source": [
    "print \"F-measure of MultinomialNB:\", metrics.f1_score(ytt, y_pred_mnb, average='weighted')\n",
    "print \"F-measure of KNN:\", metrics.f1_score(ytt, y_pred_knn, average='weighted')\n",
    "print \"F-measure of LinearSVC:\", metrics.f1_score(ytt, y_pred_svc, average='weighted')"
   ]
  },
  {
   "cell_type": "markdown",
   "metadata": {},
   "source": [
    "**Specificity:** When the actual value is negative, how often is the prediction correct?\n",
    "\n",
    "- How \"specific\" (or \"selective\") is the classifier in predicting positive instances?\n",
    "- TN / (TN + FP)"
   ]
  },
  {
   "cell_type": "markdown",
   "metadata": {},
   "source": [
    "**False Positive Rate:** When the actual value is negative, how often is the prediction incorrect?\n",
    "- FP / (TN + FP)"
   ]
  },
  {
   "cell_type": "markdown",
   "metadata": {},
   "source": [
    "**True Positive Rate:** When the actual value is positive, how often is the prediction correct?\n",
    "- TP / (TP + FP)"
   ]
  },
  {
   "cell_type": "markdown",
   "metadata": {},
   "source": [
    "## ROC Curves and Area Under the Curve (AUC)"
   ]
  },
  {
   "cell_type": "code",
   "execution_count": 36,
   "metadata": {
    "collapsed": true
   },
   "outputs": [],
   "source": [
    "# importing the required modules\n",
    "from sklearn.metrics import roc_curve, auc\n",
    "from sklearn.cross_validation import train_test_split\n",
    "from sklearn.preprocessing import label_binarize\n",
    "from sklearn.multiclass import OneVsRestClassifier"
   ]
  },
  {
   "cell_type": "code",
   "execution_count": 70,
   "metadata": {
    "collapsed": true
   },
   "outputs": [],
   "source": [
    "def ROC_multi_class(Xtr, ytr, Xtt, ytt, clf):\n",
    "    \n",
    "    classes = [0,1, 2, 3, 4]\n",
    "    # Binarize the output\n",
    "    ytr = label_binarize(ytr, classes=classes)\n",
    "    n_classes = ytr.shape[1]\n",
    "    \n",
    "    # Learn to predict each class against the other\n",
    "    classifier = OneVsRestClassifier(clf)\n",
    "    classifier.fit(Xtr, ytr)\n",
    "    if (clf == clf_svc):\n",
    "        y_pred_score = classifier.decision_function(Xtt)\n",
    "    else:\n",
    "        y_pred_score = classifier.predict_proba(Xtt)\n",
    "    \n",
    "    ytt = label_binarize(ytt, classes=classes)\n",
    "    \n",
    "    \n",
    "    # Compute ROC curve and ROC area for each class\n",
    "    fpr = dict()\n",
    "    tpr = dict()\n",
    "    roc_auc = dict()\n",
    "    for i in range(n_classes):\n",
    "        fpr[i], tpr[i], _ = roc_curve(ytt[:, i], y_pred_score[:, i])\n",
    "        roc_auc[i] = auc(fpr[i], tpr[i])\n",
    "\n",
    "    \n",
    "    # Plot ROC curves for the multiclass\n",
    "    for i in range(n_classes):\n",
    "        plt.plot(fpr[i], tpr[i], label='ROC curve of class {0} (area = {1:0.2f})'\n",
    "                                       ''.format(i+1, roc_auc[i]))\n",
    "    \n",
    "    plt.plot([0, 1], [0, 1], 'k--')\n",
    "    plt.xlim([0.0, 1.0])\n",
    "    plt.ylim([0.0, 1.05])\n",
    "    plt.xlabel('False Positive Rate')\n",
    "    plt.ylabel('True Positive Rate')\n",
    "    plt.title('ROC of multi-class')\n",
    "    plt.legend(loc=\"lower right\")\n",
    "    plt.show()"
   ]
  },
  {
   "cell_type": "markdown",
   "metadata": {},
   "source": [
    "### Multi-class ROC of Multinomial Naive Bayes"
   ]
  },
  {
   "cell_type": "code",
   "execution_count": 71,
   "metadata": {
    "collapsed": false
   },
   "outputs": [
    {
     "name": "stdout",
     "output_type": "stream",
     "text": [
      "ROC and AUC of MultinomialNB\n"
     ]
    },
    {
     "data": {
      "image/png": "[encoded data removed]",
      "text/plain": [
       "<matplotlib.figure.Figure at 0x113f4e80>"
      ]
     },
     "metadata": {},
     "output_type": "display_data"
    }
   ],
   "source": [
    "# ROC for MultinomialNB\n",
    "print \"ROC and AUC of MultinomialNB\"\n",
    "ROC_multi_class(Xtr, ytr, Xtt, ytt, clf_MNB)"
   ]
  },
  {
   "cell_type": "code",
   "execution_count": 72,
   "metadata": {
    "collapsed": false
   },
   "outputs": [
    {
     "name": "stdout",
     "output_type": "stream",
     "text": [
      "ROC and AUC of KNN\n"
     ]
    },
    {
     "data": {
      "image/png": "[encoded data removed]",
      "text/plain": [
       "<matplotlib.figure.Figure at 0x122d7978>"
      ]
     },
     "metadata": {},
     "output_type": "display_data"
    }
   ],
   "source": [
    "# ROC for KNeighborsClassifier\n",
    "print \"ROC and AUC of KNN\"\n",
    "ROC_multi_class(Xtr, ytr, Xtt, ytt, clf_knn)"
   ]
  },
  {
   "cell_type": "code",
   "execution_count": 73,
   "metadata": {
    "collapsed": false
   },
   "outputs": [
    {
     "name": "stdout",
     "output_type": "stream",
     "text": [
      "ROC and AUC of LinearSVC\n"
     ]
    },
    {
     "data": {
      "image/png": "[encoded data removed]",
      "text/plain": [
       "<matplotlib.figure.Figure at 0x11e6ceb8>"
      ]
     },
     "metadata": {},
     "output_type": "display_data"
    }
   ],
   "source": [
    "# ROC for LinearSVC\n",
    "print \"ROC and AUC of LinearSVC\"\n",
    "ROC_multi_class(Xtr, ytr, Xtt, ytt, clf_svc)"
   ]
  },
  {
   "cell_type": "markdown",
   "metadata": {},
   "source": [
    "## PR Curves and Area Under the Curve PR (AUC-PR)"
   ]
  },
  {
   "cell_type": "code",
   "execution_count": 41,
   "metadata": {
    "collapsed": true
   },
   "outputs": [],
   "source": [
    "# importing the required module\n",
    "from sklearn.metrics import precision_recall_curve\n",
    "from sklearn.metrics import average_precision_score"
   ]
  },
  {
   "cell_type": "code",
   "execution_count": 74,
   "metadata": {
    "collapsed": false
   },
   "outputs": [],
   "source": [
    "def PR_multi_class(Xtr, ytr, Xtt, ytt, clf):\n",
    "    \n",
    "    classes = [0,1, 2, 3, 4]\n",
    "    # Binarize the output\n",
    "    ytr = label_binarize(ytr, classes=classes)\n",
    "    n_classes = ytr.shape[1]\n",
    "    \n",
    "    # Learn to predict each class against the other\n",
    "    classifier = OneVsRestClassifier(clf)\n",
    "    classifier.fit(Xtr, ytr)\n",
    "    if (clf == clf_svc):\n",
    "        y_pred_score = classifier.decision_function(Xtt)\n",
    "    else:\n",
    "        y_pred_score = classifier.predict_proba(Xtt)\n",
    "    \n",
    "    ytt = label_binarize(ytt, classes=classes)\n",
    "    \n",
    "    # Compute Precision-Recall and plot curve\n",
    "    precision = dict()\n",
    "    recall = dict()\n",
    "    average_precision = dict()\n",
    "    for i in range(n_classes):\n",
    "        precision[i], recall[i], _ = precision_recall_curve(ytt[:, i], y_pred_score[:, i])\n",
    "        average_precision[i] = average_precision_score(ytt[:, i], y_pred_score[:, i])\n",
    "    \n",
    "    for i in range(n_classes):\n",
    "        plt.plot(recall[i], precision[i], label='PR curve of class {0} (area = {1:0.2f})'\n",
    "                       ''.format(i+1, average_precision[i]))\n",
    "    \n",
    "    plt.xlim([0.0, 1.0])\n",
    "    plt.ylim([0.0, 1.05])\n",
    "    plt.xlabel('Recall')\n",
    "    plt.ylabel('Precision')\n",
    "    plt.title('Precision-Recall curve of multi-class')\n",
    "    plt.legend(loc=\"lower right\")\n",
    "    plt.show()"
   ]
  },
  {
   "cell_type": "code",
   "execution_count": 75,
   "metadata": {
    "collapsed": false
   },
   "outputs": [
    {
     "name": "stdout",
     "output_type": "stream",
     "text": [
      "PR and AUC of MultinomialNB\n"
     ]
    },
    {
     "data": {
      "image/png": "[encoded data removed]",
      "text/plain": [
       "<matplotlib.figure.Figure at 0xa984cf8>"
      ]
     },
     "metadata": {},
     "output_type": "display_data"
    }
   ],
   "source": [
    "# PR curve of MultinomialNB\n",
    "print \"PR and AUC of MultinomialNB\"\n",
    "PR_multi_class(Xtr, ytr, Xtt, ytt, clf_MNB)"
   ]
  },
  {
   "cell_type": "code",
   "execution_count": 76,
   "metadata": {
    "collapsed": false
   },
   "outputs": [
    {
     "name": "stdout",
     "output_type": "stream",
     "text": [
      "PR and AUC of KNN\n"
     ]
    },
    {
     "data": {
      "image/png": "[encoded data removed]",
      "text/plain": [
       "<matplotlib.figure.Figure at 0x1538c828>"
      ]
     },
     "metadata": {},
     "output_type": "display_data"
    }
   ],
   "source": [
    "# PR curve of KNeighborsClassifier\n",
    "print \"PR and AUC of KNN\"\n",
    "PR_multi_class(Xtr, ytr, Xtt, ytt, clf_knn)"
   ]
  },
  {
   "cell_type": "code",
   "execution_count": 77,
   "metadata": {
    "collapsed": false
   },
   "outputs": [
    {
     "name": "stdout",
     "output_type": "stream",
     "text": [
      "PR and AUC of LinearSVC\n"
     ]
    },
    {
     "data": {
      "image/png": "[encoded data removed]",
      "text/plain": [
       "<matplotlib.figure.Figure at 0x11ba1518>"
      ]
     },
     "metadata": {},
     "output_type": "display_data"
    }
   ],
   "source": [
    "# PR curve of LinearSVC\n",
    "print \"PR and AUC of LinearSVC\"\n",
    "PR_multi_class(Xtr, ytr, Xtt, ytt, clf_svc)"
   ]
  },
  {
   "cell_type": "markdown",
   "metadata": {},
   "source": [
    "## Benchmarking of Different Classifiers"
   ]
  },
  {
   "cell_type": "markdown",
   "metadata": {},
   "source": [
    "Diagram of **Benchmarking of different Classifiers:**\n",
    "\n",
    "![benchmarking](images/benchmark.png)"
   ]
  },
  {
   "cell_type": "markdown",
   "metadata": {},
   "source": [
    "## References"
   ]
  },
  {
   "cell_type": "markdown",
   "metadata": {},
   "source": [
    "- http://scikit-learn.org/stable/modules/svm.html\n",
    "- http://scikit-learn.org/stable/tutorial/basic/tutorial.html\n",
    "- http://scikitlearn.org/stable/modules/grid_search.html\n",
    "- http://scikit-learn.org/stable/datasets/twenty_newsgroups.html\n",
    "- http://scikit-learn.org/stable/auto_examples/text/document_classification_20newsgroups.html#example-text-document-classification-20newsgroups-py\n",
    "- http://scikit-learn.org/stable/auto_examples/model_selection/grid_search_text_feature_extraction.html#example-model-selection-grid-search-text-feature-extraction-py\n",
    "- https://en.wikipedia.org/wiki/Sensitivity_and_specificity\n",
    "- https://en.wikipedia.org/wiki/Sensitivity_and_specificity\n",
    "- http://scikitlearn.org/stable/modules/generated/sklearn.metrics.roc_curve.html\n",
    "- http://scikitlearn.org/stable/auto_examples/model_selection/plot_roc.html#example-model-selection-plotroc-py\n",
    "- http://scikitlearn.org/stable/model_selection.html"
   ]
  }
 ],
 "metadata": {
  "kernelspec": {
   "display_name": "Python 2",
   "language": "python",
   "name": "python2"
  },
  "language_info": {
   "codemirror_mode": {
    "name": "ipython",
    "version": 2
   },
   "file_extension": ".py",
   "mimetype": "text/x-python",
   "name": "python",
   "nbconvert_exporter": "python",
   "pygments_lexer": "ipython2",
   "version": "2.7.10"
  }
 },
 "nbformat": 4,
 "nbformat_minor": 0
}
