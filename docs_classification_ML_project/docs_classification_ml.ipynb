{
 "cells": [
  {
   "cell_type": "markdown",
   "metadata": {},
   "source": [
    "# Documents Classification using Machine Learning"
   ]
  },
  {
   "cell_type": "markdown",
   "metadata": {},
   "source": [
    "## Introducing the 20newsgroups dataset"
   ]
  },
  {
   "cell_type": "markdown",
   "metadata": {},
   "source": [
    "The 20 Newsgroups data set is a collection of approximately <b>20,000</b> newsgroup documents, partitioned (nearly) evenly across <b>20</b> different newsgroups.The 20 newsgroups collection has become a popular data set for experiments in text applications of machine learning techniques, such as text classification and text clustering.<br></br>\n",
    "For more information, click this link: [20newsgroups Dataset](http://qwone.com/~jason/20Newsgroups/)\n"
   ]
  },
  {
   "cell_type": "markdown",
   "metadata": {},
   "source": [
    "## Machine learning on the 20newsgroups dataset\n",
    "\n",
    "- Framed as a **supervised learning** problem: Predict the label (class) of test document\n",
    "- Famous dataset for machine learning of **text classificaton**\n",
    "- Learn more about the 20newsgroups dataset: [UCI Machine Learning Repository](https://archive.ics.uci.edu/ml/datasets/Twenty+Newsgroups)"
   ]
  },
  {
   "cell_type": "code",
   "execution_count": 1,
   "metadata": {
    "collapsed": true
   },
   "outputs": [],
   "source": [
    "# import required modules\n",
    "import numpy as np\n",
    "from sklearn.feature_extraction.text import TfidfVectorizer\n",
    "import matplotlib.pyplot as plt\n",
    "\n",
    "%matplotlib inline"
   ]
  },
  {
   "cell_type": "markdown",
   "metadata": {},
   "source": [
    "## Loading the 20newsgroups  dataset into scikit-learn"
   ]
  },
  {
   "cell_type": "code",
   "execution_count": 2,
   "metadata": {
    "collapsed": true
   },
   "outputs": [],
   "source": [
    "# import 20 newsgroup dataset\n",
    "from sklearn.datasets import fetch_20newsgroups\n",
    "\n",
    "categories = ['alt.atheism', 'comp.graphics', 'sci.space']\n",
    "#categories = None\n",
    "data_train = fetch_20newsgroups(subset='train', remove=('headers', 'footers', 'quotes'), categories=categories)\n",
    "data_test = fetch_20newsgroups(subset='test', remove=('headers', 'footers', 'quotes'), categories=categories)"
   ]
  },
  {
   "cell_type": "code",
   "execution_count": 3,
   "metadata": {
    "collapsed": false
   },
   "outputs": [
    {
     "data": {
      "text/plain": [
       "sklearn.datasets.base.Bunch"
      ]
     },
     "execution_count": 3,
     "metadata": {},
     "output_type": "execute_result"
    }
   ],
   "source": [
    "type(data_train)\n",
    "type(data_test)"
   ]
  },
  {
   "cell_type": "code",
   "execution_count": 4,
   "metadata": {
    "collapsed": false
   },
   "outputs": [
    {
     "name": "stdout",
     "output_type": "stream",
     "text": [
      "Train data target labels: [2 1 0 ..., 2 2 2]\n",
      "Test data target labels: [2 1 1 ..., 0 1 2]\n"
     ]
    }
   ],
   "source": [
    "print \"Train data target labels:\",data_train.target\n",
    "print \"Test data target labels:\",data_test.target"
   ]
  },
  {
   "cell_type": "code",
   "execution_count": 5,
   "metadata": {
    "collapsed": false
   },
   "outputs": [
    {
     "name": "stdout",
     "output_type": "stream",
     "text": [
      "Train data target names: ['alt.atheism', 'comp.graphics', 'sci.space']\n",
      "Test data target names: ['alt.atheism', 'comp.graphics', 'sci.space']\n"
     ]
    }
   ],
   "source": [
    "print \"Train data target names:\",data_train.target_names\n",
    "print \"Test data target names:\",data_test.target_names"
   ]
  },
  {
   "cell_type": "code",
   "execution_count": 6,
   "metadata": {
    "collapsed": false
   },
   "outputs": [
    {
     "name": "stdout",
     "output_type": "stream",
     "text": [
      "Total train data: 1657\n",
      "Total test data: 1102\n"
     ]
    }
   ],
   "source": [
    "print \"Total train data:\",len(data_train.data)\n",
    "print \"Total test data:\",len(data_test.data)"
   ]
  },
  {
   "cell_type": "code",
   "execution_count": 7,
   "metadata": {
    "collapsed": false
   },
   "outputs": [
    {
     "name": "stdout",
     "output_type": "stream",
     "text": [
      "<type 'list'>\n",
      "<type 'numpy.ndarray'>\n",
      "<type 'list'>\n",
      "<type 'numpy.ndarray'>\n"
     ]
    }
   ],
   "source": [
    "# Train data type\n",
    "print type(data_train.data)\n",
    "print type(data_train.target)\n",
    "\n",
    "# Test data type\n",
    "print type(data_test.data)\n",
    "print type(data_test.target)"
   ]
  },
  {
   "cell_type": "markdown",
   "metadata": {},
   "source": [
    "## Requirements for working with data in scikit-learn\n",
    "\n",
    "1. Features and response are **separate objects**\n",
    "2. Features and response should be **numeric**\n",
    "3. Features and response should be **NumPy arrays**\n",
    "4. Features and response should have **specific shapes**"
   ]
  },
  {
   "cell_type": "code",
   "execution_count": 8,
   "metadata": {
    "collapsed": false
   },
   "outputs": [],
   "source": [
    "# So, first converting text data into vectors of numerical values using tf-idf to form feature vector\n",
    "vectorizer = TfidfVectorizer()\n",
    "data_train_vectors = vectorizer.fit_transform(data_train.data)\n",
    "data_test_vectors = vectorizer.transform(data_test.data) "
   ]
  },
  {
   "cell_type": "code",
   "execution_count": 9,
   "metadata": {
    "collapsed": false
   },
   "outputs": [
    {
     "name": "stdout",
     "output_type": "stream",
     "text": [
      "<type 'numpy.ndarray'>\n",
      "<type 'numpy.ndarray'>\n",
      "<type 'numpy.ndarray'>\n",
      "<type 'numpy.ndarray'>\n"
     ]
    }
   ],
   "source": [
    "# Train data type\n",
    "print type(data_train_vectors.data)\n",
    "print type(data_train.target)\n",
    "\n",
    "# Test data type\n",
    "print type(data_train_vectors.data)\n",
    "print type(data_train.target)"
   ]
  },
  {
   "cell_type": "code",
   "execution_count": 10,
   "metadata": {
    "collapsed": false
   },
   "outputs": [
    {
     "name": "stdout",
     "output_type": "stream",
     "text": [
      "(1657, 23598)\n"
     ]
    }
   ],
   "source": [
    "# check the shape of the features matrix\n",
    "print data_train_vectors.shape"
   ]
  },
  {
   "cell_type": "code",
   "execution_count": 11,
   "metadata": {
    "collapsed": false
   },
   "outputs": [
    {
     "name": "stdout",
     "output_type": "stream",
     "text": [
      "(1657,)\n"
     ]
    }
   ],
   "source": [
    "# check the shape of the response (single dimension matching the number of observations)\n",
    "print data_train.target.shape"
   ]
  },
  {
   "cell_type": "markdown",
   "metadata": {},
   "source": [
    "## Train \\ Test data "
   ]
  },
  {
   "cell_type": "code",
   "execution_count": 12,
   "metadata": {
    "collapsed": false
   },
   "outputs": [
    {
     "name": "stdout",
     "output_type": "stream",
     "text": [
      "Xtr:\n",
      "  (0, 2293)\t0.0568280215424\n",
      "  (0, 21227)\t0.121555652548\n",
      "  (0, 23279)\t0.162682664633\n",
      "  (0, 22111)\t0.189673869507\n",
      "  (0, 11198)\t0.0923628155246\n",
      "  (0, 6462)\t0.167162023314\n",
      "  (0, 14927)\t0.10611170996\n",
      "  (0, 16056)\t0.179712218873\n",
      "  (0, 6958)\t0.179712218873\n",
      "  (0, 4722)\t0.158895420831\n",
      "  (0, 3574)\t0.129669180059\n",
      "  (0, 22216)\t0.135691459759\n",
      "  (0, 8921)\t0.189673869507\n",
      "  (0, 13006)\t0.102677975185\n",
      "  (0, 21998)\t0.092129937445\n",
      "  (0, 11178)\t0.179712218873\n",
      "  (0, 22190)\t0.0697109777652\n",
      "  (0, 16313)\t0.138585206788\n",
      "  (0, 14103)\t0.0826362715022\n",
      "  (0, 23500)\t0.0440912431309\n",
      "  (0, 23033)\t0.0760454402352\n",
      "  (0, 18591)\t0.152721013999\n",
      "  (0, 16423)\t0.14017081844\n",
      "  (0, 15619)\t0.150132469074\n",
      "  (0, 6059)\t0.10611170996\n",
      "  :\t:\n",
      "  (1656, 12414)\t0.0590184792754\n",
      "  (1656, 23019)\t0.0525942315174\n",
      "  (1656, 15391)\t0.0802011928242\n",
      "  (1656, 9677)\t0.0496626853888\n",
      "  (1656, 19060)\t0.0703737739278\n",
      "  (1656, 11617)\t0.0969878887287\n",
      "  (1656, 6828)\t0.0915048755825\n",
      "  (1656, 15112)\t0.0697082033304\n",
      "  (1656, 23101)\t0.167710322711\n",
      "  (1656, 23178)\t0.0918624377404\n",
      "  (1656, 11428)\t0.0332029324001\n",
      "  (1656, 21225)\t0.0619234586476\n",
      "  (1656, 21152)\t0.107385174723\n",
      "  (1656, 21239)\t0.0817028414641\n",
      "  (1656, 15073)\t0.0441671231255\n",
      "  (1656, 21151)\t0.103577351669\n",
      "  (1656, 7674)\t0.0530084814193\n",
      "  (1656, 23500)\t0.0406084356437\n",
      "  (1656, 21402)\t0.0584753539468\n",
      "  (1656, 12065)\t0.0334437720787\n",
      "  (1656, 12119)\t0.102819640733\n",
      "  (1656, 4713)\t0.0434365705925\n",
      "  (1656, 15490)\t0.0908046641616\n",
      "  (1656, 15303)\t0.0613814596488\n",
      "  (1656, 9479)\t0.0367564481003\n",
      "ytr: [2 1 0 ..., 2 2 2]\n"
     ]
    }
   ],
   "source": [
    "# store training feature matrix in \"Xtr\"\n",
    "Xtr = data_train_vectors\n",
    "print \"Xtr:\\n\", Xtr\n",
    "\n",
    "# store training response vector in \"ytr\"\n",
    "ytr = data_train.target\n",
    "print \"ytr:\",ytr"
   ]
  },
  {
   "cell_type": "code",
   "execution_count": 13,
   "metadata": {
    "collapsed": false
   },
   "outputs": [
    {
     "name": "stdout",
     "output_type": "stream",
     "text": [
      "Xtt:\n",
      "  (0, 23500)\t0.111233327737\n",
      "  (0, 23280)\t0.210373500782\n",
      "  (0, 23255)\t0.113152785004\n",
      "  (0, 23059)\t0.0868944902209\n",
      "  (0, 22921)\t0.0829555655377\n",
      "  (0, 21402)\t0.120130364054\n",
      "  (0, 21347)\t0.180749697284\n",
      "  (0, 21239)\t0.0559494523585\n",
      "  (0, 21225)\t0.0848093784106\n",
      "  (0, 21171)\t0.0880509912196\n",
      "  (0, 21152)\t0.0735365087614\n",
      "  (0, 21151)\t0.0472859613265\n",
      "  (0, 21147)\t0.0858893005799\n",
      "  (0, 20865)\t0.110611145737\n",
      "  (0, 19768)\t0.100148818521\n",
      "  (0, 19616)\t0.174811284866\n",
      "  (0, 19241)\t0.167895925553\n",
      "  (0, 18707)\t0.156380936726\n",
      "  (0, 18615)\t0.226688869724\n",
      "  (0, 18381)\t0.196292352913\n",
      "  (0, 18147)\t0.13828402357\n",
      "  (0, 17694)\t0.153330216818\n",
      "  (0, 17668)\t0.118018430146\n",
      "  (0, 17134)\t0.163564614861\n",
      "  (0, 16498)\t0.174811284866\n",
      "  :\t:\n",
      "  (1101, 5409)\t0.0862588206184\n",
      "  (1101, 5389)\t0.0887227157052\n",
      "  (1101, 5360)\t0.0901284537584\n",
      "  (1101, 4963)\t0.390650659569\n",
      "  (1101, 4758)\t0.107885952375\n",
      "  (1101, 4729)\t0.100121128637\n",
      "  (1101, 4567)\t0.107885952375\n",
      "  (1101, 4276)\t0.107885952375\n",
      "  (1101, 4258)\t0.21577190475\n",
      "  (1101, 4094)\t0.060410475519\n",
      "  (1101, 3421)\t0.0303427001852\n",
      "  (1101, 3326)\t0.0856801688391\n",
      "  (1101, 3023)\t0.0412547569128\n",
      "  (1101, 2832)\t0.0349311754984\n",
      "  (1101, 2763)\t0.100351741241\n",
      "  (1101, 2678)\t0.0784994282226\n",
      "  (1101, 2457)\t0.0760355331357\n",
      "  (1101, 2293)\t0.0341153498863\n",
      "  (1101, 2280)\t0.0806616954938\n",
      "  (1101, 1976)\t0.0916824250809\n",
      "  (1101, 1321)\t0.0916824250809\n",
      "  (1101, 1027)\t0.0874393774097\n",
      "  (1101, 993)\t0.0916824250809\n",
      "  (1101, 689)\t0.0916824250809\n",
      "  (1101, 453)\t0.0916824250809\n",
      "ytt: [2 1 1 ..., 0 1 2]\n"
     ]
    }
   ],
   "source": [
    "# store testing feature matrix in \"Xtt\"\n",
    "Xtt = data_test_vectors\n",
    "print \"Xtt:\\n\", Xtt\n",
    "\n",
    "# store testing response vector in \"ytt\"\n",
    "ytt = data_test.target\n",
    "print \"ytt:\",ytt"
   ]
  },
  {
   "cell_type": "markdown",
   "metadata": {},
   "source": [
    "## Different Classification Models"
   ]
  },
  {
   "cell_type": "markdown",
   "metadata": {},
   "source": [
    "## Multinomial Naive Bayes (MNB) classification"
   ]
  },
  {
   "cell_type": "code",
   "execution_count": 14,
   "metadata": {
    "collapsed": true
   },
   "outputs": [],
   "source": [
    "# import the required module from scikit learn\n",
    "from sklearn.naive_bayes import MultinomialNB"
   ]
  },
  {
   "cell_type": "code",
   "execution_count": 15,
   "metadata": {
    "collapsed": false
   },
   "outputs": [
    {
     "name": "stdout",
     "output_type": "stream",
     "text": [
      "Predicted Class Labels: [2 1 1 ..., 0 1 2]\n",
      "Predicted Score:\n",
      "[[  1.71645785e-04   1.70128334e-05   9.99811341e-01]\n",
      " [  1.69706932e-02   9.64857163e-01   1.81721442e-02]\n",
      " [  9.11167956e-03   8.37863724e-01   1.53024597e-01]\n",
      " ..., \n",
      " [  9.99212514e-01   1.77703657e-04   6.09782646e-04]\n",
      " [  1.81952997e-02   8.53728542e-01   1.28076159e-01]\n",
      " [  1.35341102e-07   6.95315476e-09   9.99999858e-01]]\n"
     ]
    }
   ],
   "source": [
    "# Implementing classification model- using MultinomialNB\n",
    "\n",
    "# Instantiate the estimator\n",
    "clf_MNB = MultinomialNB(alpha=.01)\n",
    "\n",
    "# Fit the model with data (aka \"model training\")\n",
    "clf_MNB.fit(Xtr, ytr)\n",
    "\n",
    "# Predict the response for a new observation\n",
    "y_pred = clf_MNB.predict(Xtt)\n",
    "print \"Predicted Class Labels:\",y_pred\n",
    "\n",
    "# Predict the response score for a new observation\n",
    "y_pred_score_mnb = clf_MNB.predict_proba(Xtt)\n",
    "print \"Predicted Score:\\n\",y_pred_score_mnb"
   ]
  },
  {
   "cell_type": "markdown",
   "metadata": {},
   "source": [
    "## K-Nearest Neighbors (KNN) classification"
   ]
  },
  {
   "cell_type": "code",
   "execution_count": 16,
   "metadata": {
    "collapsed": true
   },
   "outputs": [],
   "source": [
    "# import the required module from scikit learn\n",
    "from sklearn.neighbors import KNeighborsClassifier"
   ]
  },
  {
   "cell_type": "code",
   "execution_count": 17,
   "metadata": {
    "collapsed": false
   },
   "outputs": [
    {
     "name": "stdout",
     "output_type": "stream",
     "text": [
      "Predicted Class Labels: [1 1 1 ..., 0 0 2]\n",
      "Predicted Score:\n",
      "[[ 0.2  0.4  0.4]\n",
      " [ 0.2  0.4  0.4]\n",
      " [ 0.2  0.4  0.4]\n",
      " ..., \n",
      " [ 0.4  0.4  0.2]\n",
      " [ 0.4  0.4  0.2]\n",
      " [ 0.2  0.   0.8]]\n"
     ]
    }
   ],
   "source": [
    "# Implementing classification model- using KNeighborsClassifier\n",
    "\n",
    "# Instantiate the estimator\n",
    "clf_knn =  KNeighborsClassifier(n_neighbors=5)\n",
    "\n",
    "# Fit the model with data (aka \"model training\")\n",
    "clf_knn.fit(Xtr, ytr)\n",
    "\n",
    "# Predict the response for a new observation\n",
    "y_pred = clf_knn.predict(Xtt)\n",
    "print \"Predicted Class Labels:\",y_pred\n",
    "\n",
    "# Predict the response score for a new observation\n",
    "y_pred_score_knn = clf_knn.predict_proba(Xtt)\n",
    "print \"Predicted Score:\\n\",y_pred_score_knn"
   ]
  },
  {
   "cell_type": "markdown",
   "metadata": {},
   "source": [
    "## Support Vector Machine (SVM) classification"
   ]
  },
  {
   "cell_type": "code",
   "execution_count": 18,
   "metadata": {
    "collapsed": true
   },
   "outputs": [],
   "source": [
    "# import the required module from scikit learn\n",
    "from sklearn.svm import LinearSVC"
   ]
  },
  {
   "cell_type": "code",
   "execution_count": 19,
   "metadata": {
    "collapsed": false
   },
   "outputs": [
    {
     "name": "stdout",
     "output_type": "stream",
     "text": [
      "Predicted Class Labels: [2 1 1 ..., 0 1 2]\n",
      "Predicted Score:\n",
      "[[-0.91447535 -1.20717055  0.97391877]\n",
      " [-0.47323622  0.5473231  -1.20325734]\n",
      " [-0.55321954 -0.01814922 -0.46917784]\n",
      " ..., \n",
      " [ 0.92731961 -0.74358676 -1.29886538]\n",
      " [-0.51671614 -0.09978926 -0.40716124]\n",
      " [-0.88443233 -1.15580818  0.9553737 ]]\n"
     ]
    }
   ],
   "source": [
    "# Implementing classification model- using LinearSVC\n",
    "\n",
    "# Instantiate the estimator\n",
    "clf_svc =  LinearSVC()\n",
    "\n",
    "# Fit the model with data (aka \"model training\")\n",
    "clf_svc.fit(Xtr, ytr)\n",
    "\n",
    "# Predict the response for a new observation\n",
    "y_pred = clf_svc.predict(Xtt)\n",
    "print \"Predicted Class Labels:\",y_pred\n",
    "\n",
    "# Predict the response score for a new observation\n",
    "y_pred_score_svc = clf_svc.decision_function(Xtt)\n",
    "print \"Predicted Score:\\n\",y_pred_score_svc"
   ]
  },
  {
   "cell_type": "markdown",
   "metadata": {},
   "source": [
    "## Evaluating & Comparing Machine Learning Models"
   ]
  },
  {
   "cell_type": "markdown",
   "metadata": {},
   "source": [
    "### Cross-Validation: K-fold\n",
    "- Measurement of Generalization Performance\n",
    "- For estimation of variation \n",
    "- Divide the data into K folds <br></br>\n",
    "    - For k = 1…K <br></br>\n",
    "        • Train on K-1 sets leaving the kth set out for validation <br></br>\n",
    "        • Validate on the kth set and obtain the performance metrics \n",
    "- Report the average and the variation in the performance"
   ]
  },
  {
   "cell_type": "markdown",
   "metadata": {},
   "source": [
    "Diagram of **5-fold cross-validation:**\n",
    "\n",
    "![5-fold cross-validation](images/07_cross_validation_diagram.png)"
   ]
  },
  {
   "cell_type": "markdown",
   "metadata": {},
   "source": [
    "## Cross-validation: Model Selection"
   ]
  },
  {
   "cell_type": "code",
   "execution_count": 20,
   "metadata": {
    "collapsed": true
   },
   "outputs": [],
   "source": [
    "# import the required module\n",
    "from sklearn.cross_validation import cross_val_score"
   ]
  },
  {
   "cell_type": "code",
   "execution_count": 21,
   "metadata": {
    "collapsed": false
   },
   "outputs": [
    {
     "name": "stdout",
     "output_type": "stream",
     "text": [
      "MultinomialNB 10-Cross Validation Score: 0.922130634678\n"
     ]
    }
   ],
   "source": [
    "# 10-fold cross-validation with MNB model\n",
    "clf_mnb = MultinomialNB(alpha=.01)\n",
    "print \"MultinomialNB 10-Cross Validation Score:\",cross_val_score(clf_mnb, Xtr, ytr, cv=10, scoring='accuracy').mean()"
   ]
  },
  {
   "cell_type": "code",
   "execution_count": 22,
   "metadata": {
    "collapsed": false
   },
   "outputs": [
    {
     "name": "stdout",
     "output_type": "stream",
     "text": [
      "KNN 10-Cross Validation Score: 0.822617459495\n"
     ]
    }
   ],
   "source": [
    "# 10-fold cross-validation with KNN model\n",
    "clf_knn = KNeighborsClassifier(n_neighbors=55)\n",
    "print \"KNN 10-Cross Validation Score:\",cross_val_score(clf_knn, Xtr, ytr, cv=10, scoring='accuracy').mean()"
   ]
  },
  {
   "cell_type": "code",
   "execution_count": 23,
   "metadata": {
    "collapsed": false
   },
   "outputs": [
    {
     "name": "stdout",
     "output_type": "stream",
     "text": [
      "KNN 10-Cross Validation Score: 0.904061428075\n"
     ]
    }
   ],
   "source": [
    "# 10-fold cross-validation with Linear SVM model\n",
    "clf_svc = LinearSVC(C=1)\n",
    "print \"KNN 10-Cross Validation Score:\",cross_val_score(clf_svc, Xtr, ytr, cv=10, scoring='accuracy').mean()"
   ]
  },
  {
   "cell_type": "markdown",
   "metadata": {},
   "source": [
    "## Efficiently searching for optimal tuning parameters"
   ]
  },
  {
   "cell_type": "markdown",
   "metadata": {},
   "source": [
    "## More efficient parameter tuning using `GridSearchCV`"
   ]
  },
  {
   "cell_type": "markdown",
   "metadata": {},
   "source": [
    "Allows to define a **grid of parameters** that will be **searched** using K-fold cross-validation"
   ]
  },
  {
   "cell_type": "code",
   "execution_count": 24,
   "metadata": {
    "collapsed": true
   },
   "outputs": [],
   "source": [
    "# importing the required module\n",
    "from sklearn.grid_search import GridSearchCV"
   ]
  },
  {
   "cell_type": "markdown",
   "metadata": {},
   "source": [
    "### `GridSearchCV` for KNN"
   ]
  },
  {
   "cell_type": "code",
   "execution_count": 25,
   "metadata": {
    "collapsed": false
   },
   "outputs": [
    {
     "name": "stdout",
     "output_type": "stream",
     "text": [
      "[1, 2, 3, 4, 5, 6, 7, 8, 9, 10, 11, 12, 13, 14, 15, 16, 17, 18, 19, 20, 21, 22, 23, 24, 25, 26, 27, 28, 29, 30, 31, 32, 33, 34, 35, 36, 37, 38, 39, 40, 41, 42, 43, 44, 45, 46, 47, 48, 49, 50, 51, 52, 53, 54, 55, 56, 57, 58, 59, 60, 61, 62, 63, 64, 65, 66, 67, 68, 69, 70, 71, 72, 73, 74, 75, 76, 77, 78, 79, 80, 81, 82, 83, 84, 85, 86, 87, 88, 89, 90, 91, 92, 93, 94, 95, 96, 97, 98, 99]\n",
      "['uniform', 'distance']\n"
     ]
    }
   ],
   "source": [
    "# define the parameter values that should be searched for KNN\n",
    "k_range = range(1, 100)\n",
    "weight_options = ['uniform', 'distance']\n",
    "print k_range\n",
    "print weight_options"
   ]
  },
  {
   "cell_type": "code",
   "execution_count": 26,
   "metadata": {
    "collapsed": false
   },
   "outputs": [
    {
     "name": "stdout",
     "output_type": "stream",
     "text": [
      "{'n_neighbors': [1, 2, 3, 4, 5, 6, 7, 8, 9, 10, 11, 12, 13, 14, 15, 16, 17, 18, 19, 20, 21, 22, 23, 24, 25, 26, 27, 28, 29, 30, 31, 32, 33, 34, 35, 36, 37, 38, 39, 40, 41, 42, 43, 44, 45, 46, 47, 48, 49, 50, 51, 52, 53, 54, 55, 56, 57, 58, 59, 60, 61, 62, 63, 64, 65, 66, 67, 68, 69, 70, 71, 72, 73, 74, 75, 76, 77, 78, 79, 80, 81, 82, 83, 84, 85, 86, 87, 88, 89, 90, 91, 92, 93, 94, 95, 96, 97, 98, 99], 'weights': ['uniform', 'distance']}\n"
     ]
    }
   ],
   "source": [
    "# create a parameter grid: map the parameter names to the values that should be searched for KNN\n",
    "param_grid = dict(n_neighbors=k_range, weights=weight_options)\n",
    "print param_grid"
   ]
  },
  {
   "cell_type": "code",
   "execution_count": 27,
   "metadata": {
    "collapsed": true
   },
   "outputs": [],
   "source": [
    "# instantiate the grid\n",
    "grid = GridSearchCV(clf_knn, param_grid, cv=10, scoring='accuracy')"
   ]
  },
  {
   "cell_type": "code",
   "execution_count": 96,
   "metadata": {
    "collapsed": false
   },
   "outputs": [
    {
     "data": {
      "text/plain": [
       "GridSearchCV(cv=10, error_score='raise',\n",
       "       estimator=KNeighborsClassifier(algorithm='auto', leaf_size=30, metric='minkowski',\n",
       "           metric_params=None, n_neighbors=55, p=2, weights='uniform'),\n",
       "       fit_params={}, iid=True, loss_func=None, n_jobs=1,\n",
       "       param_grid={'n_neighbors': [1, 2, 3, 4, 5, 6, 7, 8, 9, 10, 11, 12, 13, 14, 15, 16, 17, 18, 19, 20, 21, 22, 23, 24, 25, 26, 27, 28, 29, 30, 31, 32, 33, 34, 35, 36, 37, 38, 39, 40, 41, 42, 43, 44, 45, 46, 47, 48, 49, 50, 51, 52, 53, 54, 55, 56, 57, 58, 59, 60, 61, 62, 63, 64, 65, 66, 67, 68, 69, 70, 71, 72, 73, 74, 75, 76, 77, 78, 79, 80, 81, 82, 83, 84, 85, 86, 87, 88, 89, 90, 91, 92, 93, 94, 95, 96, 97, 98, 99], 'weights': ['uniform', 'distance']},\n",
       "       pre_dispatch='2*n_jobs', refit=True, score_func=None,\n",
       "       scoring='accuracy', verbose=0)"
      ]
     },
     "execution_count": 96,
     "metadata": {},
     "output_type": "execute_result"
    }
   ],
   "source": [
    "# fit the grid with data\n",
    "grid.fit(Xtr, ytr)"
   ]
  },
  {
   "cell_type": "code",
   "execution_count": 97,
   "metadata": {
    "collapsed": false
   },
   "outputs": [
    {
     "data": {
      "text/plain": [
       "[mean: 0.41340, std: 0.03138, params: {'n_neighbors': 1, 'weights': 'uniform'},\n",
       " mean: 0.41340, std: 0.03138, params: {'n_neighbors': 1, 'weights': 'distance'},\n",
       " mean: 0.38684, std: 0.03524, params: {'n_neighbors': 2, 'weights': 'uniform'},\n",
       " mean: 0.41340, std: 0.03138, params: {'n_neighbors': 2, 'weights': 'distance'},\n",
       " mean: 0.42305, std: 0.01972, params: {'n_neighbors': 3, 'weights': 'uniform'},\n",
       " mean: 0.42486, std: 0.01956, params: {'n_neighbors': 3, 'weights': 'distance'},\n",
       " mean: 0.35305, std: 0.02388, params: {'n_neighbors': 4, 'weights': 'uniform'},\n",
       " mean: 0.36210, std: 0.02029, params: {'n_neighbors': 4, 'weights': 'distance'},\n",
       " mean: 0.35908, std: 0.02758, params: {'n_neighbors': 5, 'weights': 'uniform'},\n",
       " mean: 0.37115, std: 0.02535, params: {'n_neighbors': 5, 'weights': 'distance'},\n",
       " mean: 0.36934, std: 0.02521, params: {'n_neighbors': 6, 'weights': 'uniform'},\n",
       " mean: 0.38202, std: 0.02475, params: {'n_neighbors': 6, 'weights': 'distance'},\n",
       " mean: 0.37055, std: 0.02437, params: {'n_neighbors': 7, 'weights': 'uniform'},\n",
       " mean: 0.37839, std: 0.02310, params: {'n_neighbors': 7, 'weights': 'distance'},\n",
       " mean: 0.37115, std: 0.01866, params: {'n_neighbors': 8, 'weights': 'uniform'},\n",
       " mean: 0.38202, std: 0.02145, params: {'n_neighbors': 8, 'weights': 'distance'},\n",
       " mean: 0.37176, std: 0.02957, params: {'n_neighbors': 9, 'weights': 'uniform'},\n",
       " mean: 0.37960, std: 0.03203, params: {'n_neighbors': 9, 'weights': 'distance'},\n",
       " mean: 0.36451, std: 0.02136, params: {'n_neighbors': 10, 'weights': 'uniform'},\n",
       " mean: 0.37417, std: 0.02519, params: {'n_neighbors': 10, 'weights': 'distance'},\n",
       " mean: 0.36270, std: 0.02791, params: {'n_neighbors': 11, 'weights': 'uniform'},\n",
       " mean: 0.37357, std: 0.02719, params: {'n_neighbors': 11, 'weights': 'distance'},\n",
       " mean: 0.37357, std: 0.02937, params: {'n_neighbors': 12, 'weights': 'uniform'},\n",
       " mean: 0.38383, std: 0.02829, params: {'n_neighbors': 12, 'weights': 'distance'},\n",
       " mean: 0.36572, std: 0.02466, params: {'n_neighbors': 13, 'weights': 'uniform'},\n",
       " mean: 0.37417, std: 0.02026, params: {'n_neighbors': 13, 'weights': 'distance'},\n",
       " mean: 0.36210, std: 0.02884, params: {'n_neighbors': 14, 'weights': 'uniform'},\n",
       " mean: 0.36934, std: 0.03045, params: {'n_neighbors': 14, 'weights': 'distance'},\n",
       " mean: 0.37115, std: 0.03083, params: {'n_neighbors': 15, 'weights': 'uniform'},\n",
       " mean: 0.37779, std: 0.02833, params: {'n_neighbors': 15, 'weights': 'distance'},\n",
       " mean: 0.36693, std: 0.01809, params: {'n_neighbors': 16, 'weights': 'uniform'},\n",
       " mean: 0.37236, std: 0.01821, params: {'n_neighbors': 16, 'weights': 'distance'},\n",
       " mean: 0.36150, std: 0.02204, params: {'n_neighbors': 17, 'weights': 'uniform'},\n",
       " mean: 0.37055, std: 0.02184, params: {'n_neighbors': 17, 'weights': 'distance'},\n",
       " mean: 0.36995, std: 0.01352, params: {'n_neighbors': 18, 'weights': 'uniform'},\n",
       " mean: 0.37719, std: 0.01510, params: {'n_neighbors': 18, 'weights': 'distance'},\n",
       " mean: 0.36995, std: 0.03412, params: {'n_neighbors': 19, 'weights': 'uniform'},\n",
       " mean: 0.37960, std: 0.03173, params: {'n_neighbors': 19, 'weights': 'distance'},\n",
       " mean: 0.36995, std: 0.04080, params: {'n_neighbors': 20, 'weights': 'uniform'},\n",
       " mean: 0.38443, std: 0.04004, params: {'n_neighbors': 20, 'weights': 'distance'},\n",
       " mean: 0.37357, std: 0.03570, params: {'n_neighbors': 21, 'weights': 'uniform'},\n",
       " mean: 0.37719, std: 0.03521, params: {'n_neighbors': 21, 'weights': 'distance'},\n",
       " mean: 0.36210, std: 0.03468, params: {'n_neighbors': 22, 'weights': 'uniform'},\n",
       " mean: 0.36995, std: 0.03444, params: {'n_neighbors': 22, 'weights': 'distance'},\n",
       " mean: 0.36934, std: 0.03910, params: {'n_neighbors': 23, 'weights': 'uniform'},\n",
       " mean: 0.37658, std: 0.03146, params: {'n_neighbors': 23, 'weights': 'distance'},\n",
       " mean: 0.36632, std: 0.03645, params: {'n_neighbors': 24, 'weights': 'uniform'},\n",
       " mean: 0.37719, std: 0.03585, params: {'n_neighbors': 24, 'weights': 'distance'},\n",
       " mean: 0.37176, std: 0.03672, params: {'n_neighbors': 25, 'weights': 'uniform'},\n",
       " mean: 0.38202, std: 0.03347, params: {'n_neighbors': 25, 'weights': 'distance'},\n",
       " mean: 0.36512, std: 0.03266, params: {'n_neighbors': 26, 'weights': 'uniform'},\n",
       " mean: 0.37296, std: 0.03158, params: {'n_neighbors': 26, 'weights': 'distance'},\n",
       " mean: 0.38021, std: 0.03350, params: {'n_neighbors': 27, 'weights': 'uniform'},\n",
       " mean: 0.38986, std: 0.02901, params: {'n_neighbors': 27, 'weights': 'distance'},\n",
       " mean: 0.36210, std: 0.02377, params: {'n_neighbors': 28, 'weights': 'uniform'},\n",
       " mean: 0.37900, std: 0.02379, params: {'n_neighbors': 28, 'weights': 'distance'},\n",
       " mean: 0.37357, std: 0.02647, params: {'n_neighbors': 29, 'weights': 'uniform'},\n",
       " mean: 0.38443, std: 0.02651, params: {'n_neighbors': 29, 'weights': 'distance'},\n",
       " mean: 0.37055, std: 0.01595, params: {'n_neighbors': 30, 'weights': 'uniform'},\n",
       " mean: 0.38443, std: 0.01658, params: {'n_neighbors': 30, 'weights': 'distance'},\n",
       " mean: 0.38262, std: 0.02253, params: {'n_neighbors': 31, 'weights': 'uniform'},\n",
       " mean: 0.39348, std: 0.01995, params: {'n_neighbors': 31, 'weights': 'distance'},\n",
       " mean: 0.37115, std: 0.03113, params: {'n_neighbors': 32, 'weights': 'uniform'},\n",
       " mean: 0.37900, std: 0.02924, params: {'n_neighbors': 32, 'weights': 'distance'},\n",
       " mean: 0.37176, std: 0.03044, params: {'n_neighbors': 33, 'weights': 'uniform'},\n",
       " mean: 0.37538, std: 0.02882, params: {'n_neighbors': 33, 'weights': 'distance'},\n",
       " mean: 0.36572, std: 0.02992, params: {'n_neighbors': 34, 'weights': 'uniform'},\n",
       " mean: 0.37839, std: 0.02782, params: {'n_neighbors': 34, 'weights': 'distance'},\n",
       " mean: 0.37296, std: 0.01773, params: {'n_neighbors': 35, 'weights': 'uniform'},\n",
       " mean: 0.38262, std: 0.01781, params: {'n_neighbors': 35, 'weights': 'distance'},\n",
       " mean: 0.37779, std: 0.02167, params: {'n_neighbors': 36, 'weights': 'uniform'},\n",
       " mean: 0.38805, std: 0.02061, params: {'n_neighbors': 36, 'weights': 'distance'},\n",
       " mean: 0.37658, std: 0.00970, params: {'n_neighbors': 37, 'weights': 'uniform'},\n",
       " mean: 0.38503, std: 0.01265, params: {'n_neighbors': 37, 'weights': 'distance'},\n",
       " mean: 0.36270, std: 0.01815, params: {'n_neighbors': 38, 'weights': 'uniform'},\n",
       " mean: 0.36995, std: 0.02412, params: {'n_neighbors': 38, 'weights': 'distance'},\n",
       " mean: 0.40314, std: 0.07041, params: {'n_neighbors': 39, 'weights': 'uniform'},\n",
       " mean: 0.41038, std: 0.07207, params: {'n_neighbors': 39, 'weights': 'distance'},\n",
       " mean: 0.41581, std: 0.09437, params: {'n_neighbors': 40, 'weights': 'uniform'},\n",
       " mean: 0.40736, std: 0.08290, params: {'n_neighbors': 40, 'weights': 'distance'},\n",
       " mean: 0.49547, std: 0.12809, params: {'n_neighbors': 41, 'weights': 'uniform'},\n",
       " mean: 0.42788, std: 0.09430, params: {'n_neighbors': 41, 'weights': 'distance'},\n",
       " mean: 0.51599, std: 0.13450, params: {'n_neighbors': 42, 'weights': 'uniform'},\n",
       " mean: 0.49547, std: 0.10804, params: {'n_neighbors': 42, 'weights': 'distance'},\n",
       " mean: 0.57936, std: 0.15286, params: {'n_neighbors': 43, 'weights': 'uniform'},\n",
       " mean: 0.50332, std: 0.11067, params: {'n_neighbors': 43, 'weights': 'distance'},\n",
       " mean: 0.67652, std: 0.11790, params: {'n_neighbors': 44, 'weights': 'uniform'},\n",
       " mean: 0.59143, std: 0.09192, params: {'n_neighbors': 44, 'weights': 'distance'},\n",
       " mean: 0.72299, std: 0.08352, params: {'n_neighbors': 45, 'weights': 'uniform'},\n",
       " mean: 0.65238, std: 0.07970, params: {'n_neighbors': 45, 'weights': 'distance'},\n",
       " mean: 0.76584, std: 0.07227, params: {'n_neighbors': 46, 'weights': 'uniform'},\n",
       " mean: 0.69825, std: 0.07872, params: {'n_neighbors': 46, 'weights': 'distance'},\n",
       " mean: 0.79541, std: 0.03943, params: {'n_neighbors': 47, 'weights': 'uniform'},\n",
       " mean: 0.73506, std: 0.07259, params: {'n_neighbors': 47, 'weights': 'distance'},\n",
       " mean: 0.81473, std: 0.03692, params: {'n_neighbors': 48, 'weights': 'uniform'},\n",
       " mean: 0.77067, std: 0.04303, params: {'n_neighbors': 48, 'weights': 'distance'},\n",
       " mean: 0.81895, std: 0.04022, params: {'n_neighbors': 49, 'weights': 'uniform'},\n",
       " mean: 0.79119, std: 0.03568, params: {'n_neighbors': 49, 'weights': 'distance'},\n",
       " mean: 0.81835, std: 0.04021, params: {'n_neighbors': 50, 'weights': 'uniform'},\n",
       " mean: 0.80447, std: 0.03606, params: {'n_neighbors': 50, 'weights': 'distance'},\n",
       " mean: 0.81714, std: 0.03751, params: {'n_neighbors': 51, 'weights': 'uniform'},\n",
       " mean: 0.81352, std: 0.03503, params: {'n_neighbors': 51, 'weights': 'distance'},\n",
       " mean: 0.81231, std: 0.03427, params: {'n_neighbors': 52, 'weights': 'uniform'},\n",
       " mean: 0.81533, std: 0.03642, params: {'n_neighbors': 52, 'weights': 'distance'},\n",
       " mean: 0.81110, std: 0.03001, params: {'n_neighbors': 53, 'weights': 'uniform'},\n",
       " mean: 0.81714, std: 0.03342, params: {'n_neighbors': 53, 'weights': 'distance'},\n",
       " mean: 0.81774, std: 0.03126, params: {'n_neighbors': 54, 'weights': 'uniform'},\n",
       " mean: 0.82136, std: 0.02539, params: {'n_neighbors': 54, 'weights': 'distance'},\n",
       " mean: 0.82257, std: 0.03533, params: {'n_neighbors': 55, 'weights': 'uniform'},\n",
       " mean: 0.82317, std: 0.03173, params: {'n_neighbors': 55, 'weights': 'distance'},\n",
       " mean: 0.81110, std: 0.03063, params: {'n_neighbors': 56, 'weights': 'uniform'},\n",
       " mean: 0.82559, std: 0.02844, params: {'n_neighbors': 56, 'weights': 'distance'},\n",
       " mean: 0.81835, std: 0.02585, params: {'n_neighbors': 57, 'weights': 'uniform'},\n",
       " mean: 0.82016, std: 0.02687, params: {'n_neighbors': 57, 'weights': 'distance'},\n",
       " mean: 0.81110, std: 0.03250, params: {'n_neighbors': 58, 'weights': 'uniform'},\n",
       " mean: 0.82076, std: 0.02901, params: {'n_neighbors': 58, 'weights': 'distance'},\n",
       " mean: 0.81171, std: 0.02742, params: {'n_neighbors': 59, 'weights': 'uniform'},\n",
       " mean: 0.81895, std: 0.02464, params: {'n_neighbors': 59, 'weights': 'distance'},\n",
       " mean: 0.80869, std: 0.03313, params: {'n_neighbors': 60, 'weights': 'uniform'},\n",
       " mean: 0.81412, std: 0.03240, params: {'n_neighbors': 60, 'weights': 'distance'},\n",
       " mean: 0.80507, std: 0.02671, params: {'n_neighbors': 61, 'weights': 'uniform'},\n",
       " mean: 0.81654, std: 0.03106, params: {'n_neighbors': 61, 'weights': 'distance'},\n",
       " mean: 0.79662, std: 0.02797, params: {'n_neighbors': 62, 'weights': 'uniform'},\n",
       " mean: 0.81352, std: 0.02894, params: {'n_neighbors': 62, 'weights': 'distance'},\n",
       " mean: 0.79541, std: 0.02901, params: {'n_neighbors': 63, 'weights': 'uniform'},\n",
       " mean: 0.81110, std: 0.03174, params: {'n_neighbors': 63, 'weights': 'distance'},\n",
       " mean: 0.78998, std: 0.03028, params: {'n_neighbors': 64, 'weights': 'uniform'},\n",
       " mean: 0.80688, std: 0.03155, params: {'n_neighbors': 64, 'weights': 'distance'},\n",
       " mean: 0.79481, std: 0.03366, params: {'n_neighbors': 65, 'weights': 'uniform'},\n",
       " mean: 0.80507, std: 0.02955, params: {'n_neighbors': 65, 'weights': 'distance'},\n",
       " mean: 0.79119, std: 0.02896, params: {'n_neighbors': 66, 'weights': 'uniform'},\n",
       " mean: 0.80628, std: 0.03097, params: {'n_neighbors': 66, 'weights': 'distance'},\n",
       " mean: 0.78938, std: 0.03093, params: {'n_neighbors': 67, 'weights': 'uniform'},\n",
       " mean: 0.80628, std: 0.03133, params: {'n_neighbors': 67, 'weights': 'distance'},\n",
       " mean: 0.78334, std: 0.02967, params: {'n_neighbors': 68, 'weights': 'uniform'},\n",
       " mean: 0.80145, std: 0.03462, params: {'n_neighbors': 68, 'weights': 'distance'},\n",
       " mean: 0.77852, std: 0.02612, params: {'n_neighbors': 69, 'weights': 'uniform'},\n",
       " mean: 0.80084, std: 0.02512, params: {'n_neighbors': 69, 'weights': 'distance'},\n",
       " mean: 0.77972, std: 0.03248, params: {'n_neighbors': 70, 'weights': 'uniform'},\n",
       " mean: 0.79783, std: 0.03194, params: {'n_neighbors': 70, 'weights': 'distance'},\n",
       " mean: 0.77852, std: 0.03019, params: {'n_neighbors': 71, 'weights': 'uniform'},\n",
       " mean: 0.79783, std: 0.03061, params: {'n_neighbors': 71, 'weights': 'distance'},\n",
       " mean: 0.78334, std: 0.02874, params: {'n_neighbors': 72, 'weights': 'uniform'},\n",
       " mean: 0.79541, std: 0.03369, params: {'n_neighbors': 72, 'weights': 'distance'},\n",
       " mean: 0.78153, std: 0.03245, params: {'n_neighbors': 73, 'weights': 'uniform'},\n",
       " mean: 0.79481, std: 0.03268, params: {'n_neighbors': 73, 'weights': 'distance'},\n",
       " mean: 0.78033, std: 0.02621, params: {'n_neighbors': 74, 'weights': 'uniform'},\n",
       " mean: 0.79541, std: 0.02580, params: {'n_neighbors': 74, 'weights': 'distance'},\n",
       " mean: 0.78153, std: 0.02738, params: {'n_neighbors': 75, 'weights': 'uniform'},\n",
       " mean: 0.79602, std: 0.02789, params: {'n_neighbors': 75, 'weights': 'distance'},\n",
       " mean: 0.77791, std: 0.02632, params: {'n_neighbors': 76, 'weights': 'uniform'},\n",
       " mean: 0.79421, std: 0.02614, params: {'n_neighbors': 76, 'weights': 'distance'},\n",
       " mean: 0.77912, std: 0.02612, params: {'n_neighbors': 77, 'weights': 'uniform'},\n",
       " mean: 0.79179, std: 0.03097, params: {'n_neighbors': 77, 'weights': 'distance'},\n",
       " mean: 0.77369, std: 0.02184, params: {'n_neighbors': 78, 'weights': 'uniform'},\n",
       " mean: 0.78515, std: 0.02835, params: {'n_neighbors': 78, 'weights': 'distance'},\n",
       " mean: 0.76524, std: 0.02679, params: {'n_neighbors': 79, 'weights': 'uniform'},\n",
       " mean: 0.78636, std: 0.03316, params: {'n_neighbors': 79, 'weights': 'distance'},\n",
       " mean: 0.76826, std: 0.02660, params: {'n_neighbors': 80, 'weights': 'uniform'},\n",
       " mean: 0.78214, std: 0.03115, params: {'n_neighbors': 80, 'weights': 'distance'},\n",
       " mean: 0.76162, std: 0.02597, params: {'n_neighbors': 81, 'weights': 'uniform'},\n",
       " mean: 0.78153, std: 0.03277, params: {'n_neighbors': 81, 'weights': 'distance'},\n",
       " mean: 0.76343, std: 0.02718, params: {'n_neighbors': 82, 'weights': 'uniform'},\n",
       " mean: 0.78093, std: 0.03448, params: {'n_neighbors': 82, 'weights': 'distance'},\n",
       " mean: 0.76222, std: 0.02735, params: {'n_neighbors': 83, 'weights': 'uniform'},\n",
       " mean: 0.77972, std: 0.03215, params: {'n_neighbors': 83, 'weights': 'distance'},\n",
       " mean: 0.75920, std: 0.02512, params: {'n_neighbors': 84, 'weights': 'uniform'},\n",
       " mean: 0.77429, std: 0.03014, params: {'n_neighbors': 84, 'weights': 'distance'},\n",
       " mean: 0.76222, std: 0.02770, params: {'n_neighbors': 85, 'weights': 'uniform'},\n",
       " mean: 0.77248, std: 0.02743, params: {'n_neighbors': 85, 'weights': 'distance'},\n",
       " mean: 0.76101, std: 0.02695, params: {'n_neighbors': 86, 'weights': 'uniform'},\n",
       " mean: 0.76946, std: 0.02948, params: {'n_neighbors': 86, 'weights': 'distance'},\n",
       " mean: 0.76162, std: 0.02821, params: {'n_neighbors': 87, 'weights': 'uniform'},\n",
       " mean: 0.77188, std: 0.03060, params: {'n_neighbors': 87, 'weights': 'distance'},\n",
       " mean: 0.75619, std: 0.02687, params: {'n_neighbors': 88, 'weights': 'uniform'},\n",
       " mean: 0.77188, std: 0.03136, params: {'n_neighbors': 88, 'weights': 'distance'},\n",
       " mean: 0.75438, std: 0.02821, params: {'n_neighbors': 89, 'weights': 'uniform'},\n",
       " mean: 0.76343, std: 0.02751, params: {'n_neighbors': 89, 'weights': 'distance'},\n",
       " mean: 0.75317, std: 0.03044, params: {'n_neighbors': 90, 'weights': 'uniform'},\n",
       " mean: 0.76584, std: 0.02949, params: {'n_neighbors': 90, 'weights': 'distance'},\n",
       " mean: 0.75015, std: 0.03121, params: {'n_neighbors': 91, 'weights': 'uniform'},\n",
       " mean: 0.76041, std: 0.02538, params: {'n_neighbors': 91, 'weights': 'distance'},\n",
       " mean: 0.74532, std: 0.03437, params: {'n_neighbors': 92, 'weights': 'uniform'},\n",
       " mean: 0.76041, std: 0.02649, params: {'n_neighbors': 92, 'weights': 'distance'},\n",
       " mean: 0.74834, std: 0.03251, params: {'n_neighbors': 93, 'weights': 'uniform'},\n",
       " mean: 0.75800, std: 0.03213, params: {'n_neighbors': 93, 'weights': 'distance'},\n",
       " mean: 0.74653, std: 0.03549, params: {'n_neighbors': 94, 'weights': 'uniform'},\n",
       " mean: 0.75860, std: 0.03501, params: {'n_neighbors': 94, 'weights': 'distance'},\n",
       " mean: 0.74653, std: 0.03420, params: {'n_neighbors': 95, 'weights': 'uniform'},\n",
       " mean: 0.75860, std: 0.03352, params: {'n_neighbors': 95, 'weights': 'distance'},\n",
       " mean: 0.74291, std: 0.03281, params: {'n_neighbors': 96, 'weights': 'uniform'},\n",
       " mean: 0.75679, std: 0.03543, params: {'n_neighbors': 96, 'weights': 'distance'},\n",
       " mean: 0.74351, std: 0.03506, params: {'n_neighbors': 97, 'weights': 'uniform'},\n",
       " mean: 0.75317, std: 0.03319, params: {'n_neighbors': 97, 'weights': 'distance'},\n",
       " mean: 0.73989, std: 0.03449, params: {'n_neighbors': 98, 'weights': 'uniform'},\n",
       " mean: 0.75015, std: 0.03616, params: {'n_neighbors': 98, 'weights': 'distance'},\n",
       " mean: 0.74291, std: 0.03556, params: {'n_neighbors': 99, 'weights': 'uniform'},\n",
       " mean: 0.74834, std: 0.03331, params: {'n_neighbors': 99, 'weights': 'distance'}]"
      ]
     },
     "execution_count": 97,
     "metadata": {},
     "output_type": "execute_result"
    }
   ],
   "source": [
    "# view the complete results (list of named tuples)\n",
    "grid.grid_scores_"
   ]
  },
  {
   "cell_type": "code",
   "execution_count": 98,
   "metadata": {
    "collapsed": false
   },
   "outputs": [
    {
     "name": "stdout",
     "output_type": "stream",
     "text": [
      "{'n_neighbors': 1, 'weights': 'uniform'}\n",
      "[ 0.32934132  0.41317365  0.41916168  0.42771084  0.42424242  0.38787879\n",
      "  0.43030303  0.43636364  0.42424242  0.44242424]\n",
      "0.413397706699\n"
     ]
    }
   ],
   "source": [
    "# examine the first tuple\n",
    "print grid.grid_scores_[0].parameters\n",
    "print grid.grid_scores_[0].cv_validation_scores\n",
    "print grid.grid_scores_[0].mean_validation_score"
   ]
  },
  {
   "cell_type": "code",
   "execution_count": 101,
   "metadata": {
    "collapsed": false
   },
   "outputs": [
    {
     "name": "stdout",
     "output_type": "stream",
     "text": [
      "0.825588412794\n",
      "{'n_neighbors': 56, 'weights': 'distance'}\n",
      "KNeighborsClassifier(algorithm='auto', leaf_size=30, metric='minkowski',\n",
      "           metric_params=None, n_neighbors=56, p=2, weights='distance')\n"
     ]
    }
   ],
   "source": [
    "# examine the best model\n",
    "print grid.best_score_\n",
    "print grid.best_params_\n",
    "print grid.best_estimator_"
   ]
  },
  {
   "cell_type": "markdown",
   "metadata": {},
   "source": [
    "### Reducing computational expense using `RandomizedSearchCV` for KNN"
   ]
  },
  {
   "cell_type": "markdown",
   "metadata": {},
   "source": [
    "- Searching many different parameters at once may be computationally infeasible\n",
    "- `RandomizedSearchCV` searches a subset of the parameters, and we control the computational \"budget\""
   ]
  },
  {
   "cell_type": "code",
   "execution_count": 28,
   "metadata": {
    "collapsed": true
   },
   "outputs": [],
   "source": [
    "# importing the required module\n",
    "from sklearn.grid_search import RandomizedSearchCV"
   ]
  },
  {
   "cell_type": "code",
   "execution_count": 29,
   "metadata": {
    "collapsed": false
   },
   "outputs": [
    {
     "name": "stdout",
     "output_type": "stream",
     "text": [
      "{'n_neighbors': [1, 2, 3, 4, 5, 6, 7, 8, 9, 10, 11, 12, 13, 14, 15, 16, 17, 18, 19, 20, 21, 22, 23, 24, 25, 26, 27, 28, 29, 30, 31, 32, 33, 34, 35, 36, 37, 38, 39, 40, 41, 42, 43, 44, 45, 46, 47, 48, 49, 50, 51, 52, 53, 54, 55, 56, 57, 58, 59, 60, 61, 62, 63, 64, 65, 66, 67, 68, 69, 70, 71, 72, 73, 74, 75, 76, 77, 78, 79, 80, 81, 82, 83, 84, 85, 86, 87, 88, 89, 90, 91, 92, 93, 94, 95, 96, 97, 98, 99], 'weights': ['uniform', 'distance']}\n"
     ]
    }
   ],
   "source": [
    "# specify \"parameter distributions\" rather than a \"parameter grid\"\n",
    "param_dist = dict(n_neighbors=k_range, weights=weight_options)\n",
    "print param_dist"
   ]
  },
  {
   "cell_type": "code",
   "execution_count": 30,
   "metadata": {
    "collapsed": false
   },
   "outputs": [
    {
     "data": {
      "text/plain": [
       "[mean: 0.80447, std: 0.03606, params: {'n_neighbors': 50, 'weights': 'distance'},\n",
       " mean: 0.75860, std: 0.03352, params: {'n_neighbors': 95, 'weights': 'distance'},\n",
       " mean: 0.80869, std: 0.03313, params: {'n_neighbors': 60, 'weights': 'uniform'},\n",
       " mean: 0.78153, std: 0.03245, params: {'n_neighbors': 73, 'weights': 'uniform'},\n",
       " mean: 0.38503, std: 0.01265, params: {'n_neighbors': 37, 'weights': 'distance'},\n",
       " mean: 0.35908, std: 0.02758, params: {'n_neighbors': 5, 'weights': 'uniform'},\n",
       " mean: 0.74291, std: 0.03281, params: {'n_neighbors': 96, 'weights': 'uniform'},\n",
       " mean: 0.78515, std: 0.02835, params: {'n_neighbors': 78, 'weights': 'distance'},\n",
       " mean: 0.81835, std: 0.02585, params: {'n_neighbors': 57, 'weights': 'uniform'},\n",
       " mean: 0.76826, std: 0.02660, params: {'n_neighbors': 80, 'weights': 'uniform'}]"
      ]
     },
     "execution_count": 30,
     "metadata": {},
     "output_type": "execute_result"
    }
   ],
   "source": [
    "# n_iter controls the number of searches\n",
    "rand = RandomizedSearchCV(clf_knn, param_dist, cv=10, scoring='accuracy', n_iter=10, random_state=5)\n",
    "rand.fit(Xtr, ytr)\n",
    "rand.grid_scores_"
   ]
  },
  {
   "cell_type": "code",
   "execution_count": 31,
   "metadata": {
    "collapsed": false
   },
   "outputs": [
    {
     "name": "stdout",
     "output_type": "stream",
     "text": [
      "0.818346409173\n",
      "{'n_neighbors': 57, 'weights': 'uniform'}\n"
     ]
    }
   ],
   "source": [
    "# examine the best model\n",
    "print rand.best_score_\n",
    "print rand.best_params_"
   ]
  },
  {
   "cell_type": "markdown",
   "metadata": {},
   "source": [
    "### `GridSearchCV` for Multinomial Naive Bayes"
   ]
  },
  {
   "cell_type": "code",
   "execution_count": 32,
   "metadata": {
    "collapsed": false
   },
   "outputs": [
    {
     "name": "stdout",
     "output_type": "stream",
     "text": [
      "[0.001, 0.01, 0.1, 10, 20, 30, 40, 50, 60, 70, 80, 90, 100]\n"
     ]
    }
   ],
   "source": [
    "# define the parameter values that should be searched for MNB\n",
    "alpha = [0.001, 0.01, 0.1, 10, 20, 30, 40, 50, 60, 70, 80, 90, 100]\n",
    "\n",
    "print alpha"
   ]
  },
  {
   "cell_type": "code",
   "execution_count": 33,
   "metadata": {
    "collapsed": false
   },
   "outputs": [
    {
     "name": "stdout",
     "output_type": "stream",
     "text": [
      "{'alpha': [0.001, 0.01, 0.1, 10, 20, 30, 40, 50, 60, 70, 80, 90, 100]}\n"
     ]
    }
   ],
   "source": [
    "# create a parameter grid: map the parameter names to the values that should be searched for MNB\n",
    "param_grid = dict(alpha=alpha)\n",
    "print param_grid"
   ]
  },
  {
   "cell_type": "code",
   "execution_count": 34,
   "metadata": {
    "collapsed": false
   },
   "outputs": [],
   "source": [
    "# instantiate the grid\n",
    "grid = GridSearchCV(clf_mnb, param_grid, cv=10, scoring='accuracy')"
   ]
  },
  {
   "cell_type": "code",
   "execution_count": 35,
   "metadata": {
    "collapsed": false
   },
   "outputs": [
    {
     "data": {
      "text/plain": [
       "GridSearchCV(cv=10, error_score='raise',\n",
       "       estimator=MultinomialNB(alpha=0.01, class_prior=None, fit_prior=True),\n",
       "       fit_params={}, iid=True, loss_func=None, n_jobs=1,\n",
       "       param_grid={'alpha': [0.001, 0.01, 0.1, 10, 20, 30, 40, 50, 60, 70, 80, 90, 100]},\n",
       "       pre_dispatch='2*n_jobs', refit=True, score_func=None,\n",
       "       scoring='accuracy', verbose=0)"
      ]
     },
     "execution_count": 35,
     "metadata": {},
     "output_type": "execute_result"
    }
   ],
   "source": [
    "# fit the grid with data\n",
    "grid.fit(Xtr, ytr)"
   ]
  },
  {
   "cell_type": "code",
   "execution_count": 36,
   "metadata": {
    "collapsed": false
   },
   "outputs": [
    {
     "data": {
      "text/plain": [
       "[mean: 0.91491, std: 0.02565, params: {'alpha': 0.001},\n",
       " mean: 0.92215, std: 0.02398, params: {'alpha': 0.01},\n",
       " mean: 0.92034, std: 0.02275, params: {'alpha': 0.1},\n",
       " mean: 0.76886, std: 0.02139, params: {'alpha': 10},\n",
       " mean: 0.66868, std: 0.03403, params: {'alpha': 20},\n",
       " mean: 0.60410, std: 0.02594, params: {'alpha': 30},\n",
       " mean: 0.57936, std: 0.02080, params: {'alpha': 40},\n",
       " mean: 0.56608, std: 0.02132, params: {'alpha': 50},\n",
       " mean: 0.55522, std: 0.02378, params: {'alpha': 60},\n",
       " mean: 0.54617, std: 0.02347, params: {'alpha': 70},\n",
       " mean: 0.53893, std: 0.02289, params: {'alpha': 80},\n",
       " mean: 0.53289, std: 0.02079, params: {'alpha': 90},\n",
       " mean: 0.52384, std: 0.02183, params: {'alpha': 100}]"
      ]
     },
     "execution_count": 36,
     "metadata": {},
     "output_type": "execute_result"
    }
   ],
   "source": [
    "# view the complete results (list of named tuples)\n",
    "grid.grid_scores_"
   ]
  },
  {
   "cell_type": "code",
   "execution_count": 37,
   "metadata": {
    "collapsed": false
   },
   "outputs": [
    {
     "name": "stdout",
     "output_type": "stream",
     "text": [
      "{'alpha': 0.001}\n",
      "[ 0.95209581  0.92215569  0.89820359  0.90963855  0.94545455  0.91515152\n",
      "  0.90909091  0.86060606  0.93939394  0.8969697 ]\n",
      "0.914906457453\n"
     ]
    }
   ],
   "source": [
    "# examine the first tuple\n",
    "print grid.grid_scores_[0].parameters\n",
    "print grid.grid_scores_[0].cv_validation_scores\n",
    "print grid.grid_scores_[0].mean_validation_score"
   ]
  },
  {
   "cell_type": "code",
   "execution_count": 38,
   "metadata": {
    "collapsed": false
   },
   "outputs": [
    {
     "name": "stdout",
     "output_type": "stream",
     "text": [
      "0.922148461074\n",
      "{'alpha': 0.01}\n",
      "MultinomialNB(alpha=0.01, class_prior=None, fit_prior=True)\n"
     ]
    }
   ],
   "source": [
    "# examine the best model\n",
    "print grid.best_score_\n",
    "print grid.best_params_\n",
    "print grid.best_estimator_"
   ]
  },
  {
   "cell_type": "markdown",
   "metadata": {},
   "source": [
    "### `GridSearchCV` for Linear SVM"
   ]
  },
  {
   "cell_type": "code",
   "execution_count": 39,
   "metadata": {
    "collapsed": false
   },
   "outputs": [
    {
     "name": "stdout",
     "output_type": "stream",
     "text": [
      "C: [1, 11, 21, 31, 41, 51, 61, 71, 81, 91]\n",
      "Tolerance for stopping criteria: [0.01, 0.0001, 1e-09]\n"
     ]
    }
   ],
   "source": [
    "# define the parameter values that should be searched for Linear SVM\n",
    "C = range(1,100,10)\n",
    "tol = [1e-2, 1e-4, 1e-9]\n",
    "\n",
    "print \"C:\", C\n",
    "print \"Tolerance for stopping criteria:\", tol"
   ]
  },
  {
   "cell_type": "code",
   "execution_count": 40,
   "metadata": {
    "collapsed": false
   },
   "outputs": [
    {
     "name": "stdout",
     "output_type": "stream",
     "text": [
      "{'C': [1, 11, 21, 31, 41, 51, 61, 71, 81, 91], 'tol': [0.01, 0.0001, 1e-09]}\n"
     ]
    }
   ],
   "source": [
    "# create a parameter grid: map the parameter names to the values that should be searched for SVM\n",
    "param_grid = dict(C=C, tol=tol)\n",
    "print param_grid"
   ]
  },
  {
   "cell_type": "code",
   "execution_count": 41,
   "metadata": {
    "collapsed": true
   },
   "outputs": [],
   "source": [
    "# instantiate the grid\n",
    "grid = GridSearchCV(clf_svc, param_grid, cv=10, scoring='accuracy')"
   ]
  },
  {
   "cell_type": "code",
   "execution_count": 63,
   "metadata": {
    "collapsed": false
   },
   "outputs": [
    {
     "data": {
      "text/plain": [
       "GridSearchCV(cv=10, error_score='raise',\n",
       "       estimator=LinearSVC(C=1, class_weight=None, dual=True, fit_intercept=True,\n",
       "     intercept_scaling=1, loss='squared_hinge', max_iter=1000,\n",
       "     multi_class='ovr', penalty='l2', random_state=None, tol=0.0001,\n",
       "     verbose=0),\n",
       "       fit_params={}, iid=True, loss_func=None, n_jobs=1,\n",
       "       param_grid={'C': [1, 11, 21, 31, 41, 51, 61, 71, 81, 91], 'tol': [0.01, 0.0001, 1e-09]},\n",
       "       pre_dispatch='2*n_jobs', refit=True, score_func=None,\n",
       "       scoring='accuracy', verbose=0)"
      ]
     },
     "execution_count": 63,
     "metadata": {},
     "output_type": "execute_result"
    }
   ],
   "source": [
    "# fit the grid with data\n",
    "grid.fit(Xtr, ytr)"
   ]
  },
  {
   "cell_type": "code",
   "execution_count": 64,
   "metadata": {
    "collapsed": false
   },
   "outputs": [
    {
     "data": {
      "text/plain": [
       "[mean: 0.90404, std: 0.02059, params: {'C': 1, 'tol': 0.01},\n",
       " mean: 0.90404, std: 0.02059, params: {'C': 1, 'tol': 0.0001},\n",
       " mean: 0.90404, std: 0.02059, params: {'C': 1, 'tol': 1e-09},\n",
       " mean: 0.90404, std: 0.02397, params: {'C': 11, 'tol': 0.01},\n",
       " mean: 0.90404, std: 0.02397, params: {'C': 11, 'tol': 0.0001},\n",
       " mean: 0.90404, std: 0.02397, params: {'C': 11, 'tol': 1e-09},\n",
       " mean: 0.90404, std: 0.02397, params: {'C': 21, 'tol': 0.01},\n",
       " mean: 0.90404, std: 0.02397, params: {'C': 21, 'tol': 0.0001},\n",
       " mean: 0.90404, std: 0.02397, params: {'C': 21, 'tol': 1e-09},\n",
       " mean: 0.90344, std: 0.02418, params: {'C': 31, 'tol': 0.01},\n",
       " mean: 0.90284, std: 0.02467, params: {'C': 31, 'tol': 0.0001},\n",
       " mean: 0.90284, std: 0.02467, params: {'C': 31, 'tol': 1e-09},\n",
       " mean: 0.90284, std: 0.02467, params: {'C': 41, 'tol': 0.01},\n",
       " mean: 0.90284, std: 0.02467, params: {'C': 41, 'tol': 0.0001},\n",
       " mean: 0.90284, std: 0.02467, params: {'C': 41, 'tol': 1e-09},\n",
       " mean: 0.90284, std: 0.02467, params: {'C': 51, 'tol': 0.01},\n",
       " mean: 0.90284, std: 0.02467, params: {'C': 51, 'tol': 0.0001},\n",
       " mean: 0.90284, std: 0.02467, params: {'C': 51, 'tol': 1e-09},\n",
       " mean: 0.90344, std: 0.02489, params: {'C': 61, 'tol': 0.01},\n",
       " mean: 0.90344, std: 0.02489, params: {'C': 61, 'tol': 0.0001},\n",
       " mean: 0.90344, std: 0.02489, params: {'C': 61, 'tol': 1e-09},\n",
       " mean: 0.90344, std: 0.02489, params: {'C': 71, 'tol': 0.01},\n",
       " mean: 0.90344, std: 0.02489, params: {'C': 71, 'tol': 0.0001},\n",
       " mean: 0.90344, std: 0.02489, params: {'C': 71, 'tol': 1e-09},\n",
       " mean: 0.90344, std: 0.02489, params: {'C': 81, 'tol': 0.01},\n",
       " mean: 0.90344, std: 0.02489, params: {'C': 81, 'tol': 0.0001},\n",
       " mean: 0.90344, std: 0.02489, params: {'C': 81, 'tol': 1e-09},\n",
       " mean: 0.90344, std: 0.02489, params: {'C': 91, 'tol': 0.01},\n",
       " mean: 0.90344, std: 0.02489, params: {'C': 91, 'tol': 0.0001},\n",
       " mean: 0.90344, std: 0.02489, params: {'C': 91, 'tol': 1e-09}]"
      ]
     },
     "execution_count": 64,
     "metadata": {},
     "output_type": "execute_result"
    }
   ],
   "source": [
    "# view the complete results (list of named tuples)\n",
    "grid.grid_scores_"
   ]
  },
  {
   "cell_type": "code",
   "execution_count": 65,
   "metadata": {
    "collapsed": false
   },
   "outputs": [
    {
     "name": "stdout",
     "output_type": "stream",
     "text": [
      "{'C': 1, 'tol': 0.01}\n",
      "[ 0.91017964  0.91017964  0.89221557  0.87349398  0.93939394  0.90909091\n",
      "  0.9030303   0.92121212  0.91515152  0.86666667]\n",
      "0.904043452022\n"
     ]
    }
   ],
   "source": [
    "# examine the first tuple\n",
    "print grid.grid_scores_[0].parameters\n",
    "print grid.grid_scores_[0].cv_validation_scores\n",
    "print grid.grid_scores_[0].mean_validation_score"
   ]
  },
  {
   "cell_type": "code",
   "execution_count": 66,
   "metadata": {
    "collapsed": false
   },
   "outputs": [
    {
     "name": "stdout",
     "output_type": "stream",
     "text": [
      "0.904043452022\n",
      "{'C': 1, 'tol': 0.01}\n",
      "LinearSVC(C=1, class_weight=None, dual=True, fit_intercept=True,\n",
      "     intercept_scaling=1, loss='squared_hinge', max_iter=1000,\n",
      "     multi_class='ovr', penalty='l2', random_state=None, tol=0.01,\n",
      "     verbose=0)\n"
     ]
    }
   ],
   "source": [
    "# examine the best model\n",
    "print grid.best_score_\n",
    "print grid.best_params_\n",
    "print grid.best_estimator_"
   ]
  },
  {
   "cell_type": "markdown",
   "metadata": {},
   "source": [
    "### Reducing computational expense using `RandomizedSearchCV` for SVM"
   ]
  },
  {
   "cell_type": "code",
   "execution_count": 67,
   "metadata": {
    "collapsed": false
   },
   "outputs": [
    {
     "name": "stdout",
     "output_type": "stream",
     "text": [
      "{'C': [1, 11, 21, 31, 41, 51, 61, 71, 81, 91], 'tol': [0.01, 0.0001, 1e-09]}\n"
     ]
    }
   ],
   "source": [
    "# specify \"parameter distributions\" rather than a \"parameter grid\"\n",
    "param_dist = dict(C=C, tol=tol)\n",
    "print param_dist"
   ]
  },
  {
   "cell_type": "code",
   "execution_count": 68,
   "metadata": {
    "collapsed": false
   },
   "outputs": [
    {
     "data": {
      "text/plain": [
       "[mean: 0.90404, std: 0.02397, params: {'C': 11, 'tol': 0.01},\n",
       " mean: 0.90284, std: 0.02467, params: {'C': 41, 'tol': 1e-09},\n",
       " mean: 0.90284, std: 0.02467, params: {'C': 51, 'tol': 0.01},\n",
       " mean: 0.90344, std: 0.02489, params: {'C': 91, 'tol': 1e-09},\n",
       " mean: 0.90404, std: 0.02397, params: {'C': 21, 'tol': 0.01},\n",
       " mean: 0.90344, std: 0.02489, params: {'C': 71, 'tol': 0.0001},\n",
       " mean: 0.90284, std: 0.02467, params: {'C': 51, 'tol': 0.0001},\n",
       " mean: 0.90284, std: 0.02467, params: {'C': 31, 'tol': 0.01},\n",
       " mean: 0.90404, std: 0.02397, params: {'C': 21, 'tol': 1e-09},\n",
       " mean: 0.90404, std: 0.02397, params: {'C': 11, 'tol': 0.0001}]"
      ]
     },
     "execution_count": 68,
     "metadata": {},
     "output_type": "execute_result"
    }
   ],
   "source": [
    "# n_iter controls the number of searches\n",
    "rand = RandomizedSearchCV(clf_svc, param_dist, cv=10, scoring='accuracy', n_iter=10, random_state=5)\n",
    "rand.fit(Xtr, ytr)\n",
    "rand.grid_scores_"
   ]
  },
  {
   "cell_type": "code",
   "execution_count": 69,
   "metadata": {
    "collapsed": false
   },
   "outputs": [
    {
     "name": "stdout",
     "output_type": "stream",
     "text": [
      "0.904043452022\n",
      "{'C': 11, 'tol': 0.01}\n"
     ]
    }
   ],
   "source": [
    "# examine the best model\n",
    "print rand.best_score_\n",
    "print rand.best_params_"
   ]
  },
  {
   "cell_type": "markdown",
   "metadata": {},
   "source": [
    "## Classification Accuracy"
   ]
  },
  {
   "cell_type": "markdown",
   "metadata": {},
   "source": [
    "- percentage of correct predictions"
   ]
  },
  {
   "cell_type": "code",
   "execution_count": 42,
   "metadata": {
    "collapsed": true
   },
   "outputs": [],
   "source": [
    "# importing the required module\n",
    "from sklearn import metrics"
   ]
  },
  {
   "cell_type": "markdown",
   "metadata": {},
   "source": [
    "###Classification Accuracy of MultinomialNB"
   ]
  },
  {
   "cell_type": "code",
   "execution_count": 43,
   "metadata": {
    "collapsed": false
   },
   "outputs": [
    {
     "name": "stdout",
     "output_type": "stream",
     "text": [
      "Predicted Class Labels: [2 1 1 ..., 0 1 2]\n",
      "Classification Accuracy: 0.885662431942\n"
     ]
    }
   ],
   "source": [
    "# Instantiate the estimator\n",
    "clf_MNB = MultinomialNB(alpha=.01)\n",
    "\n",
    "# Fit the model with data (aka \"model training\")\n",
    "clf_MNB.fit(Xtr, ytr)\n",
    "\n",
    "# Predict the response for a new observation\n",
    "y_pred_mnb = clf_MNB.predict(Xtt)\n",
    "print \"Predicted Class Labels:\",y_pred_mnb\n",
    "\n",
    "# calculate accuracy\n",
    "print \"Classification Accuracy:\",metrics.accuracy_score(ytt, y_pred_mnb)"
   ]
  },
  {
   "cell_type": "markdown",
   "metadata": {},
   "source": [
    "###Classification Accuracy of KNN"
   ]
  },
  {
   "cell_type": "code",
   "execution_count": 44,
   "metadata": {
    "collapsed": false
   },
   "outputs": [
    {
     "name": "stdout",
     "output_type": "stream",
     "text": [
      "Predicted Class Labels: [2 1 1 ..., 0 1 2]\n",
      "Classification Accuracy: 0.808529945554\n"
     ]
    }
   ],
   "source": [
    "# Instantiate the estimator\n",
    "clf_knn =  KNeighborsClassifier(n_neighbors=56, weight='distance')\n",
    "\n",
    "# Fit the model with data (aka \"model training\")\n",
    "clf_knn.fit(Xtr, ytr)\n",
    "\n",
    "# Predict the response for a new observation\n",
    "y_pred_knn = clf_knn.predict(Xtt)\n",
    "print \"Predicted Class Labels:\",y_pred_knn\n",
    "\n",
    "# calculate accuracy\n",
    "print \"Classification Accuracy:\",metrics.accuracy_score(ytt, y_pred_knn)"
   ]
  },
  {
   "cell_type": "markdown",
   "metadata": {},
   "source": [
    "###Classification Accuracy of Linear SVM"
   ]
  },
  {
   "cell_type": "code",
   "execution_count": 70,
   "metadata": {
    "collapsed": false
   },
   "outputs": [
    {
     "name": "stdout",
     "output_type": "stream",
     "text": [
      "Predicted Class Labels: [2 1 1 ..., 0 1 2]\n",
      "Classification Accuracy: 0.864791288566\n"
     ]
    }
   ],
   "source": [
    "# Instantiate the estimator\n",
    "clf_svc =  LinearSVC(C=1, tol=0.01)\n",
    "\n",
    "# Fit the model with data (aka \"model training\")\n",
    "clf_svc.fit(Xtr, ytr)\n",
    "\n",
    "# Predict the response for a new observation\n",
    "y_pred_svc = clf_svc.predict(Xtt)\n",
    "print \"Predicted Class Labels:\",y_pred_svc\n",
    "\n",
    "# calculate accuracy\n",
    "print \"Classification Accuracy:\",metrics.accuracy_score(ytt, y_pred_svc)"
   ]
  },
  {
   "cell_type": "markdown",
   "metadata": {},
   "source": [
    "## Confusion matrix\n",
    "\n",
    "- Table that describes the performance of a classification model"
   ]
  },
  {
   "cell_type": "markdown",
   "metadata": {},
   "source": [
    "###Confusion matrix of MultinomialNB"
   ]
  },
  {
   "cell_type": "code",
   "execution_count": 46,
   "metadata": {
    "collapsed": false
   },
   "outputs": [
    {
     "name": "stdout",
     "output_type": "stream",
     "text": [
      "[[272   7  40]\n",
      " [ 12 348  29]\n",
      " [ 21  17 356]]\n"
     ]
    }
   ],
   "source": [
    "# first argument is true values, second argument is predicted values\n",
    "print metrics.confusion_matrix(ytt, y_pred_mnb)"
   ]
  },
  {
   "cell_type": "markdown",
   "metadata": {},
   "source": [
    "###Confusion matrix of KNN"
   ]
  },
  {
   "cell_type": "code",
   "execution_count": 47,
   "metadata": {
    "collapsed": false
   },
   "outputs": [
    {
     "name": "stdout",
     "output_type": "stream",
     "text": [
      "[[269  10  40]\n",
      " [ 41 309  39]\n",
      " [ 58  23 313]]\n"
     ]
    }
   ],
   "source": [
    "# first argument is true values, second argument is predicted values\n",
    "print metrics.confusion_matrix(ytt, y_pred_knn)"
   ]
  },
  {
   "cell_type": "markdown",
   "metadata": {},
   "source": [
    "###Confusion matrix of Linear SVM"
   ]
  },
  {
   "cell_type": "code",
   "execution_count": 48,
   "metadata": {
    "collapsed": false
   },
   "outputs": [
    {
     "name": "stdout",
     "output_type": "stream",
     "text": [
      "[[251  14  54]\n",
      " [ 20 342  27]\n",
      " [ 24  20 350]]\n"
     ]
    }
   ],
   "source": [
    "# first argument is true values, second argument is predicted values\n",
    "print metrics.confusion_matrix(ytt, y_pred_svc)"
   ]
  },
  {
   "cell_type": "markdown",
   "metadata": {},
   "source": [
    "## Metrics computed from a confusion matrix"
   ]
  },
  {
   "cell_type": "markdown",
   "metadata": {},
   "source": [
    "**Classification Error:** Overall, how often is the classifier incorrect?\n",
    "\n",
    "- Also known as \"Misclassification Rate\""
   ]
  },
  {
   "cell_type": "code",
   "execution_count": 49,
   "metadata": {
    "collapsed": false
   },
   "outputs": [
    {
     "name": "stdout",
     "output_type": "stream",
     "text": [
      "Classification Error of MultinomialNB: 0.114337568058\n",
      "Classification Error of KNN: 0.191470054446\n",
      "Classification Error of LinearSVC: 0.144283121597\n"
     ]
    }
   ],
   "source": [
    "print \"Classification Error of MultinomialNB:\", 1 - metrics.accuracy_score(ytt, y_pred_mnb)\n",
    "print \"Classification Error of KNN:\", 1 - metrics.accuracy_score(ytt, y_pred_knn)\n",
    "print \"Classification Error of LinearSVC:\", 1 - metrics.accuracy_score(ytt, y_pred_svc)"
   ]
  },
  {
   "cell_type": "markdown",
   "metadata": {},
   "source": [
    "**Sensitivity:** When the actual value is positive, how often is the prediction correct?\n",
    "\n",
    "- How \"sensitive\" is the classifier to detecting positive instances?\n",
    "- Also known as \"True Positive Rate\" or \"Recall\""
   ]
  },
  {
   "cell_type": "code",
   "execution_count": 50,
   "metadata": {
    "collapsed": false
   },
   "outputs": [
    {
     "name": "stdout",
     "output_type": "stream",
     "text": [
      "Sensitivity of MultinomialNB: 0.885662431942\n",
      "Sensitivity of KNN: 0.808529945554\n",
      "Sensitivity of LinearSVC: 0.855716878403\n"
     ]
    }
   ],
   "source": [
    "print \"Sensitivity of MultinomialNB:\",metrics.recall_score(ytt, y_pred_mnb, average='weighted')\n",
    "print \"Sensitivity of KNN:\",metrics.recall_score(ytt, y_pred_knn, average='weighted')\n",
    "print \"Sensitivity of LinearSVC:\",metrics.recall_score(ytt, y_pred_svc, average='weighted')"
   ]
  },
  {
   "cell_type": "markdown",
   "metadata": {},
   "source": [
    "**Precision:** When a positive value is predicted, how often is the prediction correct?\n",
    "\n",
    "- How \"precise\" is the classifier when predicting positive instances?\n",
    "- TP / (TP + FP)"
   ]
  },
  {
   "cell_type": "code",
   "execution_count": 51,
   "metadata": {
    "collapsed": false
   },
   "outputs": [
    {
     "name": "stdout",
     "output_type": "stream",
     "text": [
      "Precision of MultinomialNB: 0.887859721311\n",
      "Precision of KNN: 0.816010813315\n",
      "Precision of LinearSVC: 0.857711799778\n"
     ]
    }
   ],
   "source": [
    "print \"Precision of MultinomialNB:\", metrics.precision_score(ytt, y_pred_mnb, average='weighted')\n",
    "print \"Precision of KNN:\", metrics.precision_score(ytt, y_pred_knn, average='weighted')\n",
    "print \"Precision of LinearSVC:\", metrics.precision_score(ytt, y_pred_svc, average='weighted')"
   ]
  },
  {
   "cell_type": "markdown",
   "metadata": {},
   "source": [
    "**F-measure:** \n",
    "- 2 * P * R / (P + R) "
   ]
  },
  {
   "cell_type": "code",
   "execution_count": 52,
   "metadata": {
    "collapsed": false
   },
   "outputs": [
    {
     "name": "stdout",
     "output_type": "stream",
     "text": [
      "F-measure of MultinomialNB: 0.886026838685\n",
      "F-measure of KNN: 0.809870621959\n",
      "F-measure of LinearSVC: 0.855649609735\n"
     ]
    }
   ],
   "source": [
    "print \"F-measure of MultinomialNB:\", metrics.f1_score(ytt, y_pred_mnb, average='weighted')\n",
    "print \"F-measure of KNN:\", metrics.f1_score(ytt, y_pred_knn, average='weighted')\n",
    "print \"F-measure of LinearSVC:\", metrics.f1_score(ytt, y_pred_svc, average='weighted')"
   ]
  },
  {
   "cell_type": "markdown",
   "metadata": {},
   "source": [
    "**Specificity:** When the actual value is negative, how often is the prediction correct?\n",
    "\n",
    "- How \"specific\" (or \"selective\") is the classifier in predicting positive instances?\n",
    "- TN / (TN + FP)"
   ]
  },
  {
   "cell_type": "markdown",
   "metadata": {},
   "source": [
    "**False Positive Rate:** When the actual value is negative, how often is the prediction incorrect?\n",
    "- FP / (TN + FP)"
   ]
  },
  {
   "cell_type": "markdown",
   "metadata": {},
   "source": [
    "**True Positive Rate:** When the actual value is positive, how often is the prediction correct?\n",
    "- TP / (TP + FP)"
   ]
  },
  {
   "cell_type": "markdown",
   "metadata": {},
   "source": [
    "## ROC Curves and Area Under the Curve (AUC)"
   ]
  },
  {
   "cell_type": "code",
   "execution_count": 53,
   "metadata": {
    "collapsed": true
   },
   "outputs": [],
   "source": [
    "# importing the required modules\n",
    "from sklearn.metrics import roc_curve, auc\n",
    "from sklearn.cross_validation import train_test_split\n",
    "from sklearn.preprocessing import label_binarize\n",
    "from sklearn.multiclass import OneVsRestClassifier"
   ]
  },
  {
   "cell_type": "code",
   "execution_count": 54,
   "metadata": {
    "collapsed": true
   },
   "outputs": [],
   "source": [
    "def ROC_multi_class(Xtr, ytr, Xtt, ytt, clf):\n",
    "    \n",
    "    # Binarize the output\n",
    "    ytr = label_binarize(ytr, classes=[0, 1, 2])\n",
    "    n_classes = ytr.shape[1]\n",
    "    \n",
    "    \n",
    "    random_state = np.random.RandomState(1)\n",
    "    \n",
    "    # shuffle and split training and test sets\n",
    "    X_train, X_test, y_train, y_test = train_test_split(Xtr, ytr, test_size=.5, random_state=random_state)\n",
    "    \n",
    "    # Learn to predict each class against the other\n",
    "    classifier = OneVsRestClassifier(clf)\n",
    "    classifier.fit(X_train, y_train)\n",
    "    if (clf == clf_svc):\n",
    "        y_pred_score = classifier.decision_function(Xtt)\n",
    "    else:\n",
    "        y_pred_score = classifier.predict_proba(Xtt)\n",
    "    \n",
    "    ytt = label_binarize(ytt, classes=[0, 1, 2])\n",
    "    \n",
    "    \n",
    "    # Compute ROC curve and ROC area for each class\n",
    "    fpr = dict()\n",
    "    tpr = dict()\n",
    "    roc_auc = dict()\n",
    "    for i in range(n_classes):\n",
    "        fpr[i], tpr[i], _ = roc_curve(ytt[:, i], y_pred_score[:, i])\n",
    "        roc_auc[i] = auc(fpr[i], tpr[i])\n",
    "\n",
    "    \n",
    "    # Plot ROC curves for the multiclass\n",
    "    for i in range(n_classes):\n",
    "        plt.plot(fpr[i], tpr[i], label='ROC curve of class {0} (area = {1:0.2f})'\n",
    "                                       ''.format(i, roc_auc[i]))\n",
    "    \n",
    "    plt.plot([0, 1], [0, 1], 'k--')\n",
    "    plt.xlim([0.0, 1.0])\n",
    "    plt.ylim([0.0, 1.05])\n",
    "    plt.xlabel('False Positive Rate')\n",
    "    plt.ylabel('True Positive Rate')\n",
    "    plt.title('ROC of multi-class')\n",
    "    plt.legend(loc=\"lower right\")\n",
    "    plt.show()"
   ]
  },
  {
   "cell_type": "markdown",
   "metadata": {},
   "source": [
    "### Multi-class ROC of Multinomial Naive Bayes"
   ]
  },
  {
   "cell_type": "code",
   "execution_count": 55,
   "metadata": {
    "collapsed": false
   },
   "outputs": [
    {
     "data": {
      "image/png": "[encoded data removed]",
      "text/plain": [
       "<matplotlib.figure.Figure at 0x1bb2f8d0>"
      ]
     },
     "metadata": {},
     "output_type": "display_data"
    }
   ],
   "source": [
    "# ROC for MultinomialNB\n",
    "ROC_multi_class(Xtr, ytr, Xtt, ytt, clf_MNB)"
   ]
  },
  {
   "cell_type": "code",
   "execution_count": 56,
   "metadata": {
    "collapsed": false
   },
   "outputs": [
    {
     "data": {
      "image/png": "[encoded data removed]",
      "text/plain": [
       "<matplotlib.figure.Figure at 0x19fbbf90>"
      ]
     },
     "metadata": {},
     "output_type": "display_data"
    }
   ],
   "source": [
    "# ROC for KNeighborsClassifier\n",
    "ROC_multi_class(Xtr, ytr, Xtt, ytt, clf_knn)"
   ]
  },
  {
   "cell_type": "code",
   "execution_count": 57,
   "metadata": {
    "collapsed": false
   },
   "outputs": [
    {
     "data": {
      "image/png": "[encoded data removed]",
      "text/plain": [
       "<matplotlib.figure.Figure at 0x14447350>"
      ]
     },
     "metadata": {},
     "output_type": "display_data"
    }
   ],
   "source": [
    "# ROC for LinearSVC\n",
    "ROC_multi_class(Xtr, ytr, Xtt, ytt, clf_svc)"
   ]
  },
  {
   "cell_type": "markdown",
   "metadata": {},
   "source": [
    "## PR Curves and Area Under the Curve PR (AUC-PR)"
   ]
  },
  {
   "cell_type": "code",
   "execution_count": 58,
   "metadata": {
    "collapsed": true
   },
   "outputs": [],
   "source": [
    "# importing the required module\n",
    "from sklearn.metrics import precision_recall_curve\n",
    "from sklearn.metrics import average_precision_score"
   ]
  },
  {
   "cell_type": "code",
   "execution_count": 59,
   "metadata": {
    "collapsed": false
   },
   "outputs": [],
   "source": [
    "def PR_multi_class(Xtr, ytr, Xtt, ytt, clf):\n",
    "    \n",
    "    # Binarize the output\n",
    "    ytr = label_binarize(ytr, classes=[0, 1, 2])\n",
    "    n_classes = ytr.shape[1]\n",
    "    \n",
    "    \n",
    "    random_state = np.random.RandomState(1)\n",
    "    \n",
    "    # shuffle and split training and test sets\n",
    "    X_train, X_test, y_train, y_test = train_test_split(Xtr, ytr, test_size=.5, random_state=random_state)\n",
    "    \n",
    "    # Learn to predict each class against the other\n",
    "    classifier = OneVsRestClassifier(clf)\n",
    "    classifier.fit(X_train, y_train)\n",
    "    if (clf == clf_svc):\n",
    "        y_pred_score = classifier.decision_function(Xtt)\n",
    "    else:\n",
    "        y_pred_score = classifier.predict_proba(Xtt)\n",
    "    \n",
    "    ytt = label_binarize(ytt, classes=[0, 1, 2])\n",
    "    \n",
    "    # Compute Precision-Recall and plot curve\n",
    "    precision = dict()\n",
    "    recall = dict()\n",
    "    average_precision = dict()\n",
    "    for i in range(n_classes):\n",
    "        precision[i], recall[i], _ = precision_recall_curve(ytt[:, i], y_pred_score[:, i])\n",
    "        average_precision[i] = average_precision_score(ytt[:, i], y_pred_score[:, i])\n",
    "    \n",
    "    for i in range(n_classes):\n",
    "        plt.plot(recall[i], precision[i], label='PR curve of class {0} (area = {1:0.2f})'\n",
    "                       ''.format(i, average_precision[i]))\n",
    "    \n",
    "    plt.xlim([0.0, 1.0])\n",
    "    plt.ylim([0.0, 1.05])\n",
    "    plt.xlabel('Recall')\n",
    "    plt.ylabel('Precision')\n",
    "    plt.title('Precision-Recall curve of multi-class')\n",
    "    plt.legend(loc=\"lower right\")\n",
    "    plt.show()"
   ]
  },
  {
   "cell_type": "code",
   "execution_count": 60,
   "metadata": {
    "collapsed": false
   },
   "outputs": [
    {
     "data": {
      "image/png": "[encoded data removed]",
      "text/plain": [
       "<matplotlib.figure.Figure at 0x19efcff0>"
      ]
     },
     "metadata": {},
     "output_type": "display_data"
    }
   ],
   "source": [
    "# PR curve of MultinomialNB\n",
    "PR_multi_class(Xtr, ytr, Xtt, ytt, clf_MNB)"
   ]
  },
  {
   "cell_type": "code",
   "execution_count": 61,
   "metadata": {
    "collapsed": false
   },
   "outputs": [
    {
     "data": {
      "image/png": "[encoded data removed]",
      "text/plain": [
       "<matplotlib.figure.Figure at 0xe75fe90>"
      ]
     },
     "metadata": {},
     "output_type": "display_data"
    }
   ],
   "source": [
    "# PR curve of KNeighborsClassifier\n",
    "PR_multi_class(Xtr, ytr, Xtt, ytt, clf_knn)"
   ]
  },
  {
   "cell_type": "code",
   "execution_count": 62,
   "metadata": {
    "collapsed": false
   },
   "outputs": [
    {
     "data": {
      "image/png": "[encoded data removed]",
      "text/plain": [
       "<matplotlib.figure.Figure at 0x19649430>"
      ]
     },
     "metadata": {},
     "output_type": "display_data"
    }
   ],
   "source": [
    "# PR curve of LinearSVC\n",
    "PR_multi_class(Xtr, ytr, Xtt, ytt, clf_svc)"
   ]
  },
  {
   "cell_type": "markdown",
   "metadata": {},
   "source": [
    "## Benchmarking of Different Classifiers"
   ]
  },
  {
   "cell_type": "markdown",
   "metadata": {},
   "source": [
    "Diagram of **Benchmarking of different Classifiers:**\n",
    "\n",
    "![benchmarking](images/benchmark.png)"
   ]
  },
  {
   "cell_type": "markdown",
   "metadata": {},
   "source": [
    "## References"
   ]
  },
  {
   "cell_type": "markdown",
   "metadata": {},
   "source": [
    "- http://scikit-learn.org/stable/modules/svm.html\n",
    "- http://scikit-learn.org/stable/tutorial/basic/tutorial.html\n",
    "- http://scikitlearn.org/stable/modules/grid_search.html\n",
    "- http://scikit-learn.org/stable/datasets/twenty_newsgroups.html\n",
    "- http://scikit-learn.org/stable/auto_examples/text/document_classification_20newsgroups.html#example-text-document-classification-20newsgroups-py\n",
    "- http://scikit-learn.org/stable/auto_examples/model_selection/grid_search_text_feature_extraction.html#example-model-selection-grid-search-text-feature-extraction-py\n",
    "- https://en.wikipedia.org/wiki/Sensitivity_and_specificity\n",
    "- https://en.wikipedia.org/wiki/Sensitivity_and_specificity\n",
    "- http://scikitlearn.org/stable/modules/generated/sklearn.metrics.roc_curve.html\n",
    "- http://scikitlearn.org/stable/auto_examples/model_selection/plot_roc.html#example-model-selection-plotroc-py\n",
    "- http://scikitlearn.org/stable/model_selection.html"
   ]
  }
 ],
 "metadata": {
  "kernelspec": {
   "display_name": "Python 2",
   "language": "python",
   "name": "python2"
  },
  "language_info": {
   "codemirror_mode": {
    "name": "ipython",
    "version": 2
   },
   "file_extension": ".py",
   "mimetype": "text/x-python",
   "name": "python",
   "nbconvert_exporter": "python",
   "pygments_lexer": "ipython2",
   "version": "2.7.10"
  }
 },
 "nbformat": 4,
 "nbformat_minor": 0
}
